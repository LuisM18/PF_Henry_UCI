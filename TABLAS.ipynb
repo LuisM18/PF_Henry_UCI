{
 "cells": [
  {
   "cell_type": "code",
   "execution_count": 1,
   "metadata": {},
   "outputs": [],
   "source": [
    "#LIBRERIAS\n",
    "import pandas as pd\n",
    "import numpy as np\n",
    "import mysql.connector"
   ]
  },
  {
   "attachments": {},
   "cell_type": "markdown",
   "metadata": {},
   "source": [
    "./EDA_UCI/dataset/"
   ]
  },
  {
   "cell_type": "code",
   "execution_count": 2,
   "metadata": {},
   "outputs": [],
   "source": [
    "# Conectar a la base de datos \n",
    "cnx = mysql.connector.connect(user='administrador123', password='pasword123.',\n",
    "                              host='proyectdb.mysql.database.azure.com', database='proyectdb', connect_timeout=174000)\n",
    "cursor = cnx.cursor()\n"
   ]
  },
  {
   "cell_type": "code",
   "execution_count": 3,
   "metadata": {},
   "outputs": [],
   "source": [
    "# Crear la tabla en la base de datos\n",
    "create_table_query = \"\"\"\n",
    "CREATE TABLE admissions2 (\n",
    "  ROW_ID INT NOT NULL,\n",
    "  SUBJECT_ID INT NOT NULL,\n",
    "  HADM_ID INT NOT NULL,\n",
    "  ADMITTIME DATE,\n",
    "  DISCHTIME DATE,\n",
    "  DEATHTIME DATE,\n",
    "  ADMISSION_TYPE VARCHAR(50) NOT NULL,\n",
    "  ADMISSION_LOCATION VARCHAR(50),\n",
    "  DISCHARGE_LOCATION VARCHAR(50),\n",
    "  INSURANCE VARCHAR(255) NOT NULL,\n",
    "  LANGUAGE VARCHAR(10),\n",
    "  RELIGION VARCHAR(50),\n",
    "  MARITAL_STATUS VARCHAR(50),\n",
    "  ETHNICITY VARCHAR(200),\n",
    "  EDREGTIME DATE,\n",
    "  EDOUTTIME DATE,\n",
    "  DIAGNOSIS VARCHAR(300),\n",
    "  HOSPITAL_EXPIRE_FLAG TINYINT NOT NULL,\n",
    "  HAS_CHARTEVENTS_DATA TINYINT NOT NULL,\n",
    "  PRIMARY KEY (ROW_ID)\n",
    ") ENGINE=InnoDB\n",
    "\"\"\"\n",
    "cursor.execute(create_table_query)"
   ]
  },
  {
   "cell_type": "code",
   "execution_count": 4,
   "metadata": {},
   "outputs": [],
   "source": [
    "# Leer la tabla \"admissions\" en un DataFrame de pandas\n",
    "df = pd.read_csv('./EDA_UCI/dataset/ADMISSIONS.csv')\n",
    "# Seleccionar el 20% inferior del DataFrame\n",
    "n = int(len(df) * 0.2)\n",
    "df1_selected = df.tail(n)\n",
    "#guardo la parte seleccionada\n",
    "df1_selected.to_csv('RECORTES/ADMISSIONS.csv')\n",
    "\n",
    "# Calcular el número de filas a eliminar (20% del total)\n",
    "n = int(len(df) * 0.2)\n",
    "\n",
    "# Obtener los índices de las filas a eliminar (los últimos n)\n",
    "idx_to_drop = df.tail(n).index\n",
    "\n",
    "# Eliminar las filas del DataFrame original\n",
    "df = df.drop(idx_to_drop)"
   ]
  },
  {
   "cell_type": "code",
   "execution_count": 5,
   "metadata": {},
   "outputs": [],
   "source": [
    "# Convertir los valores nan a None\n",
    "df = df.where(pd.notnull(df), None)\n",
    "\n",
    "texto_cols = df.select_dtypes(include=['string']).columns\n",
    "df[texto_cols] = df[texto_cols].fillna('SD')\n",
    "\n",
    "num_cols = df.select_dtypes(include=['int', 'float']).columns\n",
    "df[num_cols] = df[num_cols].fillna(0)"
   ]
  },
  {
   "cell_type": "code",
   "execution_count": 6,
   "metadata": {},
   "outputs": [],
   "source": [
    "# Formateamos las columnas de fecha a un formato que solo incluye la fecha\n",
    "\n",
    "\n",
    "df['admittime'] = pd.to_datetime(df['admittime']).dt.date\n",
    "df['dischtime'] = pd.to_datetime(df['dischtime']).dt.date\n",
    "df['edregtime'] = pd.to_datetime(df['edregtime']).dt.date\n",
    "df['edouttime'] = pd.to_datetime(df['edouttime']).dt.date\n",
    "df['deathtime'] = pd.to_datetime(df['deathtime']).dt.date.replace(pd.NaT, None)\n"
   ]
  },
  {
   "cell_type": "code",
   "execution_count": 7,
   "metadata": {},
   "outputs": [],
   "source": [
    "#cargar los datos a la tabla\n",
    "for index, row in df.iterrows():\n",
    "    insert_query = \"\"\"\n",
    "    INSERT INTO admissions2\n",
    "    (ROW_ID, SUBJECT_ID, HADM_ID, ADMITTIME, DISCHTIME, DEATHTIME, ADMISSION_TYPE, ADMISSION_LOCATION, DISCHARGE_LOCATION, INSURANCE, LANGUAGE, RELIGION, MARITAL_STATUS, ETHNICITY, EDREGTIME, EDOUTTIME, DIAGNOSIS, HOSPITAL_EXPIRE_FLAG, HAS_CHARTEVENTS_DATA)\n",
    "    VALUES (%s, %s, %s, %s, %s, %s, %s, %s, %s, %s, %s, %s, %s, %s, %s, %s, %s, %s, %s)\n",
    "    \"\"\"\n",
    "    data = tuple(row.values)\n",
    "    cursor.execute(insert_query, data)\n",
    "    cnx.commit()"
   ]
  },
  {
   "attachments": {},
   "cell_type": "markdown",
   "metadata": {},
   "source": [
    "TABLA ICUSTDAY"
   ]
  },
  {
   "cell_type": "code",
   "execution_count": 8,
   "metadata": {},
   "outputs": [],
   "source": [
    "# Definir la consulta SQL para crear la tabla\n",
    "create_table_query = '''\n",
    "CREATE TABLE ICUSTAYS2 (\n",
    "  ROW_ID INT,\n",
    "  SUBJECT_ID INT,\n",
    "  HADM_ID INT,\n",
    "  ICUSTAY_ID INT,\n",
    "  DBSOURCE VARCHAR(20),\n",
    "  FIRST_CAREUNIT VARCHAR(20),\n",
    "  LAST_CAREUNIT VARCHAR(20),\n",
    "  FIRST_WARDID SMALLINT,\n",
    "  LAST_WARDID SMALLINT,\n",
    "  INTIME DATE,\n",
    "  OUTTIME DATE,\n",
    "  LOS DOUBLE(10,2),\n",
    "  PRIMARY KEY (ROW_ID)\n",
    ") ENGINE=InnoDB;\n",
    "'''\n",
    "cursor.execute(create_table_query)\n"
   ]
  },
  {
   "cell_type": "code",
   "execution_count": 9,
   "metadata": {},
   "outputs": [],
   "source": [
    "# Leer la tabla \"admissions\" en un DataFrame de pandas\n",
    "df = pd.read_csv('./EDA_UCI/dataset/ICUSTAYS.csv')\n",
    "\n",
    "# Seleccionar el 20% inferior del DataFrame\n",
    "n = int(len(df) * 0.2)\n",
    "df1_selected = df.tail(n)\n",
    "#guardo la parte seleccionada\n",
    "df1_selected.to_csv('RECORTES/ICUSTAYS.csv')\n",
    "\n",
    "# Calcular el número de filas a eliminar (20% del total)\n",
    "n = int(len(df) * 0.2)\n",
    "\n",
    "# Obtener los índices de las filas a eliminar (los últimos n)\n",
    "idx_to_drop = df.tail(n).index\n",
    "\n",
    "# Eliminar las filas del DataFrame original\n",
    "df = df.drop(idx_to_drop)"
   ]
  },
  {
   "cell_type": "code",
   "execution_count": 10,
   "metadata": {},
   "outputs": [],
   "source": [
    "# Convertir los valores nan a None\n",
    "df = df.where(pd.notnull(df), None)\n",
    "\n",
    "texto_cols = df.select_dtypes(include=['string']).columns\n",
    "df[texto_cols] = df[texto_cols].fillna('SD')\n",
    "\n",
    "num_cols = df.select_dtypes(include=['int', 'float']).columns\n",
    "df[num_cols] = df[num_cols].fillna(0)"
   ]
  },
  {
   "cell_type": "code",
   "execution_count": 11,
   "metadata": {},
   "outputs": [],
   "source": [
    "#cambio del formato de las fechas\n",
    "df['intime'] = pd.to_datetime(df['intime']).dt.date.replace(pd.NaT, None)\n",
    "df['outtime'] = pd.to_datetime(df['outtime']).dt.date.replace(pd.NaT, None)"
   ]
  },
  {
   "cell_type": "code",
   "execution_count": 12,
   "metadata": {},
   "outputs": [],
   "source": [
    "#ingreso de datos a la tabla\n",
    "for index, row in df.iterrows():\n",
    "    insert_query = \"\"\"\n",
    "    INSERT INTO ICUSTAYS2\n",
    "    (ROW_ID, SUBJECT_ID, HADM_ID, ICUSTAY_ID, DBSOURCE, FIRST_CAREUNIT, LAST_CAREUNIT, FIRST_WARDID, LAST_WARDID, INTIME, OUTTIME, LOS)\n",
    "    VALUES (%s, %s, %s, %s, %s, %s, %s, %s, %s, %s, %s, %s)\n",
    "    \"\"\"\n",
    "    data = tuple(row.values)\n",
    "    cursor.execute(insert_query, data)\n",
    "    cnx.commit()"
   ]
  },
  {
   "attachments": {},
   "cell_type": "markdown",
   "metadata": {},
   "source": [
    "TABLA PATIENTS"
   ]
  },
  {
   "cell_type": "code",
   "execution_count": 13,
   "metadata": {},
   "outputs": [],
   "source": [
    "# Definir la consulta SQL para crear la tabla\n",
    "create_table_query = '''\n",
    "CREATE TABLE PATIENT2 (\n",
    "  ROW_ID INT,\n",
    "  SUBJECT_ID INT,\n",
    "  GENDER VARCHAR(5),\n",
    "  DOB DATE,\n",
    "  DOD DATE,\n",
    "  DOD_HOSP DATE,\n",
    "  DOD_SSN DATE,\n",
    "  EXPIRE_FLAG VARCHAR(5)\n",
    ") ENGINE=InnoDB;\n",
    "'''\n",
    "cursor.execute(create_table_query)\n"
   ]
  },
  {
   "cell_type": "code",
   "execution_count": 14,
   "metadata": {},
   "outputs": [],
   "source": [
    "# Leer la tabla \"admissions\" en un DataFrame de pandas\n",
    "df = pd.read_csv('./EDA_UCI/dataset/PATIENTS.csv')"
   ]
  },
  {
   "cell_type": "code",
   "execution_count": 15,
   "metadata": {},
   "outputs": [],
   "source": [
    "# Convertir los valores nan a None\n",
    "df = df.where(pd.notnull(df), None)\n",
    "\n",
    "texto_cols = df.select_dtypes(include=['string']).columns\n",
    "df[texto_cols] = df[texto_cols].fillna('SD')\n",
    "\n",
    "num_cols = df.select_dtypes(include=['int', 'float']).columns\n",
    "df[num_cols] = df[num_cols].fillna(0)"
   ]
  },
  {
   "cell_type": "code",
   "execution_count": 16,
   "metadata": {},
   "outputs": [],
   "source": [
    "# Convertir columnas de fecha a objetos datetime y reemplazar los valores NaT con None\n",
    "df['dob'] = pd.to_datetime(df['dob']).dt.date.replace(pd.NaT, None)\n",
    "df['dod'] = pd.to_datetime(df['dod']).dt.date.replace(pd.NaT, None)\n",
    "df['dod_hosp'] = pd.to_datetime(df['dod_hosp']).dt.date.replace(pd.NaT, None)\n",
    "df['dod_ssn'] = pd.to_datetime(df['dod_ssn']).dt.date.replace(pd.NaT, None)"
   ]
  },
  {
   "cell_type": "code",
   "execution_count": 17,
   "metadata": {},
   "outputs": [],
   "source": [
    "for index, row in df.iterrows():\n",
    "    insert_query = \"\"\"\n",
    "    INSERT INTO PATIENT2\n",
    "    (ROW_ID, SUBJECT_ID, GENDER, DOB, DOD, DOD_HOSP, DOD_SSN, EXPIRE_FLAG)\n",
    "    VALUES (%s, %s, %s, %s, %s, %s, %s, %s)\n",
    "    \"\"\"\n",
    "    data = tuple(row.values)\n",
    "    cursor.execute(insert_query, data)\n",
    "    cnx.commit()"
   ]
  },
  {
   "attachments": {},
   "cell_type": "markdown",
   "metadata": {},
   "source": [
    "TABLA CPTEVENTS"
   ]
  },
  {
   "cell_type": "code",
   "execution_count": 18,
   "metadata": {},
   "outputs": [],
   "source": [
    "# Definir la consulta SQL para crear la tabla\n",
    "create_table_query = '''\n",
    "CREATE TABLE CPTEVENTS2 (\n",
    "  ROW_ID INT PRIMARY KEY,\n",
    "  SUBJECT_ID INT,\n",
    "  HADM_ID INT,\n",
    "  COSTCENTER VARCHAR(10),\n",
    "  CHARTDATE DATE,\n",
    "  CPT_CD VARCHAR(10),\n",
    "  CPT_NUMBER INT,\n",
    "  CPT_SUFFIX VARCHAR(5),\n",
    "  TICKET_ID_SEQ INT,\n",
    "  SECTIONHEADER VARCHAR(50),\n",
    "  SUBSECTIONHEADER VARCHAR(300),\n",
    "  DESCRIPTION VARCHAR(200)\n",
    ") ENGINE=InnoDB;\n",
    "'''\n",
    "cursor.execute(create_table_query)\n"
   ]
  },
  {
   "cell_type": "code",
   "execution_count": 19,
   "metadata": {},
   "outputs": [],
   "source": [
    "# Leer la tabla \"admissions\" en un DataFrame de pandas\n",
    "df = pd.read_csv('./EDA_UCI/dataset/CPTEVENTS.csv')\n",
    "# Seleccionar el 20% inferior del DataFrame\n",
    "n = int(len(df) * 0.2)\n",
    "df1_selected = df.tail(n)\n",
    "#guardo la parte seleccionada\n",
    "df1_selected.to_csv('RECORTES/CPTEVENTS.csv')\n",
    "\n",
    "# Calcular el número de filas a eliminar (20% del total)\n",
    "n = int(len(df) * 0.2)\n",
    "\n",
    "# Obtener los índices de las filas a eliminar (los últimos n)\n",
    "idx_to_drop = df.tail(n).index\n",
    "\n",
    "# Eliminar las filas del DataFrame original\n",
    "df = df.drop(idx_to_drop)\n"
   ]
  },
  {
   "cell_type": "code",
   "execution_count": 20,
   "metadata": {},
   "outputs": [],
   "source": [
    "# Convertir los valores nan a None\n",
    "df = df.where(pd.notnull(df), None)\n",
    "\n",
    "texto_cols = df.select_dtypes(include=['string']).columns\n",
    "df[texto_cols] = df[texto_cols].fillna('SD')\n",
    "\n",
    "num_cols = df.select_dtypes(include=['int', 'float']).columns\n",
    "df[num_cols] = df[num_cols].fillna(0)"
   ]
  },
  {
   "cell_type": "code",
   "execution_count": 21,
   "metadata": {},
   "outputs": [],
   "source": [
    "df['chartdate'] = pd.to_datetime(df['chartdate']).dt.date.replace(pd.NaT, None)"
   ]
  },
  {
   "cell_type": "code",
   "execution_count": 22,
   "metadata": {},
   "outputs": [],
   "source": [
    "for index, row in df.iterrows():\n",
    "    insert_query = \"\"\"\n",
    "    INSERT INTO CPTEVENTS2\n",
    "    (ROW_ID,SUBJECT_ID,HADM_ID,COSTCENTER,CHARTDATE,CPT_CD,CPT_NUMBER,CPT_SUFFIX,TICKET_ID_SEQ,SECTIONHEADER,SUBSECTIONHEADER,DESCRIPTION)\n",
    "    VALUES (%s, %s, %s, %s, %s, %s, %s, %s, %s, %s, %s, %s)\n",
    "    \"\"\"\n",
    "    data = tuple(row.values)\n",
    "    cursor.execute(insert_query, data)\n",
    "    cnx.commit()"
   ]
  },
  {
   "attachments": {},
   "cell_type": "markdown",
   "metadata": {},
   "source": [
    "TABLA PROCEDUREEVENTS_MV"
   ]
  },
  {
   "cell_type": "code",
   "execution_count": 23,
   "metadata": {},
   "outputs": [],
   "source": [
    "# Definir la consulta SQL para crear la tabla\n",
    "create_table_query = '''\n",
    "CREATE TABLE PROCEDUREEVENTS_MV2 (\n",
    "  ROW_ID INT NOT NULL,\n",
    "  SUBJECT_ID INT NOT NULL,\n",
    "  HADM_ID INT NOT NULL,\n",
    "  ICUSTAY_ID INT,\n",
    "  STARTTIME DATE,\n",
    "  ENDTIME DATE,\n",
    "  ITEMID INT,\n",
    "  VALUE DOUBLE PRECISION,\n",
    "  VALUEUOM VARCHAR(30),\n",
    "  LOCATION VARCHAR(30),\n",
    "  LOCATIONCATEGORY VARCHAR(30),\n",
    "  STORETIME DATE,\n",
    "  CGID INT,\n",
    "  ORDERID INT,\n",
    "  LINKORDERID INT,\n",
    "  ORDERCATEGORYNAME VARCHAR(100),\n",
    "  SECONDARYORDERCATEGORYNAME VARCHAR(100),\n",
    "  ORDERCATEGORYDESCRIPTION VARCHAR(50),\n",
    "  ISOPENBAG SMALLINT,\n",
    "  CONTINUEINNEXTDEPT SMALLINT,\n",
    "  CANCELREASON SMALLINT,\n",
    "  STATUSDESCRIPTION VARCHAR(30),\n",
    "  COMMENTS_EDITEDBY VARCHAR(30),\n",
    "  COMMENTS_CANCELEDBY VARCHAR(30),\n",
    "  COMMENTS_DATE DATE\n",
    ") \n",
    "'''\n",
    "cursor.execute(create_table_query)"
   ]
  },
  {
   "cell_type": "code",
   "execution_count": 24,
   "metadata": {},
   "outputs": [],
   "source": [
    "# Leer la tabla \"admissions\" en un DataFrame de pandas\n",
    "df = pd.read_csv('./EDA_UCI/dataset/PROCEDUREEVENTS_MV.csv')\n",
    "# Seleccionar el 20% inferior del DataFrame\n",
    "n = int(len(df) * 0.2)\n",
    "df1_selected = df.tail(n)\n",
    "#guardo la parte seleccionada\n",
    "df1_selected.to_csv('RECORTES/PROCEDUREEVENTS_MV.csv')\n",
    "\n",
    "# Calcular el número de filas a eliminar (20% del total)\n",
    "n = int(len(df) * 0.2)\n",
    "\n",
    "# Obtener los índices de las filas a eliminar (los últimos n)\n",
    "idx_to_drop = df.tail(n).index\n",
    "\n",
    "# Eliminar las filas del DataFrame original\n",
    "df = df.drop(idx_to_drop)"
   ]
  },
  {
   "cell_type": "code",
   "execution_count": 25,
   "metadata": {},
   "outputs": [],
   "source": [
    "# Convertir los valores nan a None\n",
    "df = df.where(pd.notnull(df), None)\n",
    "\n",
    "texto_cols = df.select_dtypes(include=['string']).columns\n",
    "df[texto_cols] = df[texto_cols].fillna('SD')\n",
    "\n",
    "num_cols = df.select_dtypes(include=['int', 'float']).columns\n",
    "df[num_cols] = df[num_cols].fillna(0)"
   ]
  },
  {
   "cell_type": "code",
   "execution_count": 26,
   "metadata": {},
   "outputs": [],
   "source": [
    "df['starttime'] = pd.to_datetime(df['starttime']).dt.date\n",
    "df['endtime'] = pd.to_datetime(df['endtime']).dt.date\n",
    "df['storetime'] = pd.to_datetime(df['storetime']).dt.date\n",
    "df['comments_date'] = pd.to_datetime(df['comments_date']).dt.date"
   ]
  },
  {
   "cell_type": "code",
   "execution_count": 27,
   "metadata": {},
   "outputs": [],
   "source": [
    "for index, row in df.iterrows():\n",
    "    insert_query = \"\"\"\n",
    "    INSERT INTO PROCEDUREEVENTS_MV2\n",
    "    (ROW_ID,SUBJECT_ID,HADM_ID,ICUSTAY_ID,STARTTIME,ENDTIME,ITEMID,VALUE,VALUEUOM,LOCATION,LOCATIONCATEGORY,STORETIME,CGID,ORDERID,LINKORDERID,ORDERCATEGORYNAME,SECONDARYORDERCATEGORYNAME,ORDERCATEGORYDESCRIPTION,ISOPENBAG,CONTINUEINNEXTDEPT,CANCELREASON,STATUSDESCRIPTION,COMMENTS_EDITEDBY,COMMENTS_CANCELEDBY,COMMENTS_DATE)\n",
    "    VALUES (%s, %s, %s, %s, %s, %s, %s, %s, %s, %s, %s, %s, %s, %s, %s, %s, %s, %s, %s, %s, %s, %s, %s, %s, %s)\n",
    "    \"\"\"\n",
    "    data = tuple(row.values)\n",
    "    cursor.execute(insert_query, data)\n",
    "    cnx.commit()"
   ]
  },
  {
   "attachments": {},
   "cell_type": "markdown",
   "metadata": {},
   "source": [
    "TABLA PROCEDURES_ICD"
   ]
  },
  {
   "cell_type": "code",
   "execution_count": 28,
   "metadata": {},
   "outputs": [],
   "source": [
    "# Definir la consulta SQL para crear la tabla\n",
    "create_table_query = '''\n",
    "CREATE TABLE PRESCRIPTIONS2 (\n",
    "  ROW_ID INT,\n",
    "  SUBJECT_ID INT,\n",
    "  HADM_ID INT,\n",
    "  ICUSTAY_ID INT,\n",
    "  STARTDATE DATE,\n",
    "  ENDDATE DATE,\n",
    "  DRUG_TYPE VARCHAR(100),\n",
    "  DRUG VARCHAR(100),\n",
    "  DRUG_NAME_POE VARCHAR(100),\n",
    "  DRUG_NAME_GENERIC VARCHAR(100),\n",
    "  FORMULARY_DRUG_CD VARCHAR(120),\n",
    "  GSN VARCHAR(200),\n",
    "  NDC VARCHAR(120),\n",
    "  PROD_STRENGTH VARCHAR(120),\n",
    "  DOSE_VAL_RX VARCHAR(120),\n",
    "  DOSE_UNIT_RX VARCHAR(120),\n",
    "  FORM_VAL_DISP VARCHAR(120),\n",
    "  FORM_UNIT_DISP VARCHAR(120),\n",
    "  ROUTE VARCHAR(120)\n",
    ") ENGINE=InnoDB;\n",
    "'''\n",
    "cursor.execute(create_table_query)"
   ]
  },
  {
   "cell_type": "code",
   "execution_count": 29,
   "metadata": {},
   "outputs": [],
   "source": [
    "# Leer la tabla \"admissions\" en un DataFrame de pandas\n",
    "df = pd.read_csv('./EDA_UCI/dataset/PRESCRIPTIONS.csv')\n",
    "# Seleccionar el 20% inferior del DataFrame\n",
    "n = int(len(df) * 0.2)\n",
    "df1_selected = df.tail(n)\n",
    "#guardo la parte seleccionada\n",
    "df1_selected.to_csv('RECORTES/PRESCRIPTIONS.csv')\n",
    "\n",
    "# Calcular el número de filas a eliminar (20% del total)\n",
    "n = int(len(df) * 0.2)\n",
    "\n",
    "# Obtener los índices de las filas a eliminar (los últimos n)\n",
    "idx_to_drop = df.tail(n).index\n",
    "\n",
    "# Eliminar las filas del DataFrame original\n",
    "df = df.drop(idx_to_drop)"
   ]
  },
  {
   "cell_type": "code",
   "execution_count": 30,
   "metadata": {},
   "outputs": [],
   "source": [
    "# Convertir los valores nan a None\n",
    "df = df.where(pd.notnull(df), None)\n",
    "\n",
    "texto_cols = df.select_dtypes(include=['string']).columns\n",
    "df[texto_cols] = df[texto_cols].fillna('SD')\n",
    "\n",
    "num_cols = df.select_dtypes(include=['int', 'float']).columns\n",
    "df[num_cols] = df[num_cols].fillna(0)"
   ]
  },
  {
   "cell_type": "code",
   "execution_count": 31,
   "metadata": {},
   "outputs": [],
   "source": [
    "df['startdate'] = pd.to_datetime(df['startdate']).dt.date.replace(pd.NaT, None)\n",
    "df['enddate'] = pd.to_datetime(df['enddate']).dt.date.replace(pd.NaT, None)\n"
   ]
  },
  {
   "cell_type": "code",
   "execution_count": 32,
   "metadata": {},
   "outputs": [],
   "source": [
    "for index, row in df.iterrows():\n",
    "    insert_query = \"\"\"\n",
    "    INSERT INTO PRESCRIPTIONS2\n",
    "    (ROW_ID,SUBJECT_ID,HADM_ID,ICUSTAY_ID,STARTDATE,ENDDATE,DRUG_TYPE,DRUG,DRUG_NAME_POE,DRUG_NAME_GENERIC,FORMULARY_DRUG_CD,GSN, NDC,PROD_STRENGTH,DOSE_VAL_RX,DOSE_UNIT_RX,FORM_VAL_DISP,FORM_UNIT_DISP,ROUTE)\n",
    "    VALUES (%s, %s, %s, %s, %s, %s, %s, %s, %s, %s, %s, %s, %s, %s, %s, %s, %s, %s, %s)\n",
    "    \"\"\"\n",
    "    data = tuple(row.values)\n",
    "    cursor.execute(insert_query, data)\n",
    "    cnx.commit()"
   ]
  },
  {
   "attachments": {},
   "cell_type": "markdown",
   "metadata": {},
   "source": [
    "TABLA LABEVENTS"
   ]
  },
  {
   "cell_type": "code",
   "execution_count": 34,
   "metadata": {},
   "outputs": [],
   "source": [
    "# Definir la consulta SQL para crear la tabla\n",
    "create_table_query = '''\n",
    "CREATE TABLE LABEVENTS3 (\n",
    "  ROW_ID INT,\n",
    "  SUBJECT_ID INT,\n",
    "  HADM_ID INT,\n",
    "  ITEMID INT,\n",
    "  CHARTTIME DATE,\n",
    "  VALUE VARCHAR(200),\n",
    "  VALUENUM DOUBLE PRECISION,\n",
    "  VALUEUOM VARCHAR(20),\n",
    "  FLAG VARCHAR(20)\n",
    ") \n",
    "'''\n",
    "cursor.execute(create_table_query)"
   ]
  },
  {
   "cell_type": "code",
   "execution_count": 35,
   "metadata": {},
   "outputs": [],
   "source": [
    "# Leer la tabla \"admissions\" en un DataFrame de pandas\n",
    "df = pd.read_csv('./EDA_UCI/dataset/LABEVENTS.csv')\n",
    "# Seleccionar el 20% inferior del DataFrame\n",
    "n = int(len(df) * 0.2)\n",
    "df1_selected = df.tail(n)\n",
    "#guardo la parte seleccionada\n",
    "df1_selected.to_csv('RECORTES/LABEVENTS.csv')\n",
    "\n",
    "# Calcular el número de filas a eliminar (20% del total)\n",
    "n = int(len(df) * 0.2)\n",
    "\n",
    "# Obtener los índices de las filas a eliminar (los últimos n)\n",
    "idx_to_drop = df.tail(n).index\n",
    "\n",
    "# Eliminar las filas del DataFrame original\n",
    "df = df.drop(idx_to_drop)"
   ]
  },
  {
   "cell_type": "code",
   "execution_count": 36,
   "metadata": {},
   "outputs": [],
   "source": [
    "# Convertir los valores nan a None\n",
    "df = df.where(pd.notnull(df), None)\n",
    "\n",
    "texto_cols = df.select_dtypes(include=['string']).columns\n",
    "df[texto_cols] = df[texto_cols].fillna('SD')\n",
    "\n",
    "num_cols = df.select_dtypes(include=['int', 'float']).columns\n",
    "df[num_cols] = df[num_cols].fillna(0)"
   ]
  },
  {
   "cell_type": "code",
   "execution_count": 37,
   "metadata": {},
   "outputs": [],
   "source": [
    "df['charttime']  = pd.to_datetime(df['charttime']).dt.date.replace(pd.NaT, None)\n"
   ]
  },
  {
   "cell_type": "code",
   "execution_count": 38,
   "metadata": {},
   "outputs": [],
   "source": [
    "for index, row in df.iterrows():\n",
    "    insert_query = \"\"\"\n",
    "    INSERT INTO LABEVENTS3\n",
    "    (ROW_ID,SUBJECT_ID,HADM_ID,ITEMID,CHARTTIME,VALUE,VALUENUM,VALUEUOM,FLAG)\n",
    "    VALUES (%s, %s, %s, %s, %s, %s, %s, %s, %s)\n",
    "    \"\"\"\n",
    "    data = tuple(row.values)\n",
    "    cursor.execute(insert_query, data)\n",
    "    cnx.commit()"
   ]
  },
  {
   "attachments": {},
   "cell_type": "markdown",
   "metadata": {},
   "source": [
    "TABLA CALLOUTS"
   ]
  },
  {
   "cell_type": "code",
   "execution_count": 39,
   "metadata": {},
   "outputs": [],
   "source": [
    "# Definir la consulta SQL para crear la tabla\n",
    "create_table_query = '''\n",
    "CREATE TABLE CALLOUT2 (\n",
    "  ROW_ID INT,\n",
    "  SUBJECT_ID INT,\n",
    "  HADM_ID INT,\n",
    "  SUBMIT_WARDID INT,\n",
    "  SUBMIT_CAREUNIT VARCHAR(15),\n",
    "  CURR_WARDID INT,\n",
    "  CURR_CAREUNIT VARCHAR(15),\n",
    "  CALLOUT_WARDID INT,\n",
    "  CALLOUT_SERVICE VARCHAR(10),\n",
    "  REQUEST_TELE SMALLINT,\n",
    "  REQUEST_RESP SMALLINT,\n",
    "  REQUEST_CDIFF SMALLINT,\n",
    "  REQUEST_MRSA SMALLINT,\n",
    "  REQUEST_VRE SMALLINT,\n",
    "  CALLOUT_STATUS VARCHAR(20),\n",
    "  CALLOUT_OUTCOME VARCHAR(20),\n",
    "  DISCHARGE_WARDID INT,\n",
    "  ACKNOWLEDGE_STATUS VARCHAR(20),\n",
    "  CREATETIME DATE,\n",
    "  UPDATETIME DATE,\n",
    "  ACKNOWLEDGETIME DATE,\n",
    "  OUTCOMETIME DATE,\n",
    "  FIRSTRESERVATIONTIME DATE,\n",
    "  CURRENTRESERVATIONTIME DATE\n",
    ") ENGINE=InnoDB;\n",
    "'''\n",
    "cursor.execute(create_table_query)"
   ]
  },
  {
   "cell_type": "code",
   "execution_count": 40,
   "metadata": {},
   "outputs": [],
   "source": [
    "# Leer la tabla \"admissions\" en un DataFrame de pandas\n",
    "df = pd.read_csv('./EDA_UCI/dataset/CALLOUT.csv')\n",
    "# Seleccionar el 20% inferior del DataFrame\n",
    "n = int(len(df) * 0.2)\n",
    "df1_selected = df.tail(n)\n",
    "#guardo la parte seleccionada\n",
    "df1_selected.to_csv('RECORTES/CALLOUT.csv')\n",
    "\n",
    "# Calcular el número de filas a eliminar (20% del total)\n",
    "n = int(len(df) * 0.2)\n",
    "\n",
    "# Obtener los índices de las filas a eliminar (los últimos n)\n",
    "idx_to_drop = df.tail(n).index\n",
    "\n",
    "# Eliminar las filas del DataFrame original\n",
    "df = df.drop(idx_to_drop)"
   ]
  },
  {
   "cell_type": "code",
   "execution_count": 41,
   "metadata": {},
   "outputs": [],
   "source": [
    "# Convertir los valores nan a None\n",
    "df = df.where(pd.notnull(df), None)\n",
    "\n",
    "texto_cols = df.select_dtypes(include=['string']).columns\n",
    "df[texto_cols] = df[texto_cols].fillna('SD')\n",
    "\n",
    "num_cols = df.select_dtypes(include=['int', 'float']).columns\n",
    "df[num_cols] = df[num_cols].fillna(0)"
   ]
  },
  {
   "cell_type": "code",
   "execution_count": 42,
   "metadata": {},
   "outputs": [],
   "source": [
    "df['createtime']  = pd.to_datetime(df['createtime']).dt.date.replace(pd.NaT, None)\n",
    "df['updatetime']  = pd.to_datetime(df['updatetime']).dt.date.replace(pd.NaT, None)\n",
    "df['acknowledgetime']  = pd.to_datetime(df['acknowledgetime']).dt.date.replace(pd.NaT, None)\n",
    "df['outcometime']  = pd.to_datetime(df['outcometime']).dt.date.replace(pd.NaT, None)\n",
    "df['firstreservationtime']  = pd.to_datetime(df['firstreservationtime']).dt.date.replace(pd.NaT, None)\n",
    "df['currentreservationtime']  = pd.to_datetime(df['currentreservationtime']).dt.date.replace(pd.NaT, None)"
   ]
  },
  {
   "cell_type": "code",
   "execution_count": 43,
   "metadata": {},
   "outputs": [],
   "source": [
    "for index, row in df.iterrows():\n",
    "    insert_query = \"\"\"\n",
    "    INSERT INTO CALLOUT2\n",
    "    (ROW_ID,SUBJECT_ID,HADM_ID,SUBMIT_WARDID,SUBMIT_CAREUNIT,CURR_WARDID,CURR_CAREUNIT,CALLOUT_WARDID,CALLOUT_SERVICE,REQUEST_TELE,REQUEST_RESP,REQUEST_CDIFF,REQUEST_MRSA,REQUEST_VRE,CALLOUT_STATUS,CALLOUT_OUTCOME,DISCHARGE_WARDID,ACKNOWLEDGE_STATUS,CREATETIME,UPDATETIME,ACKNOWLEDGETIME,OUTCOMETIME,FIRSTRESERVATIONTIME,CURRENTRESERVATIONTIME)\n",
    "    VALUES (%s, %s, %s, %s, %s, %s, %s, %s,%s, %s, %s, %s, %s, %s, %s, %s,%s, %s, %s, %s, %s, %s, %s, %s)\n",
    "    \"\"\"\n",
    "    data = tuple(row.values)\n",
    "    cursor.execute(insert_query, data)\n",
    "    cnx.commit()"
   ]
  },
  {
   "attachments": {},
   "cell_type": "markdown",
   "metadata": {},
   "source": [
    "TABLA TRANSFER"
   ]
  },
  {
   "cell_type": "code",
   "execution_count": 44,
   "metadata": {},
   "outputs": [],
   "source": [
    "# Definir la consulta SQL para crear la tabla\n",
    "create_table_query = '''\n",
    "CREATE TABLE TRANSFERS2 (\n",
    "  ROW_ID INT,\n",
    "  SUBJECT_ID INT,\n",
    "  HADM_ID INT,\n",
    "  ICUSTAY_ID INT,\n",
    "  DBSOURCE VARCHAR(20),\n",
    "  EVENTTYPE VARCHAR(20),\n",
    "  PREV_CAREUNIT VARCHAR(20),\n",
    "  CURR_CAREUNIT VARCHAR(20),\n",
    "  PREV_WARDID SMALLINT,\n",
    "  CURR_WARDID SMALLINT,\n",
    "  INTIME DATE,\n",
    "  OUTTIME DATE,\n",
    "  LOS INT\n",
    ") ENGINE=InnoDB;\n",
    "'''\n",
    "cursor.execute(create_table_query)"
   ]
  },
  {
   "cell_type": "code",
   "execution_count": 45,
   "metadata": {},
   "outputs": [],
   "source": [
    "# Leer la tabla \"admissions\" en un DataFrame de pandas\n",
    "df = pd.read_csv('./EDA_UCI/dataset/TRANSFERS.csv')\n",
    "# Seleccionar el 20% inferior del DataFrame\n",
    "n = int(len(df) * 0.2)\n",
    "df1_selected = df.tail(n)\n",
    "#guardo la parte seleccionada\n",
    "df1_selected.to_csv('RECORTES/TRANSFERS.csv')\n",
    "\n",
    "# Calcular el número de filas a eliminar (20% del total)\n",
    "n = int(len(df) * 0.2)\n",
    "\n",
    "# Obtener los índices de las filas a eliminar (los últimos n)\n",
    "idx_to_drop = df.tail(n).index\n",
    "\n",
    "# Eliminar las filas del DataFrame original\n",
    "df = df.drop(idx_to_drop)"
   ]
  },
  {
   "cell_type": "code",
   "execution_count": 46,
   "metadata": {},
   "outputs": [],
   "source": [
    "# Convertir los valores nan a None\n",
    "df = df.where(pd.notnull(df), None)\n",
    "\n",
    "texto_cols = df.select_dtypes(include=['string']).columns\n",
    "df[texto_cols] = df[texto_cols].fillna('SD')\n",
    "\n",
    "num_cols = df.select_dtypes(include=['int', 'float']).columns\n",
    "df[num_cols] = df[num_cols].fillna(0)"
   ]
  },
  {
   "cell_type": "code",
   "execution_count": 47,
   "metadata": {},
   "outputs": [],
   "source": [
    "df['intime']  = pd.to_datetime(df['intime']).dt.date.replace(pd.NaT, None)\n",
    "df['outtime']  = pd.to_datetime(df['outtime']).dt.date.replace(pd.NaT, None)\n"
   ]
  },
  {
   "cell_type": "code",
   "execution_count": 48,
   "metadata": {},
   "outputs": [],
   "source": [
    "for index, row in df.iterrows():\n",
    "    insert_query = \"\"\"\n",
    "    INSERT INTO TRANSFERS2\n",
    "    (ROW_ID,SUBJECT_ID,HADM_ID,ICUSTAY_ID,DBSOURCE,EVENTTYPE,PREV_CAREUNIT,CURR_CAREUNIT,PREV_WARDID,CURR_WARDID,INTIME,OUTTIME,LOS)\n",
    "    VALUES (%s, %s, %s, %s, %s, %s, %s, %s,%s, %s, %s, %s, %s)\n",
    "    \"\"\"\n",
    "    data = tuple(row.values)\n",
    "    cursor.execute(insert_query, data)\n",
    "    cnx.commit()"
   ]
  },
  {
   "attachments": {},
   "cell_type": "markdown",
   "metadata": {},
   "source": [
    "TABLA SERVICES"
   ]
  },
  {
   "cell_type": "code",
   "execution_count": 49,
   "metadata": {},
   "outputs": [],
   "source": [
    "# Definir la consulta SQL para crear la tabla\n",
    "create_table_query = '''\n",
    "CREATE TABLE SERVICES2 (\n",
    "  ROW_ID INT,\n",
    "  SUBJECT_ID INT,\n",
    "  HADM_ID INT,\n",
    "  TRANSFERTIME DATE,\n",
    "  PREV_SERVICE VARCHAR(20),\n",
    "  CURR_SERVICE VARCHAR(20)\n",
    ") ENGINE=InnoDB;\n",
    "'''\n",
    "cursor.execute(create_table_query)"
   ]
  },
  {
   "cell_type": "code",
   "execution_count": 50,
   "metadata": {},
   "outputs": [],
   "source": [
    "# Leer la tabla \"admissions\" en un DataFrame de pandas\n",
    "df = pd.read_csv('./EDA_UCI/dataset/SERVICES.csv')\n",
    "# Seleccionar el 20% inferior del DataFrame\n",
    "n = int(len(df) * 0.2)\n",
    "df1_selected = df.tail(n)\n",
    "#guardo la parte seleccionada\n",
    "df1_selected.to_csv('RECORTES/SERVICES.csv')\n",
    "\n",
    "# Calcular el número de filas a eliminar (20% del total)\n",
    "n = int(len(df) * 0.2)\n",
    "\n",
    "# Obtener los índices de las filas a eliminar (los últimos n)\n",
    "idx_to_drop = df.tail(n).index\n",
    "\n",
    "# Eliminar las filas del DataFrame original\n",
    "df = df.drop(idx_to_drop)"
   ]
  },
  {
   "cell_type": "code",
   "execution_count": 51,
   "metadata": {},
   "outputs": [],
   "source": [
    "# Convertir los valores nan a None\n",
    "df = df.where(pd.notnull(df), None)\n",
    "\n",
    "texto_cols = df.select_dtypes(include=['string']).columns\n",
    "df[texto_cols] = df[texto_cols].fillna('SD')\n",
    "\n",
    "num_cols = df.select_dtypes(include=['int', 'float']).columns\n",
    "df[num_cols] = df[num_cols].fillna(0)"
   ]
  },
  {
   "cell_type": "code",
   "execution_count": 52,
   "metadata": {},
   "outputs": [],
   "source": [
    "df['transfertime']  = pd.to_datetime(df['transfertime']).dt.date.replace(pd.NaT, None)\n"
   ]
  },
  {
   "cell_type": "code",
   "execution_count": 53,
   "metadata": {},
   "outputs": [],
   "source": [
    "for index, row in df.iterrows():\n",
    "    insert_query = \"\"\"\n",
    "    INSERT INTO SERVICES2\n",
    "    (ROW_ID,SUBJECT_ID,HADM_ID,TRANSFERTIME,PREV_SERVICE,CURR_SERVICE)\n",
    "    VALUES (%s, %s, %s, %s, %s, %s)\n",
    "    \"\"\"\n",
    "    data = tuple(row.values)\n",
    "    cursor.execute(insert_query, data)\n",
    "    cnx.commit()"
   ]
  },
  {
   "attachments": {},
   "cell_type": "markdown",
   "metadata": {},
   "source": [
    "TABLA CAREGIVERS"
   ]
  },
  {
   "cell_type": "code",
   "execution_count": 54,
   "metadata": {},
   "outputs": [],
   "source": [
    "# Definir la consulta SQL para crear la tabla\n",
    "create_table_query = '''\n",
    "CREATE TABLE CAREGIVERS2 (\n",
    "  ROW_ID INTEGER,\n",
    "  CGID INTEGER,\n",
    "  LABEL VARCHAR(15),\n",
    "  DESCRIPTION VARCHAR(30)\n",
    ") \n",
    "'''\n",
    "cursor.execute(create_table_query)"
   ]
  },
  {
   "cell_type": "code",
   "execution_count": 55,
   "metadata": {},
   "outputs": [],
   "source": [
    "# Leer la tabla \"admissions\" en un DataFrame de pandas\n",
    "df = pd.read_csv('./EDA_UCI/dataset/CAREGIVERS.csv')\n",
    "# Seleccionar el 20% inferior del DataFrame\n",
    "n = int(len(df) * 0.2)\n",
    "df1_selected = df.tail(n)\n",
    "#guardo la parte seleccionada\n",
    "df1_selected.to_csv('RECORTES/CAREGIVERS.csv')\n",
    "\n",
    "# Calcular el número de filas a eliminar (20% del total)\n",
    "n = int(len(df) * 0.2)\n",
    "\n",
    "# Obtener los índices de las filas a eliminar (los últimos n)\n",
    "idx_to_drop = df.tail(n).index\n",
    "\n",
    "# Eliminar las filas del DataFrame original\n",
    "df = df.drop(idx_to_drop)"
   ]
  },
  {
   "cell_type": "code",
   "execution_count": 56,
   "metadata": {},
   "outputs": [],
   "source": [
    "# Convertir los valores nan a None\n",
    "df = df.where(pd.notnull(df), None)\n",
    "\n",
    "texto_cols = df.select_dtypes(include=['string']).columns\n",
    "df[texto_cols] = df[texto_cols].fillna('SD')\n",
    "\n",
    "num_cols = df.select_dtypes(include=['int', 'float']).columns\n",
    "df[num_cols] = df[num_cols].fillna(0)"
   ]
  },
  {
   "cell_type": "code",
   "execution_count": 57,
   "metadata": {},
   "outputs": [],
   "source": [
    "for index, row in df.iterrows():\n",
    "    insert_query = \"\"\"\n",
    "    INSERT INTO CAREGIVERS2\n",
    "    (ROW_ID,CGID,LABEL,DESCRIPTION)\n",
    "    VALUES (%s, %s, %s, %s)\n",
    "    \"\"\"\n",
    "    data = tuple(row.values)\n",
    "    cursor.execute(insert_query, data)\n",
    "    cnx.commit()"
   ]
  },
  {
   "attachments": {},
   "cell_type": "markdown",
   "metadata": {},
   "source": [
    "TABLA D_CPT"
   ]
  },
  {
   "cell_type": "code",
   "execution_count": 58,
   "metadata": {},
   "outputs": [],
   "source": [
    "# Definir la consulta SQL para crear la tabla\n",
    "create_table_query = '''\n",
    "CREATE TABLE D_CPT2 (\n",
    "  ROW_ID INT,\n",
    "  CATEGORY SMALLINT,\n",
    "  SECTIONRANGE VARCHAR(100),\n",
    "  SECTIONHEADER VARCHAR(50),\n",
    "  SUBSECTIONRANGE VARCHAR(100),\n",
    "  SUBSECTIONHEADER VARCHAR(300),\n",
    "  CODESUFFIX VARCHAR(5),\n",
    "  MINCODEINSUBSECTION INT,\n",
    "  MAXCODEINSUBSECTION INT\n",
    ") \n",
    "'''\n",
    "cursor.execute(create_table_query)"
   ]
  },
  {
   "cell_type": "code",
   "execution_count": 59,
   "metadata": {},
   "outputs": [],
   "source": [
    "# Leer la tabla \"admissions\" en un DataFrame de pandas\n",
    "df = pd.read_csv('./EDA_UCI/dataset/D_CPT.csv')\n",
    "# Seleccionar el 20% inferior del DataFrame\n",
    "n = int(len(df) * 0.2)\n",
    "df1_selected = df.tail(n)\n",
    "#guardo la parte seleccionada\n",
    "df1_selected.to_csv('RECORTES/D_CPT.csv')\n",
    "\n",
    "# Calcular el número de filas a eliminar (20% del total)\n",
    "n = int(len(df) * 0.2)\n",
    "\n",
    "# Obtener los índices de las filas a eliminar (los últimos n)\n",
    "idx_to_drop = df.tail(n).index\n",
    "\n",
    "# Eliminar las filas del DataFrame original\n",
    "df = df.drop(idx_to_drop)"
   ]
  },
  {
   "cell_type": "code",
   "execution_count": 60,
   "metadata": {},
   "outputs": [],
   "source": [
    "# Convertir los valores nan a None\n",
    "df = df.where(pd.notnull(df), None)\n",
    "\n",
    "texto_cols = df.select_dtypes(include=['string']).columns\n",
    "df[texto_cols] = df[texto_cols].fillna('SD')\n",
    "\n",
    "num_cols = df.select_dtypes(include=['int', 'float']).columns\n",
    "df[num_cols] = df[num_cols].fillna(0)"
   ]
  },
  {
   "cell_type": "code",
   "execution_count": 61,
   "metadata": {},
   "outputs": [],
   "source": [
    "for index, row in df.iterrows():\n",
    "    insert_query = \"\"\"\n",
    "    INSERT INTO D_CPT2\n",
    "    (ROW_ID,CATEGORY,SECTIONRANGE,SECTIONHEADER,SUBSECTIONRANGE,SUBSECTIONHEADER,CODESUFFIX,MINCODEINSUBSECTION,MAXCODEINSUBSECTION)\n",
    "    VALUES (%s, %s, %s, %s, %s, %s, %s, %s,%s)\n",
    "    \"\"\"\n",
    "    data = tuple(row.values)\n",
    "    cursor.execute(insert_query, data)\n",
    "    cnx.commit()"
   ]
  },
  {
   "attachments": {},
   "cell_type": "markdown",
   "metadata": {},
   "source": [
    "TABLA D_ICD_DIAGNOSES"
   ]
  },
  {
   "cell_type": "code",
   "execution_count": 62,
   "metadata": {},
   "outputs": [],
   "source": [
    "# Definir la consulta SQL para crear la tabla\n",
    "create_table_query = '''\n",
    "CREATE TABLE D_ICD_DIAGNOSES2 (\n",
    "  ROW_ID INT,\n",
    "  ICD9_CODE VARCHAR(10),\n",
    "  SHORT_TITLE VARCHAR(50),\n",
    "  LONG_TITLE VARCHAR(300)\n",
    ") \n",
    "'''\n",
    "cursor.execute(create_table_query)"
   ]
  },
  {
   "cell_type": "code",
   "execution_count": 63,
   "metadata": {},
   "outputs": [],
   "source": [
    "# Leer la tabla \"admissions\" en un DataFrame de pandas\n",
    "df = pd.read_csv('./EDA_UCI/dataset/D_ICD_DIAGNOSES.csv')\n",
    "# Seleccionar el 20% inferior del DataFrame\n",
    "n = int(len(df) * 0.2)\n",
    "df1_selected = df.tail(n)\n",
    "#guardo la parte seleccionada\n",
    "df1_selected.to_csv('RECORTES/D_ICD_DIAGNOSES.csv')\n",
    "\n",
    "# Calcular el número de filas a eliminar (20% del total)\n",
    "n = int(len(df) * 0.2)\n",
    "\n",
    "# Obtener los índices de las filas a eliminar (los últimos n)\n",
    "idx_to_drop = df.tail(n).index\n",
    "\n",
    "# Eliminar las filas del DataFrame original\n",
    "df = df.drop(idx_to_drop)"
   ]
  },
  {
   "cell_type": "code",
   "execution_count": 64,
   "metadata": {},
   "outputs": [],
   "source": [
    "# Convertir los valores nan a None\n",
    "df = df.where(pd.notnull(df), None)\n",
    "\n",
    "texto_cols = df.select_dtypes(include=['string']).columns\n",
    "df[texto_cols] = df[texto_cols].fillna('SD')\n",
    "\n",
    "num_cols = df.select_dtypes(include=['int', 'float']).columns\n",
    "df[num_cols] = df[num_cols].fillna(0)"
   ]
  },
  {
   "cell_type": "code",
   "execution_count": 65,
   "metadata": {},
   "outputs": [],
   "source": [
    "for index, row in df.iterrows():\n",
    "    insert_query = \"\"\"\n",
    "    INSERT INTO D_ICD_DIAGNOSES2\n",
    "    (ROW_ID,ICD9_CODE,SHORT_TITLE,LONG_TITLE)\n",
    "    VALUES (%s, %s, %s, %s)\n",
    "\n",
    "    \"\"\"\n",
    "    data = tuple(row.values)\n",
    "    cursor.execute(insert_query, data)\n",
    "    cnx.commit()"
   ]
  },
  {
   "attachments": {},
   "cell_type": "markdown",
   "metadata": {},
   "source": [
    "TABLA D_ICD_PROCEDURES"
   ]
  },
  {
   "cell_type": "code",
   "execution_count": 66,
   "metadata": {},
   "outputs": [],
   "source": [
    "# Definir la consulta SQL para crear la tabla\n",
    "create_table_query = '''\n",
    "CREATE TABLE D_ICD_PROCEDURES2 (\n",
    "  ROW_ID INT,\n",
    "  ICD9_CODE VARCHAR(10),\n",
    "  SHORT_TITLE VARCHAR(50),\n",
    "  LONG_TITLE VARCHAR(300)\n",
    ") \n",
    "'''\n",
    "cursor.execute(create_table_query)"
   ]
  },
  {
   "cell_type": "code",
   "execution_count": 67,
   "metadata": {},
   "outputs": [],
   "source": [
    "# Leer la tabla \"admissions\" en un DataFrame de pandas\n",
    "df = pd.read_csv('./EDA_UCI/dataset/D_ICD_PROCEDURES.csv')\n",
    "# Seleccionar el 20% inferior del DataFrame\n",
    "n = int(len(df) * 0.2)\n",
    "df1_selected = df.tail(n)\n",
    "#guardo la parte seleccionada\n",
    "df1_selected.to_csv('RECORTES/D_ICD_PROCEDURES.csv')\n",
    "\n",
    "# Calcular el número de filas a eliminar (20% del total)\n",
    "n = int(len(df) * 0.2)\n",
    "\n",
    "# Obtener los índices de las filas a eliminar (los últimos n)\n",
    "idx_to_drop = df.tail(n).index\n",
    "\n",
    "# Eliminar las filas del DataFrame original\n",
    "df = df.drop(idx_to_drop)"
   ]
  },
  {
   "cell_type": "code",
   "execution_count": 68,
   "metadata": {},
   "outputs": [],
   "source": [
    "# Convertir los valores nan a None\n",
    "df = df.where(pd.notnull(df), None)\n",
    "\n",
    "texto_cols = df.select_dtypes(include=['string']).columns\n",
    "df[texto_cols] = df[texto_cols].fillna('SD')\n",
    "\n",
    "num_cols = df.select_dtypes(include=['int', 'float']).columns\n",
    "df[num_cols] = df[num_cols].fillna(0)"
   ]
  },
  {
   "cell_type": "code",
   "execution_count": 69,
   "metadata": {},
   "outputs": [],
   "source": [
    "for index, row in df.iterrows():\n",
    "    insert_query = \"\"\"\n",
    "    INSERT INTO D_ICD_PROCEDURES2\n",
    "    (ROW_ID,ICD9_CODE,SHORT_TITLE,LONG_TITLE)\n",
    "    VALUES (%s, %s, %s, %s)\n",
    "    \"\"\"\n",
    "    data = tuple(row.values)\n",
    "    cursor.execute(insert_query, data)\n",
    "    cnx.commit()"
   ]
  },
  {
   "attachments": {},
   "cell_type": "markdown",
   "metadata": {},
   "source": [
    "TABLA D_ITEMS"
   ]
  },
  {
   "cell_type": "code",
   "execution_count": 70,
   "metadata": {},
   "outputs": [],
   "source": [
    "# Definir la consulta SQL para crear la tabla\n",
    "create_table_query = '''\n",
    "CREATE TABLE D_ITEMS2 (\n",
    "  ROW_ID INT,\n",
    "  ITEMID INT,\n",
    "  LABEL VARCHAR(200),\n",
    "  ABBREVIATION VARCHAR(100),\n",
    "  DBSOURCE VARCHAR(20),\n",
    "  LINKSTO VARCHAR(50),\n",
    "  CATEGORY VARCHAR(100),\n",
    "  UNITNAME VARCHAR(100),\n",
    "  PARAM_TYPE VARCHAR(30),\n",
    "  CONCEPTID INT\n",
    ") \n",
    "'''\n",
    "cursor.execute(create_table_query)"
   ]
  },
  {
   "cell_type": "code",
   "execution_count": 71,
   "metadata": {},
   "outputs": [],
   "source": [
    "# Leer la tabla \"admissions\" en un DataFrame de pandas\n",
    "df = pd.read_csv('./EDA_UCI/dataset/D_ITEMS.csv')\n",
    "# Seleccionar el 20% inferior del DataFrame\n",
    "n = int(len(df) * 0.2)\n",
    "df1_selected = df.tail(n)\n",
    "#guardo la parte seleccionada\n",
    "df1_selected.to_csv('RECORTES/D_ITEMS.csv')\n",
    "\n",
    "# Calcular el número de filas a eliminar (20% del total)\n",
    "n = int(len(df) * 0.2)\n",
    "\n",
    "# Obtener los índices de las filas a eliminar (los últimos n)\n",
    "idx_to_drop = df.tail(n).index\n",
    "\n",
    "# Eliminar las filas del DataFrame original\n",
    "df = df.drop(idx_to_drop)"
   ]
  },
  {
   "cell_type": "code",
   "execution_count": 72,
   "metadata": {},
   "outputs": [],
   "source": [
    "# Convertir los valores nan a None\n",
    "df = df.where(pd.notnull(df), None)\n",
    "\n",
    "texto_cols = df.select_dtypes(include=['string']).columns\n",
    "df[texto_cols] = df[texto_cols].fillna('SD')\n",
    "\n",
    "num_cols = df.select_dtypes(include=['int', 'float']).columns\n",
    "df[num_cols] = df[num_cols].fillna(0)"
   ]
  },
  {
   "cell_type": "code",
   "execution_count": 73,
   "metadata": {},
   "outputs": [],
   "source": [
    "for index, row in df.iterrows():\n",
    "    insert_query = \"\"\"\n",
    "    INSERT INTO D_ITEMS2\n",
    "    (ROW_ID,ITEMID,LABEL,ABBREVIATION,DBSOURCE,LINKSTO,CATEGORY,UNITNAME,PARAM_TYPE,CONCEPTID)\n",
    "    VALUES (%s, %s, %s, %s, %s, %s, %s, %s,%s, %s)\n",
    "    \"\"\"\n",
    "    data = tuple(row.values)\n",
    "    cursor.execute(insert_query, data)\n",
    "    cnx.commit()"
   ]
  },
  {
   "attachments": {},
   "cell_type": "markdown",
   "metadata": {},
   "source": [
    "TABLA DE D_LABITEMS.csv"
   ]
  },
  {
   "cell_type": "code",
   "execution_count": 74,
   "metadata": {},
   "outputs": [],
   "source": [
    "# Definir la consulta SQL para crear la tabla\n",
    "create_table_query = '''\n",
    "CREATE TABLE D_LABITEMS2 (\n",
    "  ROW_ID INT,\n",
    "  ITEMID INT,\n",
    "  LABEL VARCHAR(100),\n",
    "  FLUID VARCHAR(100),\n",
    "  CATEGORY VARCHAR(100),\n",
    "  LOINC_CODE VARCHAR(100)\n",
    ") \n",
    "'''\n",
    "cursor.execute(create_table_query)"
   ]
  },
  {
   "cell_type": "code",
   "execution_count": 75,
   "metadata": {},
   "outputs": [],
   "source": [
    "# Leer la tabla \"admissions\" en un DataFrame de pandas\n",
    "df = pd.read_csv('./EDA_UCI/dataset/D_LABITEMS.csv')\n",
    "# Seleccionar el 20% inferior del DataFrame\n",
    "n = int(len(df) * 0.2)\n",
    "df1_selected = df.tail(n)\n",
    "#guardo la parte seleccionada\n",
    "df1_selected.to_csv('RECORTES/D_LABITEMS.csv')\n",
    "\n",
    "# Calcular el número de filas a eliminar (20% del total)\n",
    "n = int(len(df) * 0.2)\n",
    "\n",
    "# Obtener los índices de las filas a eliminar (los últimos n)\n",
    "idx_to_drop = df.tail(n).index\n",
    "\n",
    "# Eliminar las filas del DataFrame original\n",
    "df = df.drop(idx_to_drop)"
   ]
  },
  {
   "cell_type": "code",
   "execution_count": 76,
   "metadata": {},
   "outputs": [],
   "source": [
    "# Convertir los valores nan a None\n",
    "df = df.where(pd.notnull(df), None)\n",
    "\n",
    "texto_cols = df.select_dtypes(include=['string']).columns\n",
    "df[texto_cols] = df[texto_cols].fillna('SD')\n",
    "\n",
    "num_cols = df.select_dtypes(include=['int', 'float']).columns\n",
    "df[num_cols] = df[num_cols].fillna(0)"
   ]
  },
  {
   "cell_type": "code",
   "execution_count": 77,
   "metadata": {},
   "outputs": [],
   "source": [
    "for index, row in df.iterrows():\n",
    "    insert_query = \"\"\"\n",
    "    INSERT INTO D_LABITEMS2\n",
    "    (ROW_ID,ITEMID,LABEL,FLUID,CATEGORY,LOINC_CODE)\n",
    "    VALUES (%s, %s, %s, %s, %s, %s)\n",
    "    \"\"\"\n",
    "    data = tuple(row.values)\n",
    "    cursor.execute(insert_query, data)\n",
    "    cnx.commit()"
   ]
  },
  {
   "attachments": {},
   "cell_type": "markdown",
   "metadata": {},
   "source": [
    "TABLA DIAGNOSES_ICD"
   ]
  },
  {
   "cell_type": "code",
   "execution_count": 78,
   "metadata": {},
   "outputs": [],
   "source": [
    "# Definir la consulta SQL para crear la tabla\n",
    "create_table_query = '''\n",
    "CREATE TABLE DIAGNOSES_ICD2 (\n",
    "  ROW_ID INT NOT NULL,\n",
    "  SUBJECT_ID INT NOT NULL,\n",
    "  HADM_ID INT NOT NULL,\n",
    "  SEQ_NUM INT,\n",
    "  ICD9_CODE VARCHAR(10)\n",
    ") \n",
    "'''\n",
    "cursor.execute(create_table_query)"
   ]
  },
  {
   "cell_type": "code",
   "execution_count": 79,
   "metadata": {},
   "outputs": [],
   "source": [
    "# Leer la tabla \"admissions\" en un DataFrame de pandas\n",
    "df = pd.read_csv('./EDA_UCI/dataset/DIAGNOSES_ICD.csv')\n",
    "# Seleccionar el 20% inferior del DataFrame\n",
    "n = int(len(df) * 0.2)\n",
    "df1_selected = df.tail(n)\n",
    "#guardo la parte seleccionada\n",
    "df1_selected.to_csv('RECORTES/DIAGNOSES_ICD.csv')\n",
    "\n",
    "# Calcular el número de filas a eliminar (20% del total)\n",
    "n = int(len(df) * 0.2)\n",
    "\n",
    "# Obtener los índices de las filas a eliminar (los últimos n)\n",
    "idx_to_drop = df.tail(n).index\n",
    "\n",
    "# Eliminar las filas del DataFrame original\n",
    "df = df.drop(idx_to_drop)"
   ]
  },
  {
   "cell_type": "code",
   "execution_count": 80,
   "metadata": {},
   "outputs": [],
   "source": [
    "# Convertir los valores nan a None\n",
    "df = df.where(pd.notnull(df), None)\n",
    "\n",
    "texto_cols = df.select_dtypes(include=['string']).columns\n",
    "df[texto_cols] = df[texto_cols].fillna('SD')\n",
    "\n",
    "num_cols = df.select_dtypes(include=['int', 'float']).columns\n",
    "df[num_cols] = df[num_cols].fillna(0)"
   ]
  },
  {
   "cell_type": "code",
   "execution_count": 81,
   "metadata": {},
   "outputs": [],
   "source": [
    "for index, row in df.iterrows():\n",
    "    insert_query = \"\"\"\n",
    "    INSERT INTO DIAGNOSES_ICD2\n",
    "    (ROW_ID,SUBJECT_ID,HADM_ID,SEQ_NUM,ICD9_CODE)\n",
    "    VALUES (%s, %s, %s, %s, %s)\n",
    "    \"\"\"\n",
    "    data = tuple(row.values)\n",
    "    cursor.execute(insert_query, data)\n",
    "    cnx.commit()"
   ]
  },
  {
   "attachments": {},
   "cell_type": "markdown",
   "metadata": {},
   "source": [
    "TABLA DRGCODES"
   ]
  },
  {
   "cell_type": "code",
   "execution_count": 82,
   "metadata": {},
   "outputs": [],
   "source": [
    "# Definir la consulta SQL para crear la tabla\n",
    "create_table_query = '''\n",
    "CREATE TABLE DDRGCODES2 (\n",
    "  ROW_ID INT, \n",
    "  SUBJECT_ID INT, \n",
    "  HADM_ID INT, \n",
    "  DRG_TYPE VARCHAR(20),\n",
    "  DRG_CODE VARCHAR(20), \n",
    "  DESCRIPTION VARCHAR(300),\n",
    "  DRG_SEVERITY SMALLINT,\n",
    "  DRG_MORTALITY SMALLINT\n",
    ") \n",
    "'''\n",
    "cursor.execute(create_table_query)"
   ]
  },
  {
   "cell_type": "code",
   "execution_count": 83,
   "metadata": {},
   "outputs": [],
   "source": [
    "# Leer la tabla \"admissions\" en un DataFrame de pandas\n",
    "df = pd.read_csv('./EDA_UCI/dataset/DRGCODES.csv')\n",
    "# Seleccionar el 20% inferior del DataFrame\n",
    "n = int(len(df) * 0.2)\n",
    "df1_selected = df.tail(n)\n",
    "#guardo la parte seleccionada\n",
    "df1_selected.to_csv('RECORTES/DRGCPDES.csv')\n",
    "\n",
    "# Calcular el número de filas a eliminar (20% del total)\n",
    "n = int(len(df) * 0.2)\n",
    "\n",
    "# Obtener los índices de las filas a eliminar (los últimos n)\n",
    "idx_to_drop = df.tail(n).index\n",
    "\n",
    "# Eliminar las filas del DataFrame original\n",
    "df = df.drop(idx_to_drop)"
   ]
  },
  {
   "cell_type": "code",
   "execution_count": 84,
   "metadata": {},
   "outputs": [],
   "source": [
    "# Convertir los valores nan a None\n",
    "df = df.where(pd.notnull(df), None)\n",
    "\n",
    "texto_cols = df.select_dtypes(include=['string']).columns\n",
    "df[texto_cols] = df[texto_cols].fillna('SD')\n",
    "\n",
    "num_cols = df.select_dtypes(include=['int', 'float']).columns\n",
    "df[num_cols] = df[num_cols].fillna(0)"
   ]
  },
  {
   "cell_type": "code",
   "execution_count": 85,
   "metadata": {},
   "outputs": [],
   "source": [
    "for index, row in df.iterrows():\n",
    "    insert_query = \"\"\"\n",
    "    INSERT INTO DDRGCODES2\n",
    "    (ROW_ID,SUBJECT_ID,HADM_ID,DRG_TYPE,DRG_CODE,DESCRIPTION,DRG_SEVERITY,DRG_MORTALITY)\n",
    "    VALUES (%s, %s, %s, %s, %s, %s, %s, %s)\n",
    "    \"\"\"\n",
    "    data = tuple(row.values)\n",
    "    cursor.execute(insert_query, data)\n",
    "    cnx.commit()"
   ]
  },
  {
   "attachments": {},
   "cell_type": "markdown",
   "metadata": {},
   "source": [
    "TABLA INPUTEVENTS_CV"
   ]
  },
  {
   "cell_type": "code",
   "execution_count": 86,
   "metadata": {},
   "outputs": [],
   "source": [
    "# Definir la consulta SQL para crear la tabla\n",
    "create_table_query = '''\n",
    "CREATE TABLE INPUTEVENTS_CV2 (\n",
    "  ROW_ID INT,\n",
    "  SUBJECT_ID INT,\n",
    "  HADM_ID INT,\n",
    "  ICUSTAY_ID INT,\n",
    "  CHARTTIME DATE,\n",
    "  ITEMID INT,\n",
    "  AMOUNT DOUBLE PRECISION,\n",
    "  AMOUNTUOM VARCHAR(30),\n",
    "  RATE DOUBLE PRECISION,\n",
    "  RATEUOM VARCHAR(30),\n",
    "  STORETIME DATE,\n",
    "  CGID BIGINT,\n",
    "  ORDERID BIGINT,\n",
    "  LINKORDERID BIGINT,\n",
    "  STOPPED VARCHAR(30),\n",
    "  NEWBOTTLE INT,\n",
    "  ORIGINALAMOUNT DOUBLE PRECISION,\n",
    "  ORIGINALAMOUNTUOM VARCHAR(30),\n",
    "  ORIGINALROUTE VARCHAR(30),\n",
    "  ORIGINALRATE DOUBLE PRECISION,\n",
    "  ORIGINALRATEUOM VARCHAR(30),\n",
    "  ORIGINALSITE VARCHAR(30)\n",
    ") \n",
    "'''\n",
    "cursor.execute(create_table_query)"
   ]
  },
  {
   "cell_type": "code",
   "execution_count": 87,
   "metadata": {},
   "outputs": [
    {
     "name": "stderr",
     "output_type": "stream",
     "text": [
      "C:\\Users\\W10-PC\\AppData\\Local\\Temp\\ipykernel_4604\\3851768261.py:2: DtypeWarning: Columns (17,20,21) have mixed types. Specify dtype option on import or set low_memory=False.\n",
      "  df = pd.read_csv('INPUTEVENTS_CV.csv')\n"
     ]
    }
   ],
   "source": [
    "# Leer la tabla \"admissions\" en un DataFrame de pandas\n",
    "df = pd.read_csv('./EDA_UCI/dataset/INPUTEVENTS_CV.csv')\n",
    "# Seleccionar el 20% inferior del DataFrame\n",
    "n = int(len(df) * 0.2)\n",
    "df1_selected = df.tail(n)\n",
    "#guardo la parte seleccionada\n",
    "df1_selected.to_csv('RECORTES/IMPUTEVENTS_CV.csv')\n",
    "\n",
    "# Calcular el número de filas a eliminar (20% del total)\n",
    "n = int(len(df) * 0.2)\n",
    "\n",
    "# Obtener los índices de las filas a eliminar (los últimos n)\n",
    "idx_to_drop = df.tail(n).index\n",
    "\n",
    "# Eliminar las filas del DataFrame original\n",
    "df = df.drop(idx_to_drop)"
   ]
  },
  {
   "cell_type": "code",
   "execution_count": 88,
   "metadata": {},
   "outputs": [],
   "source": [
    "# Convertir los valores nan a None\n",
    "df = df.where(pd.notnull(df), None)\n",
    "\n",
    "texto_cols = df.select_dtypes(include=['string']).columns\n",
    "df[texto_cols] = df[texto_cols].fillna('SD')\n",
    "\n",
    "num_cols = df.select_dtypes(include=['int', 'float']).columns\n",
    "df[num_cols] = df[num_cols].fillna(0)"
   ]
  },
  {
   "cell_type": "code",
   "execution_count": 89,
   "metadata": {},
   "outputs": [],
   "source": [
    "df['charttime']  = pd.to_datetime(df['charttime']).dt.date.replace(pd.NaT, None)\n",
    "df['storetime']  = pd.to_datetime(df['storetime']).dt.date.replace(pd.NaT, None)"
   ]
  },
  {
   "cell_type": "code",
   "execution_count": 90,
   "metadata": {},
   "outputs": [],
   "source": [
    "for index, row in df.iterrows():\n",
    "    insert_query = \"\"\"\n",
    "    INSERT INTO INPUTEVENTS_CV2\n",
    "    (ROW_ID,SUBJECT_ID,HADM_ID,ICUSTAY_ID,CHARTTIME,ITEMID,AMOUNT,AMOUNTUOM,RATE,RATEUOM,STORETIME,CGID,ORDERID,LINKORDERID,STOPPED,NEWBOTTLE,ORIGINALAMOUNT,ORIGINALAMOUNTUOM,ORIGINALROUTE,ORIGINALRATE,ORIGINALRATEUOM,ORIGINALSITE)\n",
    "    VALUES (%s, %s, %s, %s, %s, %s, %s, %s,%s, %s, %s, %s, %s, %s, %s, %s,%s, %s, %s, %s, %s, %s)\n",
    "    \"\"\"\n",
    "    data = tuple(row.values)\n",
    "    cursor.execute(insert_query, data)\n",
    "    cnx.commit()"
   ]
  },
  {
   "attachments": {},
   "cell_type": "markdown",
   "metadata": {},
   "source": [
    "TABLA INPUTEVENTS_MV"
   ]
  },
  {
   "cell_type": "code",
   "execution_count": 91,
   "metadata": {},
   "outputs": [],
   "source": [
    "# Definir la consulta SQL para crear la tabla\n",
    "create_table_query = '''\n",
    "CREATE TABLE INPUTEVENTS_MV2 (\n",
    "  ROW_ID INT,\n",
    "  SUBJECT_ID INT,\n",
    "  HADM_ID INT,\n",
    "  ICUSTAY_ID INT,\n",
    "  STARTTIME DATE,\n",
    "  ENDTIME DATE,\n",
    "  ITEMID INT,\n",
    "  AMOUNT DOUBLE PRECISION,\n",
    "  AMOUNTUOM VARCHAR(30),\n",
    "  RATE DOUBLE PRECISION,\n",
    "  RATEUOM VARCHAR(30),\n",
    "  STORETIME DATE,\n",
    "  CGID BIGINT,\n",
    "  ORDERID BIGINT,\n",
    "  LINKORDERID BIGINT,\n",
    "  ORDERCATEGORYNAME VARCHAR(100),\n",
    "  SECONDARYORDERCATEGORYNAME VARCHAR(100),\n",
    "  ORDERCOMPONENTTYPEDESCRIPTION VARCHAR(200),\n",
    "  ORDERCATEGORYDESCRIPTION VARCHAR(50),\n",
    "  PATIENTWEIGHT DOUBLE PRECISION,\n",
    "  TOTALAMOUNT DOUBLE PRECISION,\n",
    "  TOTALAMOUNTUOM VARCHAR(50),\n",
    "  ISOPENBAG SMALLINT,\n",
    "  CONTINUEINNEXTDEPT SMALLINT,\n",
    "  CANCELREASON SMALLINT,\n",
    "  STATUSDESCRIPTION VARCHAR(30),\n",
    "  COMMENTS_STATUS VARCHAR(30),\n",
    "  COMMENTS_TITLE VARCHAR(100),\n",
    "  COMMENTS_DATE DATE,\n",
    "  ORIGINALAMOUNT DOUBLE PRECISION,\n",
    "  ORIGINALRATE DOUBLE PRECISION\n",
    ") \n",
    "'''\n",
    "cursor.execute(create_table_query)"
   ]
  },
  {
   "cell_type": "code",
   "execution_count": 92,
   "metadata": {},
   "outputs": [],
   "source": [
    "# Leer la tabla \"admissions\" en un DataFrame de pandas\n",
    "df = pd.read_csv('./EDA_UCI/dataset/INPUTEVENTS_MV.csv')\n",
    "# Seleccionar el 20% inferior del DataFrame\n",
    "n = int(len(df) * 0.2)\n",
    "df1_selected = df.tail(n)\n",
    "#guardo la parte seleccionada\n",
    "df1_selected.to_csv('RECORTES/IMPUTEVENTS_MV.csv')\n",
    "\n",
    "# Calcular el número de filas a eliminar (20% del total)\n",
    "n = int(len(df) * 0.2)\n",
    "\n",
    "# Obtener los índices de las filas a eliminar (los últimos n)\n",
    "idx_to_drop = df.tail(n).index\n",
    "\n",
    "# Eliminar las filas del DataFrame original\n",
    "df = df.drop(idx_to_drop)"
   ]
  },
  {
   "cell_type": "code",
   "execution_count": 93,
   "metadata": {},
   "outputs": [],
   "source": [
    "# Convertir los valores nan a None\n",
    "df = df.where(pd.notnull(df), None)\n",
    "\n",
    "texto_cols = df.select_dtypes(include=['string']).columns\n",
    "df[texto_cols] = df[texto_cols].fillna('SD')\n",
    "\n",
    "num_cols = df.select_dtypes(include=['int', 'float']).columns\n",
    "df[num_cols] = df[num_cols].fillna(0)"
   ]
  },
  {
   "cell_type": "code",
   "execution_count": 94,
   "metadata": {},
   "outputs": [],
   "source": [
    "df['endtime']  = pd.to_datetime(df['endtime']).dt.date.replace(pd.NaT, None)\n",
    "df['storetime']  = pd.to_datetime(df['storetime']).dt.date.replace(pd.NaT, None)\n",
    "df['starttime']  = pd.to_datetime(df['starttime']).dt.date.replace(pd.NaT, None)\n",
    "df['comments_date']  = pd.to_datetime(df['comments_date']).dt.date.replace(pd.NaT, None)"
   ]
  },
  {
   "cell_type": "code",
   "execution_count": 95,
   "metadata": {},
   "outputs": [],
   "source": [
    "for index, row in df.iterrows():\n",
    "    insert_query = \"\"\"\n",
    "    INSERT INTO INPUTEVENTS_MV2\n",
    "    (ROW_ID,SUBJECT_ID,HADM_ID,ICUSTAY_ID,STARTTIME,ENDTIME,ITEMID,AMOUNT,AMOUNTUOM,RATE,RATEUOM,STORETIME,CGID,ORDERID,LINKORDERID,ORDERCATEGORYNAME,SECONDARYORDERCATEGORYNAME,ORDERCOMPONENTTYPEDESCRIPTION,ORDERCATEGORYDESCRIPTION,PATIENTWEIGHT,TOTALAMOUNT,TOTALAMOUNTUOM,ISOPENBAG,CONTINUEINNEXTDEPT,CANCELREASON,STATUSDESCRIPTION,COMMENTS_STATUS,COMMENTS_TITLE,COMMENTS_DATE,ORIGINALAMOUNT,ORIGINALRATE)\n",
    "    VALUES (%s, %s, %s, %s, %s, %s, %s, %s,%s, %s, %s, %s, %s, %s, %s, %s,%s, %s, %s, %s, %s, %s, %s, %s, %s,%s, %s, %s, %s, %s, %s)\n",
    "    \"\"\"\n",
    "    data = tuple(row.values)\n",
    "    cursor.execute(insert_query, data)\n",
    "    cnx.commit()"
   ]
  },
  {
   "attachments": {},
   "cell_type": "markdown",
   "metadata": {},
   "source": [
    "TABLA MICROBIOLOGYEVENTS"
   ]
  },
  {
   "cell_type": "code",
   "execution_count": 96,
   "metadata": {},
   "outputs": [],
   "source": [
    "# Definir la consulta SQL para crear la tabla\n",
    "create_table_query = '''\n",
    "CREATE TABLE MICROBIOLOGYEVENTS2 (\n",
    "  ROW_ID INT,\n",
    "  SUBJECT_ID INT,\n",
    "  HADM_ID INT,\n",
    "  CHARTDATE DATE,\n",
    "  CHARTTIME DATE,\n",
    "  SPEC_ITEMID INT,\n",
    "  SPEC_TYPE_DESC VARCHAR(100),\n",
    "  ORG_ITEMID INT,\n",
    "  ORG_NAME VARCHAR(100),\n",
    "  ISOLATE_NUM SMALLINT,\n",
    "  AB_ITEMID INT,\n",
    "  AB_NAME VARCHAR(30),\n",
    "  DILUTION_TEXT VARCHAR(10),\n",
    "  DILUTION_COMPARISON VARCHAR(20),\n",
    "  DILUTION_VALUE DOUBLE PRECISION,\n",
    "  INTERPRETATION VARCHAR(5)\n",
    ") \n",
    "'''\n",
    "cursor.execute(create_table_query)"
   ]
  },
  {
   "cell_type": "code",
   "execution_count": 97,
   "metadata": {},
   "outputs": [],
   "source": [
    "# Leer la tabla \"admissions\" en un DataFrame de pandas\n",
    "df = pd.read_csv('./EDA_UCI/dataset/MICROBIOLOGYEVENTS.csv')\n",
    "# Seleccionar el 20% inferior del DataFrame\n",
    "n = int(len(df) * 0.2)\n",
    "df1_selected = df.tail(n)\n",
    "#guardo la parte seleccionada\n",
    "df1_selected.to_csv('RECORTES/MICROBIOLOGYEVENTS.csv')\n",
    "\n",
    "# Calcular el número de filas a eliminar (20% del total)\n",
    "n = int(len(df) * 0.2)\n",
    "\n",
    "# Obtener los índices de las filas a eliminar (los últimos n)\n",
    "idx_to_drop = df.tail(n).index\n",
    "\n",
    "# Eliminar las filas del DataFrame original\n",
    "df = df.drop(idx_to_drop)"
   ]
  },
  {
   "cell_type": "code",
   "execution_count": 98,
   "metadata": {},
   "outputs": [],
   "source": [
    "# Convertir los valores nan a None\n",
    "df = df.where(pd.notnull(df), None)\n",
    "\n",
    "texto_cols = df.select_dtypes(include=['string']).columns\n",
    "df[texto_cols] = df[texto_cols].fillna('SD')\n",
    "\n",
    "num_cols = df.select_dtypes(include=['int', 'float']).columns\n",
    "df[num_cols] = df[num_cols].fillna(0)"
   ]
  },
  {
   "cell_type": "code",
   "execution_count": 99,
   "metadata": {},
   "outputs": [],
   "source": [
    "\n",
    "df['chartdate']  = pd.to_datetime(df['chartdate']).dt.date.replace(pd.NaT, None)\n",
    "df['charttime']  = pd.to_datetime(df['charttime']).dt.date.replace(pd.NaT, None)"
   ]
  },
  {
   "cell_type": "code",
   "execution_count": 100,
   "metadata": {},
   "outputs": [],
   "source": [
    "for index, row in df.iterrows():\n",
    "    insert_query = \"\"\"\n",
    "    INSERT INTO MICROBIOLOGYEVENTS2\n",
    "    (ROW_ID,SUBJECT_ID,HADM_ID,CHARTDATE,CHARTTIME,SPEC_ITEMID,SPEC_TYPE_DESC,ORG_ITEMID,ORG_NAME,ISOLATE_NUM,AB_ITEMID,AB_NAME,DILUTION_TEXT,DILUTION_COMPARISON,DILUTION_VALUE,INTERPRETATION)\n",
    "    VALUES (%s, %s, %s, %s, %s, %s, %s, %s,%s, %s, %s, %s, %s, %s, %s, %s)\n",
    "    \"\"\"\n",
    "    data = tuple(row.values)\n",
    "    cursor.execute(insert_query, data)\n",
    "    cnx.commit()"
   ]
  },
  {
   "attachments": {},
   "cell_type": "markdown",
   "metadata": {},
   "source": [
    "TABLA OUTPUTEVENTS"
   ]
  },
  {
   "cell_type": "code",
   "execution_count": 101,
   "metadata": {},
   "outputs": [],
   "source": [
    "# Definir la consulta SQL para crear la tabla\n",
    "create_table_query = '''\n",
    "CREATE TABLE OUTPUTEVENTS2 (\n",
    "    ROW_ID INTEGER,\n",
    "    SUBJECT_ID INTEGER,\n",
    "    HADM_ID INTEGER,\n",
    "    ICUSTAY_ID INTEGER,\n",
    "    CHARTTIME DATE,\n",
    "    ITEMID INTEGER,\n",
    "    VALUE DOUBLE PRECISION,\n",
    "    VALUEUOM VARCHAR(30),\n",
    "    STORETIME DATE,\n",
    "    CGID BIGINT,\n",
    "    STOPPED VARCHAR(30),\n",
    "    NEWBOTTLE INTEGER,\n",
    "    ISERROR SMALLINT\n",
    ") \n",
    "'''\n",
    "cursor.execute(create_table_query)"
   ]
  },
  {
   "cell_type": "code",
   "execution_count": 102,
   "metadata": {},
   "outputs": [],
   "source": [
    "# Leer la tabla \"admissions\" en un DataFrame de pandas\n",
    "df = pd.read_csv('./EDA_UCI/dataset/OUTPUTEVENTS.csv')\n",
    "# Seleccionar el 20% inferior del DataFrame\n",
    "n = int(len(df) * 0.2)\n",
    "df1_selected = df.tail(n)\n",
    "#guardo la parte seleccionada\n",
    "df1_selected.to_csv('RECORTES/OUTPUTEVENTS.csv')\n",
    "\n",
    "# Calcular el número de filas a eliminar (20% del total)\n",
    "n = int(len(df) * 0.2)\n",
    "\n",
    "# Obtener los índices de las filas a eliminar (los últimos n)\n",
    "idx_to_drop = df.tail(n).index\n",
    "\n",
    "# Eliminar las filas del DataFrame original\n",
    "df = df.drop(idx_to_drop)"
   ]
  },
  {
   "cell_type": "code",
   "execution_count": 103,
   "metadata": {},
   "outputs": [],
   "source": [
    "# Convertir los valores nan a None\n",
    "df = df.where(pd.notnull(df), None)\n",
    "\n",
    "texto_cols = df.select_dtypes(include=['string']).columns\n",
    "df[texto_cols] = df[texto_cols].fillna('SD')\n",
    "\n",
    "num_cols = df.select_dtypes(include=['int', 'float']).columns\n",
    "df[num_cols] = df[num_cols].fillna(0)"
   ]
  },
  {
   "cell_type": "code",
   "execution_count": 104,
   "metadata": {},
   "outputs": [],
   "source": [
    "\n",
    "df['storetime']  = pd.to_datetime(df['storetime']).dt.date.replace(pd.NaT, None)\n",
    "df['charttime']  = pd.to_datetime(df['charttime']).dt.date.replace(pd.NaT, None)"
   ]
  },
  {
   "cell_type": "code",
   "execution_count": 105,
   "metadata": {},
   "outputs": [],
   "source": [
    "for index, row in df.iterrows():\n",
    "    insert_query = \"\"\"\n",
    "    INSERT INTO OUTPUTEVENTS2\n",
    "    (ROW_ID,SUBJECT_ID,HADM_ID,ICUSTAY_ID,CHARTTIME,ITEMID,VALUE,VALUEUOM,STORETIME,CGID,STOPPED,NEWBOTTLE,ISERROR)\n",
    "    VALUES (%s, %s, %s, %s, %s, %s, %s, %s,%s, %s, %s, %s, %s)\n",
    "    \"\"\"\n",
    "    data = tuple(row.values)\n",
    "    cursor.execute(insert_query, data)\n",
    "    cnx.commit()"
   ]
  },
  {
   "attachments": {},
   "cell_type": "markdown",
   "metadata": {},
   "source": [
    "TABLA DATETIMEEVENTS"
   ]
  },
  {
   "cell_type": "code",
   "execution_count": 106,
   "metadata": {},
   "outputs": [],
   "source": [
    "# Definir la consulta SQL para crear la tabla\n",
    "create_table_query = '''\n",
    "CREATE TABLE DATETIMEEVENTS2 (\n",
    "    ROW_ID INT,\n",
    "    SUBJECT_ID INT,\n",
    "    HADM_ID INT,\n",
    "    ICUSTAY_ID INT,\n",
    "    ITEMID INT,\n",
    "    CHARTTIME DATE,\n",
    "    STORETIME DATE,\n",
    "    CGID INT,\n",
    "    VALUE DATE,\n",
    "    VALUEUOM VARCHAR(50),\n",
    "    WARNING SMALLINT,\n",
    "    ERROR SMALLINT,\n",
    "    RESULTSTATUS VARCHAR(50),\n",
    "    STOPPED VARCHAR(50)\n",
    ") \n",
    "'''\n",
    "cursor.execute(create_table_query)"
   ]
  },
  {
   "cell_type": "code",
   "execution_count": 107,
   "metadata": {},
   "outputs": [],
   "source": [
    "# Leer la tabla \"admissions\" en un DataFrame de pandas\n",
    "df = pd.read_csv('./EDA_UCI/dataset/DATETIMEEVENTS.csv')\n",
    "# Seleccionar el 20% inferior del DataFrame\n",
    "n = int(len(df) * 0.2)\n",
    "df1_selected = df.tail(n)\n",
    "#guardo la parte seleccionada\n",
    "df1_selected.to_csv('RECORTES/DATETIMEEVENTS.csv')\n",
    "\n",
    "# Calcular el número de filas a eliminar (20% del total)\n",
    "n = int(len(df) * 0.2)\n",
    "\n",
    "# Obtener los índices de las filas a eliminar (los últimos n)\n",
    "idx_to_drop = df.tail(n).index\n",
    "\n",
    "# Eliminar las filas del DataFrame original\n",
    "df = df.drop(idx_to_drop)"
   ]
  },
  {
   "cell_type": "code",
   "execution_count": 108,
   "metadata": {},
   "outputs": [],
   "source": [
    "# Convertir los valores nan a None\n",
    "df = df.where(pd.notnull(df), None)\n",
    "\n",
    "texto_cols = df.select_dtypes(include=['string']).columns\n",
    "df[texto_cols] = df[texto_cols].fillna('SD')\n",
    "\n",
    "num_cols = df.select_dtypes(include=['int', 'float']).columns\n",
    "df[num_cols] = df[num_cols].fillna(0)"
   ]
  },
  {
   "cell_type": "code",
   "execution_count": 109,
   "metadata": {},
   "outputs": [],
   "source": [
    "\n",
    "df['storetime']  = pd.to_datetime(df['storetime']).dt.date.replace(pd.NaT, None)\n",
    "df['charttime']  = pd.to_datetime(df['charttime']).dt.date.replace(pd.NaT, None)\n",
    "df['value']  = pd.to_datetime(df['value']).dt.date.replace(pd.NaT, None)\n"
   ]
  },
  {
   "cell_type": "code",
   "execution_count": 110,
   "metadata": {},
   "outputs": [],
   "source": [
    "for index, row in df.iterrows():\n",
    "    insert_query = \"\"\"\n",
    "    INSERT INTO DATETIMEEVENTS2\n",
    "    (ROW_ID,SUBJECT_ID,HADM_ID,ICUSTAY_ID,ITEMID,CHARTTIME,STORETIME,CGID,VALUE,VALUEUOM,WARNING,ERROR,RESULTSTATUS,STOPPED)\n",
    "    VALUES (%s, %s, %s, %s, %s, %s, %s, %s,%s, %s, %s, %s, %s, %s)\n",
    "    \"\"\"\n",
    "    data = tuple(row.values)\n",
    "    cursor.execute(insert_query, data)\n",
    "    cnx.commit()"
   ]
  },
  {
   "attachments": {},
   "cell_type": "markdown",
   "metadata": {},
   "source": [
    "TABLA D_CPT EVENTS"
   ]
  },
  {
   "cell_type": "code",
   "execution_count": null,
   "metadata": {},
   "outputs": [],
   "source": []
  },
  {
   "cell_type": "code",
   "execution_count": 112,
   "metadata": {},
   "outputs": [],
   "source": [
    "# Definir la consulta SQL para crear la tabla\n",
    "create_table_query = '''\n",
    "CREATE TABLE D_CPT3 (\n",
    "    ROW_ID INT,\n",
    "    CATEGORY SMALLINT,\n",
    "    SECTIONRANGE VARCHAR(100),\n",
    "    SECTIONHEADER VARCHAR(50),\n",
    "    SUBSECTIONRANGE VARCHAR(100),\n",
    "    SUBSECTIONHEADER VARCHAR(300),\n",
    "    CODESUFFIX VARCHAR(5),\n",
    "    MINCODEINSUBSECTION\tINT,\n",
    "    MAXCODEINSUBSECTION\tINT\n",
    ") \n",
    "'''\n",
    "cursor.execute(create_table_query)"
   ]
  },
  {
   "cell_type": "code",
   "execution_count": 113,
   "metadata": {},
   "outputs": [],
   "source": [
    "# Leer la tabla \"admissions\" en un DataFrame de pandas\n",
    "df = pd.read_csv('./EDA_UCI/dataset/D_CPT.csv')\n",
    "# Seleccionar el 20% inferior del DataFrame\n",
    "n = int(len(df) * 0.2)\n",
    "df1_selected = df.tail(n)\n",
    "#guardo la parte seleccionada\n",
    "df1_selected.to_csv('RECORTES/D_CPT.csv')\n",
    "\n",
    "# Calcular el número de filas a eliminar (20% del total)\n",
    "n = int(len(df) * 0.2)\n",
    "\n",
    "# Obtener los índices de las filas a eliminar (los últimos n)\n",
    "idx_to_drop = df.tail(n).index\n",
    "\n",
    "# Eliminar las filas del DataFrame original\n",
    "df = df.drop(idx_to_drop)"
   ]
  },
  {
   "cell_type": "code",
   "execution_count": 114,
   "metadata": {},
   "outputs": [],
   "source": [
    "# Convertir los valores nan a None\n",
    "df = df.where(pd.notnull(df), None)\n",
    "\n",
    "texto_cols = df.select_dtypes(include=['string']).columns\n",
    "df[texto_cols] = df[texto_cols].fillna('SD')\n",
    "\n",
    "num_cols = df.select_dtypes(include=['int', 'float']).columns\n",
    "df[num_cols] = df[num_cols].fillna(0)"
   ]
  },
  {
   "cell_type": "code",
   "execution_count": 115,
   "metadata": {},
   "outputs": [],
   "source": [
    "for index, row in df.iterrows():\n",
    "    insert_query = \"\"\"\n",
    "    INSERT INTO D_CPT2\n",
    "    (ROW_ID,CATEGORY,SECTIONRANGE,SECTIONHEADER,SUBSECTIONRANGE,SUBSECTIONHEADER,CODESUFFIX,MINCODEINSUBSECTION,MAXCODEINSUBSECTION)\n",
    "    VALUES (%s, %s, %s, %s, %s, %s, %s, %s,%s)\n",
    "    \"\"\"\n",
    "    data = tuple(row.values)\n",
    "    cursor.execute(insert_query, data)\n",
    "    cnx.commit()"
   ]
  },
  {
   "attachments": {},
   "cell_type": "markdown",
   "metadata": {},
   "source": [
    "TABLA PROCEDUREEVENTS_ICD"
   ]
  },
  {
   "cell_type": "code",
   "execution_count": 126,
   "metadata": {},
   "outputs": [],
   "source": [
    "# Definir la consulta SQL para crear la tabla\n",
    "create_table_query = '''\n",
    "CREATE TABLE PROCEDURES_ICD2 (\n",
    "    ROW_ID INTEGER NOT NULL,\n",
    "    SUBJECT_ID INTEGER NOT NULL,\n",
    "    HADM_ID INTEGER NOT NULL,\n",
    "    SEQ_NUM INTEGER,\n",
    "    ICD9_CODE VARCHAR(10)\n",
    ") \n",
    "'''\n",
    "cursor.execute(create_table_query)"
   ]
  },
  {
   "cell_type": "code",
   "execution_count": 117,
   "metadata": {},
   "outputs": [],
   "source": [
    "# Leer la tabla \"admissions\" en un DataFrame de pandas\n",
    "df = pd.read_csv('./EDA_UCI/dataset/PROCEDURES_ICD.csv')\n",
    "# Seleccionar el 20% inferior del DataFrame\n",
    "n = int(len(df) * 0.2)\n",
    "df1_selected = df.tail(n)\n",
    "#guardo la parte seleccionada\n",
    "df1_selected.to_csv('RECORTES/PROCEDURES_ICD.csv')\n",
    "\n",
    "# Calcular el número de filas a eliminar (20% del total)\n",
    "n = int(len(df) * 0.2)\n",
    "\n",
    "# Obtener los índices de las filas a eliminar (los últimos n)\n",
    "idx_to_drop = df.tail(n).index\n",
    "\n",
    "# Eliminar las filas del DataFrame original\n",
    "df = df.drop(idx_to_drop)"
   ]
  },
  {
   "cell_type": "code",
   "execution_count": 127,
   "metadata": {},
   "outputs": [],
   "source": [
    "# Convertir los valores nan a None\n",
    "df = df.where(pd.notnull(df), None)\n",
    "\n",
    "texto_cols = df.select_dtypes(include=['string']).columns\n",
    "df[texto_cols] = df[texto_cols].fillna('SD')\n",
    "\n",
    "num_cols = df.select_dtypes(include=['int', 'float']).columns\n",
    "df[num_cols] = df[num_cols].fillna(0)"
   ]
  },
  {
   "cell_type": "code",
   "execution_count": 128,
   "metadata": {},
   "outputs": [
    {
     "name": "stdout",
     "output_type": "stream",
     "text": [
      "<class 'pandas.core.frame.DataFrame'>\n",
      "RangeIndex: 405 entries, 0 to 404\n",
      "Data columns (total 5 columns):\n",
      " #   Column      Non-Null Count  Dtype\n",
      "---  ------      --------------  -----\n",
      " 0   row_id      405 non-null    int64\n",
      " 1   subject_id  405 non-null    int64\n",
      " 2   hadm_id     405 non-null    int64\n",
      " 3   seq_num     405 non-null    int64\n",
      " 4   icd9_code   405 non-null    int64\n",
      "dtypes: int64(5)\n",
      "memory usage: 15.9 KB\n"
     ]
    }
   ],
   "source": [
    "df.info()"
   ]
  },
  {
   "cell_type": "code",
   "execution_count": 130,
   "metadata": {},
   "outputs": [],
   "source": [
    "for index, row in df.iterrows():\n",
    "    insert_query = \"\"\"\n",
    "    INSERT INTO PROCEDURES_ICD2\n",
    "    (ROW_ID,SUBJECT_ID,HADM_ID,SEQ_NUM,ICD9_CODE)\n",
    "    VALUES (%s, %s, %s, %s, %s)\n",
    "    \"\"\"\n",
    "    data = data = tuple(int(val) if isinstance(val, np.int64) else val for val in row.values)\n",
    "\n",
    "    cursor.execute(insert_query, data)\n",
    "    cnx.commit()"
   ]
  },
  {
   "cell_type": "code",
   "execution_count": null,
   "metadata": {},
   "outputs": [],
   "source": [
    "# Guardar los cambios y cerrar la conexión\n",
    "cnx.commit()\n",
    "cursor.close()\n",
    "cnx.close()"
   ]
  }
 ],
 "metadata": {
  "kernelspec": {
   "display_name": "Python 3",
   "language": "python",
   "name": "python3"
  },
  "language_info": {
   "codemirror_mode": {
    "name": "ipython",
    "version": 3
   },
   "file_extension": ".py",
   "mimetype": "text/x-python",
   "name": "python",
   "nbconvert_exporter": "python",
   "pygments_lexer": "ipython3",
   "version": "3.11.2"
  },
  "orig_nbformat": 4
 },
 "nbformat": 4,
 "nbformat_minor": 2
}
