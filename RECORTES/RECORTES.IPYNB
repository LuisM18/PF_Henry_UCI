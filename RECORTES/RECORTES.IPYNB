{
 "cells": [
  {
   "cell_type": "code",
   "execution_count": 1,
   "metadata": {},
   "outputs": [],
   "source": [
    "import pandas as pd"
   ]
  },
  {
   "attachments": {},
   "cell_type": "markdown",
   "metadata": {},
   "source": [
    "RECORTE TABLA PATIENT"
   ]
  },
  {
   "cell_type": "code",
   "execution_count": 2,
   "metadata": {},
   "outputs": [],
   "source": [
    "df1 = pd.read_csv('../PATIENTS.csv')"
   ]
  },
  {
   "cell_type": "code",
   "execution_count": 3,
   "metadata": {},
   "outputs": [],
   "source": [
    "# Seleccionar el 20% inferior del DataFrame\n",
    "n = int(len(df1) * 0.2)\n",
    "df1_selected = df1.tail(n)"
   ]
  },
  {
   "cell_type": "code",
   "execution_count": 4,
   "metadata": {},
   "outputs": [
    {
     "name": "stderr",
     "output_type": "stream",
     "text": [
      "C:\\Users\\W10-PC\\AppData\\Local\\Temp\\ipykernel_19648\\3444565894.py:5: SettingWithCopyWarning: \n",
      "A value is trying to be set on a copy of a slice from a DataFrame.\n",
      "Try using .loc[row_indexer,col_indexer] = value instead\n",
      "\n",
      "See the caveats in the documentation: https://pandas.pydata.org/pandas-docs/stable/user_guide/indexing.html#returning-a-view-versus-a-copy\n",
      "  df1_selected[['row_id', 'subject_id']] = df1_selected[['row_id', 'subject_id']].applymap(add_five)\n"
     ]
    }
   ],
   "source": [
    "# Definir una función que agrega un 5 al principio de cada elemento de tipo entero\n",
    "add_five = lambda x: str(5) + str(x) if isinstance(x, int) else x\n",
    "\n",
    "# Aplicar la función a las columnas row_id, subject_id y hadm_id del DataFrame\n",
    "df1_selected[['row_id', 'subject_id']] = df1_selected[['row_id', 'subject_id']].applymap(add_five)\n"
   ]
  },
  {
   "cell_type": "code",
   "execution_count": 5,
   "metadata": {},
   "outputs": [
    {
     "data": {
      "text/html": [
       "<div>\n",
       "<style scoped>\n",
       "    .dataframe tbody tr th:only-of-type {\n",
       "        vertical-align: middle;\n",
       "    }\n",
       "\n",
       "    .dataframe tbody tr th {\n",
       "        vertical-align: top;\n",
       "    }\n",
       "\n",
       "    .dataframe thead th {\n",
       "        text-align: right;\n",
       "    }\n",
       "</style>\n",
       "<table border=\"1\" class=\"dataframe\">\n",
       "  <thead>\n",
       "    <tr style=\"text-align: right;\">\n",
       "      <th></th>\n",
       "      <th>row_id</th>\n",
       "      <th>subject_id</th>\n",
       "      <th>gender</th>\n",
       "      <th>dob</th>\n",
       "      <th>dod</th>\n",
       "      <th>dod_hosp</th>\n",
       "      <th>dod_ssn</th>\n",
       "      <th>expire_flag</th>\n",
       "    </tr>\n",
       "  </thead>\n",
       "  <tbody>\n",
       "    <tr>\n",
       "      <th>80</th>\n",
       "      <td>531413</td>\n",
       "      <td>542367</td>\n",
       "      <td>F</td>\n",
       "      <td>2060-02-12 00:00:00</td>\n",
       "      <td>2147-11-04 00:00:00</td>\n",
       "      <td>2147-11-04 00:00:00</td>\n",
       "      <td>2147-11-04 00:00:00</td>\n",
       "      <td>1</td>\n",
       "    </tr>\n",
       "    <tr>\n",
       "      <th>81</th>\n",
       "      <td>531427</td>\n",
       "      <td>542412</td>\n",
       "      <td>M</td>\n",
       "      <td>2079-01-29 00:00:00</td>\n",
       "      <td>2166-05-30 00:00:00</td>\n",
       "      <td>2166-05-30 00:00:00</td>\n",
       "      <td>NaN</td>\n",
       "      <td>1</td>\n",
       "    </tr>\n",
       "    <tr>\n",
       "      <th>82</th>\n",
       "      <td>531429</td>\n",
       "      <td>542430</td>\n",
       "      <td>M</td>\n",
       "      <td>2061-12-10 00:00:00</td>\n",
       "      <td>2142-11-30 00:00:00</td>\n",
       "      <td>2142-11-30 00:00:00</td>\n",
       "      <td>2142-11-30 00:00:00</td>\n",
       "      <td>1</td>\n",
       "    </tr>\n",
       "    <tr>\n",
       "      <th>83</th>\n",
       "      <td>531440</td>\n",
       "      <td>542458</td>\n",
       "      <td>M</td>\n",
       "      <td>1846-07-21 00:00:00</td>\n",
       "      <td>2147-09-08 00:00:00</td>\n",
       "      <td>2147-09-08 00:00:00</td>\n",
       "      <td>NaN</td>\n",
       "      <td>1</td>\n",
       "    </tr>\n",
       "    <tr>\n",
       "      <th>84</th>\n",
       "      <td>531752</td>\n",
       "      <td>543735</td>\n",
       "      <td>M</td>\n",
       "      <td>2046-07-05 00:00:00</td>\n",
       "      <td>2128-11-09 00:00:00</td>\n",
       "      <td>2128-11-09 00:00:00</td>\n",
       "      <td>NaN</td>\n",
       "      <td>1</td>\n",
       "    </tr>\n",
       "  </tbody>\n",
       "</table>\n",
       "</div>"
      ],
      "text/plain": [
       "    row_id subject_id gender                  dob                  dod  \\\n",
       "80  531413     542367      F  2060-02-12 00:00:00  2147-11-04 00:00:00   \n",
       "81  531427     542412      M  2079-01-29 00:00:00  2166-05-30 00:00:00   \n",
       "82  531429     542430      M  2061-12-10 00:00:00  2142-11-30 00:00:00   \n",
       "83  531440     542458      M  1846-07-21 00:00:00  2147-09-08 00:00:00   \n",
       "84  531752     543735      M  2046-07-05 00:00:00  2128-11-09 00:00:00   \n",
       "\n",
       "               dod_hosp              dod_ssn  expire_flag  \n",
       "80  2147-11-04 00:00:00  2147-11-04 00:00:00            1  \n",
       "81  2166-05-30 00:00:00                  NaN            1  \n",
       "82  2142-11-30 00:00:00  2142-11-30 00:00:00            1  \n",
       "83  2147-09-08 00:00:00                  NaN            1  \n",
       "84  2128-11-09 00:00:00                  NaN            1  "
      ]
     },
     "execution_count": 5,
     "metadata": {},
     "output_type": "execute_result"
    }
   ],
   "source": [
    "df1_selected.head()"
   ]
  },
  {
   "cell_type": "code",
   "execution_count": 6,
   "metadata": {},
   "outputs": [
    {
     "name": "stdout",
     "output_type": "stream",
     "text": [
      "<class 'pandas.core.frame.DataFrame'>\n",
      "RangeIndex: 20 entries, 80 to 99\n",
      "Data columns (total 8 columns):\n",
      " #   Column       Non-Null Count  Dtype \n",
      "---  ------       --------------  ----- \n",
      " 0   row_id       20 non-null     object\n",
      " 1   subject_id   20 non-null     object\n",
      " 2   gender       20 non-null     object\n",
      " 3   dob          20 non-null     object\n",
      " 4   dod          20 non-null     object\n",
      " 5   dod_hosp     18 non-null     object\n",
      " 6   dod_ssn      13 non-null     object\n",
      " 7   expire_flag  20 non-null     int64 \n",
      "dtypes: int64(1), object(7)\n",
      "memory usage: 1.4+ KB\n"
     ]
    }
   ],
   "source": [
    "df1_selected.info()"
   ]
  },
  {
   "cell_type": "code",
   "execution_count": 7,
   "metadata": {},
   "outputs": [],
   "source": [
    "df1_selected.to_csv('PATIENTS.csv')"
   ]
  }
 ],
 "metadata": {
  "kernelspec": {
   "display_name": "Python 3",
   "language": "python",
   "name": "python3"
  },
  "language_info": {
   "codemirror_mode": {
    "name": "ipython",
    "version": 3
   },
   "file_extension": ".py",
   "mimetype": "text/x-python",
   "name": "python",
   "nbconvert_exporter": "python",
   "pygments_lexer": "ipython3",
   "version": "3.11.2"
  },
  "orig_nbformat": 4
 },
 "nbformat": 4,
 "nbformat_minor": 2
}
