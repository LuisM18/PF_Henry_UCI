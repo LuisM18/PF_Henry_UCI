{
 "cells": [
  {
   "cell_type": "code",
   "execution_count": 1,
   "metadata": {},
   "outputs": [],
   "source": [
    "import pandas as pd"
   ]
  },
  {
   "attachments": {},
   "cell_type": "markdown",
   "metadata": {},
   "source": [
    "RECORTE TABLA PATIENT"
   ]
  },
  {
   "cell_type": "code",
   "execution_count": 2,
   "metadata": {},
   "outputs": [],
   "source": [
    "df1 = pd.read_csv('../PATIENTS.csv')"
   ]
  },
  {
   "cell_type": "code",
   "execution_count": 3,
   "metadata": {},
   "outputs": [],
   "source": [
    "# Seleccionar el 20% inferior del DataFrame\n",
    "n = int(len(df1) * 0.3)\n",
    "df1_selected = df1.tail(n)"
   ]
  },
  {
   "cell_type": "code",
   "execution_count": 4,
   "metadata": {},
   "outputs": [
    {
     "name": "stderr",
     "output_type": "stream",
     "text": [
      "C:\\Users\\W10-PC\\AppData\\Local\\Temp\\ipykernel_12588\\1122532785.py:5: SettingWithCopyWarning: \n",
      "A value is trying to be set on a copy of a slice from a DataFrame.\n",
      "Try using .loc[row_indexer,col_indexer] = value instead\n",
      "\n",
      "See the caveats in the documentation: https://pandas.pydata.org/pandas-docs/stable/user_guide/indexing.html#returning-a-view-versus-a-copy\n",
      "  df1_selected[['row_id', 'subject_id']] = df1_selected[['row_id', 'subject_id']].applymap(add_five)\n"
     ]
    }
   ],
   "source": [
    "# Definir una función que agrega un 5 al principio de cada elemento de tipo entero\n",
    "add_five = lambda x: str(7) + str(x) if isinstance(x, int) else x\n",
    "\n",
    "# Aplicar la función a las columnas row_id, subject_id y hadm_id del DataFrame\n",
    "df1_selected[['row_id', 'subject_id']] = df1_selected[['row_id', 'subject_id']].applymap(add_five)\n"
   ]
  },
  {
   "cell_type": "code",
   "execution_count": 5,
   "metadata": {},
   "outputs": [
    {
     "data": {
      "text/html": [
       "<div>\n",
       "<style scoped>\n",
       "    .dataframe tbody tr th:only-of-type {\n",
       "        vertical-align: middle;\n",
       "    }\n",
       "\n",
       "    .dataframe tbody tr th {\n",
       "        vertical-align: top;\n",
       "    }\n",
       "\n",
       "    .dataframe thead th {\n",
       "        text-align: right;\n",
       "    }\n",
       "</style>\n",
       "<table border=\"1\" class=\"dataframe\">\n",
       "  <thead>\n",
       "    <tr style=\"text-align: right;\">\n",
       "      <th></th>\n",
       "      <th>row_id</th>\n",
       "      <th>subject_id</th>\n",
       "      <th>gender</th>\n",
       "      <th>dob</th>\n",
       "      <th>dod</th>\n",
       "      <th>dod_hosp</th>\n",
       "      <th>dod_ssn</th>\n",
       "      <th>expire_flag</th>\n",
       "    </tr>\n",
       "  </thead>\n",
       "  <tbody>\n",
       "    <tr>\n",
       "      <th>70</th>\n",
       "      <td>731337</td>\n",
       "      <td>742075</td>\n",
       "      <td>M</td>\n",
       "      <td>2086-02-04 00:00:00</td>\n",
       "      <td>2166-02-26 00:00:00</td>\n",
       "      <td>2166-02-26 00:00:00</td>\n",
       "      <td>2166-02-26 00:00:00</td>\n",
       "      <td>1</td>\n",
       "    </tr>\n",
       "    <tr>\n",
       "      <th>71</th>\n",
       "      <td>731350</td>\n",
       "      <td>742135</td>\n",
       "      <td>M</td>\n",
       "      <td>2083-09-20 00:00:00</td>\n",
       "      <td>2127-10-28 00:00:00</td>\n",
       "      <td>2127-10-28 00:00:00</td>\n",
       "      <td>2127-10-28 00:00:00</td>\n",
       "      <td>1</td>\n",
       "    </tr>\n",
       "    <tr>\n",
       "      <th>72</th>\n",
       "      <td>731372</td>\n",
       "      <td>742199</td>\n",
       "      <td>F</td>\n",
       "      <td>2044-06-27 00:00:00</td>\n",
       "      <td>2117-04-04 00:00:00</td>\n",
       "      <td>2117-04-04 00:00:00</td>\n",
       "      <td>NaN</td>\n",
       "      <td>1</td>\n",
       "    </tr>\n",
       "    <tr>\n",
       "      <th>73</th>\n",
       "      <td>731379</td>\n",
       "      <td>742231</td>\n",
       "      <td>F</td>\n",
       "      <td>2016-12-05 00:00:00</td>\n",
       "      <td>2105-05-18 00:00:00</td>\n",
       "      <td>2105-05-18 00:00:00</td>\n",
       "      <td>2103-05-18 00:00:00</td>\n",
       "      <td>1</td>\n",
       "    </tr>\n",
       "    <tr>\n",
       "      <th>74</th>\n",
       "      <td>731391</td>\n",
       "      <td>742275</td>\n",
       "      <td>M</td>\n",
       "      <td>2058-08-04 00:00:00</td>\n",
       "      <td>2136-03-26 00:00:00</td>\n",
       "      <td>2136-03-26 00:00:00</td>\n",
       "      <td>NaN</td>\n",
       "      <td>1</td>\n",
       "    </tr>\n",
       "  </tbody>\n",
       "</table>\n",
       "</div>"
      ],
      "text/plain": [
       "    row_id subject_id gender                  dob                  dod  \\\n",
       "70  731337     742075      M  2086-02-04 00:00:00  2166-02-26 00:00:00   \n",
       "71  731350     742135      M  2083-09-20 00:00:00  2127-10-28 00:00:00   \n",
       "72  731372     742199      F  2044-06-27 00:00:00  2117-04-04 00:00:00   \n",
       "73  731379     742231      F  2016-12-05 00:00:00  2105-05-18 00:00:00   \n",
       "74  731391     742275      M  2058-08-04 00:00:00  2136-03-26 00:00:00   \n",
       "\n",
       "               dod_hosp              dod_ssn  expire_flag  \n",
       "70  2166-02-26 00:00:00  2166-02-26 00:00:00            1  \n",
       "71  2127-10-28 00:00:00  2127-10-28 00:00:00            1  \n",
       "72  2117-04-04 00:00:00                  NaN            1  \n",
       "73  2105-05-18 00:00:00  2103-05-18 00:00:00            1  \n",
       "74  2136-03-26 00:00:00                  NaN            1  "
      ]
     },
     "execution_count": 5,
     "metadata": {},
     "output_type": "execute_result"
    }
   ],
   "source": [
    "df1_selected.head()"
   ]
  },
  {
   "cell_type": "code",
   "execution_count": 6,
   "metadata": {},
   "outputs": [
    {
     "name": "stdout",
     "output_type": "stream",
     "text": [
      "<class 'pandas.core.frame.DataFrame'>\n",
      "RangeIndex: 30 entries, 70 to 99\n",
      "Data columns (total 8 columns):\n",
      " #   Column       Non-Null Count  Dtype \n",
      "---  ------       --------------  ----- \n",
      " 0   row_id       30 non-null     object\n",
      " 1   subject_id   30 non-null     object\n",
      " 2   gender       30 non-null     object\n",
      " 3   dob          30 non-null     object\n",
      " 4   dod          30 non-null     object\n",
      " 5   dod_hosp     26 non-null     object\n",
      " 6   dod_ssn      21 non-null     object\n",
      " 7   expire_flag  30 non-null     int64 \n",
      "dtypes: int64(1), object(7)\n",
      "memory usage: 2.0+ KB\n"
     ]
    }
   ],
   "source": [
    "df1_selected.info()"
   ]
  },
  {
   "cell_type": "code",
   "execution_count": 7,
   "metadata": {},
   "outputs": [],
   "source": [
    "df1_selected.to_csv('PATIENTS.csv', index = False)"
   ]
  }
 ],
 "metadata": {
  "kernelspec": {
   "display_name": "Python 3",
   "language": "python",
   "name": "python3"
  },
  "language_info": {
   "codemirror_mode": {
    "name": "ipython",
    "version": 3
   },
   "file_extension": ".py",
   "mimetype": "text/x-python",
   "name": "python",
   "nbconvert_exporter": "python",
   "pygments_lexer": "ipython3",
   "version": "3.11.2"
  },
  "orig_nbformat": 4
 },
 "nbformat": 4,
 "nbformat_minor": 2
}
