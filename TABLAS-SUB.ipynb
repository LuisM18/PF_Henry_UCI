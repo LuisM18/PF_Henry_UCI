{
 "cells": [
  {
   "cell_type": "code",
   "execution_count": 2,
   "metadata": {},
   "outputs": [],
   "source": [
    "#LIBRERIAS\n",
    "import pandas as pd\n",
    "import numpy as np\n",
    "import mysql.connector"
   ]
  },
  {
   "attachments": {},
   "cell_type": "markdown",
   "metadata": {},
   "source": [
    "./EDA_UCI/dataset/"
   ]
  },
  {
   "cell_type": "code",
   "execution_count": 39,
   "metadata": {},
   "outputs": [],
   "source": [
    "# Conectar a la base de datos\n",
    "cnx = mysql.connector.connect(user='administrador123', password='pasword123.',\n",
    "                              host='proyectdb.mysql.database.azure.com', database='proyectdb', connect_timeout=74000)\n",
    "cursor = cnx.cursor()"
   ]
  },
  {
   "cell_type": "code",
   "execution_count": 3,
   "metadata": {},
   "outputs": [],
   "source": [
    "# Crear la tabla en la base de datos\n",
    "create_table_query = \"\"\"\n",
    "CREATE TABLE admissions2 (\n",
    "  ROW_ID INT NOT NULL,\n",
    "  SUBJECT_ID INT NOT NULL,\n",
    "  HADM_ID INT NOT NULL,\n",
    "  ADMITTIME DATE,\n",
    "  DISCHTIME DATE,\n",
    "  DEATHTIME DATE,\n",
    "  ADMISSION_TYPE VARCHAR(50) NOT NULL,\n",
    "  ADMISSION_LOCATION VARCHAR(50),\n",
    "  DISCHARGE_LOCATION VARCHAR(50),\n",
    "  INSURANCE VARCHAR(255) NOT NULL,\n",
    "  LANGUAGE VARCHAR(10),\n",
    "  RELIGION VARCHAR(50),\n",
    "  MARITAL_STATUS VARCHAR(50),\n",
    "  ETHNICITY VARCHAR(200),\n",
    "  EDREGTIME DATE,\n",
    "  EDOUTTIME DATE,\n",
    "  DIAGNOSIS VARCHAR(300),\n",
    "  HOSPITAL_EXPIRE_FLAG TINYINT NOT NULL,\n",
    "  HAS_CHARTEVENTS_DATA TINYINT NOT NULL,\n",
    "  PRIMARY KEY (ROW_ID)\n",
    ") ENGINE=InnoDB\n",
    "\"\"\"\n",
    "cursor.execute(create_table_query)"
   ]
  },
  {
   "cell_type": "code",
   "execution_count": 4,
   "metadata": {},
   "outputs": [],
   "source": [
    "# Leer la tabla \"admissions\" en un DataFrame de pandas\n",
    "df = pd.read_csv('./EDA_UCI/dataset/ADMISSIONS.csv')"
   ]
  },
  {
   "cell_type": "code",
   "execution_count": 5,
   "metadata": {},
   "outputs": [],
   "source": [
    "# Convertir los valores nan a None\n",
    "df = df.where(pd.notnull(df), None)\n",
    "\n",
    "texto_cols = df.select_dtypes(include=['string']).columns\n",
    "df[texto_cols] = df[texto_cols].fillna('SD')\n",
    "\n",
    "num_cols = df.select_dtypes(include=['int', 'float']).columns\n",
    "df[num_cols] = df[num_cols].fillna(0)"
   ]
  },
  {
   "cell_type": "code",
   "execution_count": 7,
   "metadata": {},
   "outputs": [],
   "source": [
    "# Formateamos las columnas de fecha a un formato que solo incluye la fecha\n",
    "\n",
    "\n",
    "df['admittime'] = pd.to_datetime(df['admittime']).dt.date\n",
    "df['dischtime'] = pd.to_datetime(df['dischtime']).dt.date\n",
    "df['edregtime'] = pd.to_datetime(df['edregtime']).dt.date\n",
    "df['edouttime'] = pd.to_datetime(df['edouttime']).dt.date\n",
    "df['deathtime'] = pd.to_datetime(df['deathtime']).dt.date.replace(pd.NaT, None)\n"
   ]
  },
  {
   "cell_type": "code",
   "execution_count": 9,
   "metadata": {},
   "outputs": [],
   "source": [
    "for index, row in df.iterrows():\n",
    "    insert_query = \"\"\"\n",
    "    INSERT INTO admissions2\n",
    "    (ROW_ID, SUBJECT_ID, HADM_ID, ADMITTIME, DISCHTIME, DEATHTIME, ADMISSION_TYPE, ADMISSION_LOCATION, DISCHARGE_LOCATION, INSURANCE, LANGUAGE, RELIGION, MARITAL_STATUS, ETHNICITY, EDREGTIME, EDOUTTIME, DIAGNOSIS, HOSPITAL_EXPIRE_FLAG, HAS_CHARTEVENTS_DATA)\n",
    "    VALUES (%s, %s, %s, %s, %s, %s, %s, %s, %s, %s, %s, %s, %s, %s, %s, %s, %s, %s, %s)\n",
    "    \"\"\"\n",
    "    data = tuple(row.values)\n",
    "    cursor.execute(insert_query, data)\n",
    "    cnx.commit()"
   ]
  },
  {
   "attachments": {},
   "cell_type": "markdown",
   "metadata": {},
   "source": [
    "TABLA ICUSTDAY"
   ]
  },
  {
   "cell_type": "code",
   "execution_count": 21,
   "metadata": {},
   "outputs": [],
   "source": [
    "# Definir la consulta SQL para crear la tabla\n",
    "create_table_query = '''\n",
    "CREATE TABLE ICUSTAYS2 (\n",
    "  ROW_ID INT,\n",
    "  SUBJECT_ID INT,\n",
    "  HADM_ID INT,\n",
    "  ICUSTAY_ID INT,\n",
    "  DBSOURCE VARCHAR(20),\n",
    "  FIRST_CAREUNIT VARCHAR(20),\n",
    "  LAST_CAREUNIT VARCHAR(20),\n",
    "  FIRST_WARDID SMALLINT,\n",
    "  LAST_WARDID SMALLINT,\n",
    "  INTIME DATE,\n",
    "  OUTTIME DATE,\n",
    "  LOS DOUBLE(10,2),\n",
    "  PRIMARY KEY (ROW_ID)\n",
    ") ENGINE=InnoDB;\n",
    "'''\n",
    "cursor.execute(create_table_query)\n"
   ]
  },
  {
   "cell_type": "code",
   "execution_count": 23,
   "metadata": {},
   "outputs": [],
   "source": [
    "# Leer la tabla \"admissions\" en un DataFrame de pandas\n",
    "df = pd.read_csv('./EDA_UCI/dataset/ICUSTAYS.csv')"
   ]
  },
  {
   "cell_type": "code",
   "execution_count": 24,
   "metadata": {},
   "outputs": [],
   "source": [
    "# Convertir los valores nan a None\n",
    "df = df.where(pd.notnull(df), None)\n",
    "\n",
    "texto_cols = df.select_dtypes(include=['string']).columns\n",
    "df[texto_cols] = df[texto_cols].fillna('SD')\n",
    "\n",
    "num_cols = df.select_dtypes(include=['int', 'float']).columns\n",
    "df[num_cols] = df[num_cols].fillna(0)"
   ]
  },
  {
   "cell_type": "code",
   "execution_count": 26,
   "metadata": {},
   "outputs": [],
   "source": [
    "df['intime'] = pd.to_datetime(df['intime']).dt.date.replace(pd.NaT, None)\n",
    "df['outtime'] = pd.to_datetime(df['outtime']).dt.date.replace(pd.NaT, None)"
   ]
  },
  {
   "cell_type": "code",
   "execution_count": 30,
   "metadata": {},
   "outputs": [],
   "source": [
    "for index, row in df.iterrows():\n",
    "    insert_query = \"\"\"\n",
    "    INSERT INTO ICUSTAYS2\n",
    "    (ROW_ID, SUBJECT_ID, HADM_ID, ICUSTAY_ID, DBSOURCE, FIRST_CAREUNIT, LAST_CAREUNIT, FIRST_WARDID, LAST_WARDID, INTIME, OUTTIME, LOS)\n",
    "    VALUES (%s, %s, %s, %s, %s, %s, %s, %s, %s, %s, %s, %s)\n",
    "    \"\"\"\n",
    "    data = tuple(row.values)\n",
    "    cursor.execute(insert_query, data)\n",
    "    cnx.commit()"
   ]
  },
  {
   "attachments": {},
   "cell_type": "markdown",
   "metadata": {},
   "source": [
    "TABLA PATIENTS"
   ]
  },
  {
   "cell_type": "code",
   "execution_count": 31,
   "metadata": {},
   "outputs": [],
   "source": [
    "# Definir la consulta SQL para crear la tabla\n",
    "create_table_query = '''\n",
    "CREATE TABLE PATIENT2 (\n",
    "  ROW_ID INT,\n",
    "  SUBJECT_ID INT,\n",
    "  GENDER VARCHAR(5),\n",
    "  DOB DATE,\n",
    "  DOD DATE,\n",
    "  DOD_HOSP DATE,\n",
    "  DOD_SSN DATE,\n",
    "  EXPIRE_FLAG VARCHAR(5)\n",
    ") ENGINE=InnoDB;\n",
    "'''\n",
    "cursor.execute(create_table_query)\n"
   ]
  },
  {
   "cell_type": "code",
   "execution_count": 32,
   "metadata": {},
   "outputs": [],
   "source": [
    "# Leer la tabla \"admissions\" en un DataFrame de pandas\n",
    "df = pd.read_csv('./EDA_UCI/dataset/PATIENTS.csv')"
   ]
  },
  {
   "cell_type": "code",
   "execution_count": 33,
   "metadata": {},
   "outputs": [],
   "source": [
    "# Convertir los valores nan a None\n",
    "df = df.where(pd.notnull(df), None)\n",
    "\n",
    "texto_cols = df.select_dtypes(include=['string']).columns\n",
    "df[texto_cols] = df[texto_cols].fillna('SD')\n",
    "\n",
    "num_cols = df.select_dtypes(include=['int', 'float']).columns\n",
    "df[num_cols] = df[num_cols].fillna(0)"
   ]
  },
  {
   "cell_type": "code",
   "execution_count": 35,
   "metadata": {},
   "outputs": [],
   "source": [
    "# Convertir columnas de fecha a objetos datetime y reemplazar los valores NaT con None\n",
    "df['dob'] = pd.to_datetime(df['dob']).dt.date.replace(pd.NaT, None)\n",
    "df['dod'] = pd.to_datetime(df['dod']).dt.date.replace(pd.NaT, None)\n",
    "df['dod_hosp'] = pd.to_datetime(df['dod_hosp']).dt.date.replace(pd.NaT, None)\n",
    "df['dod_ssn'] = pd.to_datetime(df['dod_ssn']).dt.date.replace(pd.NaT, None)"
   ]
  },
  {
   "cell_type": "code",
   "execution_count": 37,
   "metadata": {},
   "outputs": [],
   "source": [
    "for index, row in df.iterrows():\n",
    "    insert_query = \"\"\"\n",
    "    INSERT INTO PATIENT2\n",
    "    (ROW_ID, SUBJECT_ID, GENDER, DOB, DOD, DOD_HOSP, DOD_SSN, EXPIRE_FLAG)\n",
    "    VALUES (%s, %s, %s, %s, %s, %s, %s, %s)\n",
    "    \"\"\"\n",
    "    data = tuple(row.values)\n",
    "    cursor.execute(insert_query, data)\n",
    "    cnx.commit()"
   ]
  },
  {
   "attachments": {},
   "cell_type": "markdown",
   "metadata": {},
   "source": [
    "TABLA CPTEVENTS"
   ]
  },
  {
   "cell_type": "code",
   "execution_count": 41,
   "metadata": {},
   "outputs": [
    {
     "ename": "ProgrammingError",
     "evalue": "1050 (42S01): Table 'cptevents2' already exists",
     "output_type": "error",
     "traceback": [
      "\u001b[1;31m---------------------------------------------------------------------------\u001b[0m",
      "\u001b[1;31mMySQLInterfaceError\u001b[0m                       Traceback (most recent call last)",
      "File \u001b[1;32mc:\\Users\\W10-PC\\AppData\\Local\\Programs\\Python\\Python311\\Lib\\site-packages\\mysql\\connector\\connection_cext.py:608\u001b[0m, in \u001b[0;36mCMySQLConnection.cmd_query\u001b[1;34m(self, query, raw, buffered, raw_as_string)\u001b[0m\n\u001b[0;32m    607\u001b[0m         query \u001b[39m=\u001b[39m query\u001b[39m.\u001b[39mencode(\u001b[39m\"\u001b[39m\u001b[39mutf-8\u001b[39m\u001b[39m\"\u001b[39m)\n\u001b[1;32m--> 608\u001b[0m     \u001b[39mself\u001b[39;49m\u001b[39m.\u001b[39;49m_cmysql\u001b[39m.\u001b[39;49mquery(\n\u001b[0;32m    609\u001b[0m         query,\n\u001b[0;32m    610\u001b[0m         raw\u001b[39m=\u001b[39;49mraw,\n\u001b[0;32m    611\u001b[0m         buffered\u001b[39m=\u001b[39;49mbuffered,\n\u001b[0;32m    612\u001b[0m         raw_as_string\u001b[39m=\u001b[39;49mraw_as_string,\n\u001b[0;32m    613\u001b[0m         query_attrs\u001b[39m=\u001b[39;49m\u001b[39mself\u001b[39;49m\u001b[39m.\u001b[39;49m_query_attrs,\n\u001b[0;32m    614\u001b[0m     )\n\u001b[0;32m    615\u001b[0m \u001b[39mexcept\u001b[39;00m MySQLInterfaceError \u001b[39mas\u001b[39;00m err:\n",
      "\u001b[1;31mMySQLInterfaceError\u001b[0m: Table 'cptevents2' already exists",
      "\nThe above exception was the direct cause of the following exception:\n",
      "\u001b[1;31mProgrammingError\u001b[0m                          Traceback (most recent call last)",
      "Cell \u001b[1;32mIn[41], line 18\u001b[0m\n\u001b[0;32m      1\u001b[0m \u001b[39m# Definir la consulta SQL para crear la tabla\u001b[39;00m\n\u001b[0;32m      2\u001b[0m create_table_query \u001b[39m=\u001b[39m \u001b[39m'''\u001b[39m\n\u001b[0;32m      3\u001b[0m \u001b[39mCREATE TABLE CPTEVENTS2 (\u001b[39m\n\u001b[0;32m      4\u001b[0m \u001b[39m  ROW_ID INT PRIMARY KEY,\u001b[39m\n\u001b[1;32m   (...)\u001b[0m\n\u001b[0;32m     16\u001b[0m \u001b[39m) ENGINE=InnoDB;\u001b[39m\n\u001b[0;32m     17\u001b[0m \u001b[39m'''\u001b[39m\n\u001b[1;32m---> 18\u001b[0m cursor\u001b[39m.\u001b[39;49mexecute(create_table_query)\n",
      "File \u001b[1;32mc:\\Users\\W10-PC\\AppData\\Local\\Programs\\Python\\Python311\\Lib\\site-packages\\mysql\\connector\\cursor_cext.py:330\u001b[0m, in \u001b[0;36mCMySQLCursor.execute\u001b[1;34m(self, operation, params, multi)\u001b[0m\n\u001b[0;32m    325\u001b[0m             \u001b[39mraise\u001b[39;00m ProgrammingError(\n\u001b[0;32m    326\u001b[0m                 \u001b[39m\"\u001b[39m\u001b[39mNot all parameters were used in the SQL statement\u001b[39m\u001b[39m\"\u001b[39m\n\u001b[0;32m    327\u001b[0m             )\n\u001b[0;32m    329\u001b[0m \u001b[39mtry\u001b[39;00m:\n\u001b[1;32m--> 330\u001b[0m     result \u001b[39m=\u001b[39m \u001b[39mself\u001b[39;49m\u001b[39m.\u001b[39;49m_cnx\u001b[39m.\u001b[39;49mcmd_query(\n\u001b[0;32m    331\u001b[0m         stmt,\n\u001b[0;32m    332\u001b[0m         raw\u001b[39m=\u001b[39;49m\u001b[39mself\u001b[39;49m\u001b[39m.\u001b[39;49m_raw,\n\u001b[0;32m    333\u001b[0m         buffered\u001b[39m=\u001b[39;49m\u001b[39mself\u001b[39;49m\u001b[39m.\u001b[39;49m_buffered,\n\u001b[0;32m    334\u001b[0m         raw_as_string\u001b[39m=\u001b[39;49m\u001b[39mself\u001b[39;49m\u001b[39m.\u001b[39;49m_raw_as_string,\n\u001b[0;32m    335\u001b[0m     )\n\u001b[0;32m    336\u001b[0m \u001b[39mexcept\u001b[39;00m MySQLInterfaceError \u001b[39mas\u001b[39;00m err:\n\u001b[0;32m    337\u001b[0m     \u001b[39mraise\u001b[39;00m get_mysql_exception(\n\u001b[0;32m    338\u001b[0m         msg\u001b[39m=\u001b[39merr\u001b[39m.\u001b[39mmsg, errno\u001b[39m=\u001b[39merr\u001b[39m.\u001b[39merrno, sqlstate\u001b[39m=\u001b[39merr\u001b[39m.\u001b[39msqlstate\n\u001b[0;32m    339\u001b[0m     ) \u001b[39mfrom\u001b[39;00m \u001b[39merr\u001b[39;00m\n",
      "File \u001b[1;32mc:\\Users\\W10-PC\\AppData\\Local\\Programs\\Python\\Python311\\Lib\\site-packages\\mysql\\connector\\connection_cext.py:616\u001b[0m, in \u001b[0;36mCMySQLConnection.cmd_query\u001b[1;34m(self, query, raw, buffered, raw_as_string)\u001b[0m\n\u001b[0;32m    608\u001b[0m     \u001b[39mself\u001b[39m\u001b[39m.\u001b[39m_cmysql\u001b[39m.\u001b[39mquery(\n\u001b[0;32m    609\u001b[0m         query,\n\u001b[0;32m    610\u001b[0m         raw\u001b[39m=\u001b[39mraw,\n\u001b[1;32m   (...)\u001b[0m\n\u001b[0;32m    613\u001b[0m         query_attrs\u001b[39m=\u001b[39m\u001b[39mself\u001b[39m\u001b[39m.\u001b[39m_query_attrs,\n\u001b[0;32m    614\u001b[0m     )\n\u001b[0;32m    615\u001b[0m \u001b[39mexcept\u001b[39;00m MySQLInterfaceError \u001b[39mas\u001b[39;00m err:\n\u001b[1;32m--> 616\u001b[0m     \u001b[39mraise\u001b[39;00m get_mysql_exception(\n\u001b[0;32m    617\u001b[0m         err\u001b[39m.\u001b[39merrno, msg\u001b[39m=\u001b[39merr\u001b[39m.\u001b[39mmsg, sqlstate\u001b[39m=\u001b[39merr\u001b[39m.\u001b[39msqlstate\n\u001b[0;32m    618\u001b[0m     ) \u001b[39mfrom\u001b[39;00m \u001b[39merr\u001b[39;00m\n\u001b[0;32m    619\u001b[0m \u001b[39mexcept\u001b[39;00m \u001b[39mAttributeError\u001b[39;00m \u001b[39mas\u001b[39;00m err:\n\u001b[0;32m    620\u001b[0m     addr \u001b[39m=\u001b[39m (\n\u001b[0;32m    621\u001b[0m         \u001b[39mself\u001b[39m\u001b[39m.\u001b[39m_unix_socket \u001b[39mif\u001b[39;00m \u001b[39mself\u001b[39m\u001b[39m.\u001b[39m_unix_socket \u001b[39melse\u001b[39;00m \u001b[39mf\u001b[39m\u001b[39m\"\u001b[39m\u001b[39m{\u001b[39;00m\u001b[39mself\u001b[39m\u001b[39m.\u001b[39m_host\u001b[39m}\u001b[39;00m\u001b[39m:\u001b[39m\u001b[39m{\u001b[39;00m\u001b[39mself\u001b[39m\u001b[39m.\u001b[39m_port\u001b[39m}\u001b[39;00m\u001b[39m\"\u001b[39m\n\u001b[0;32m    622\u001b[0m     )\n",
      "\u001b[1;31mProgrammingError\u001b[0m: 1050 (42S01): Table 'cptevents2' already exists"
     ]
    }
   ],
   "source": [
    "# Definir la consulta SQL para crear la tabla\n",
    "create_table_query = '''\n",
    "CREATE TABLE CPTEVENTS2 (\n",
    "  ROW_ID INT PRIMARY KEY,\n",
    "  SUBJECT_ID INT,\n",
    "  HADM_ID INT,\n",
    "  COSTCENTER VARCHAR(10),\n",
    "  CHARTDATE DATE,\n",
    "  CPT_CD VARCHAR(10),\n",
    "  CPT_NUMBER INT,\n",
    "  CPT_SUFFIX VARCHAR(5),\n",
    "  TICKET_ID_SEQ INT,\n",
    "  SECTIONHEADER VARCHAR(50),\n",
    "  SUBSECTIONHEADER VARCHAR(300),\n",
    "  DESCRIPTION VARCHAR(200)\n",
    ") ENGINE=InnoDB;\n",
    "'''\n",
    "cursor.execute(create_table_query)\n"
   ]
  },
  {
   "cell_type": "code",
   "execution_count": 42,
   "metadata": {},
   "outputs": [],
   "source": [
    "# Leer la tabla \"admissions\" en un DataFrame de pandas\n",
    "df = pd.read_csv('./EDA_UCI/dataset/CPTEVENTS.csv')"
   ]
  },
  {
   "cell_type": "code",
   "execution_count": 43,
   "metadata": {},
   "outputs": [],
   "source": [
    "# Convertir los valores nan a None\n",
    "df = df.where(pd.notnull(df), None)\n",
    "\n",
    "texto_cols = df.select_dtypes(include=['string']).columns\n",
    "df[texto_cols] = df[texto_cols].fillna('SD')\n",
    "\n",
    "num_cols = df.select_dtypes(include=['int', 'float']).columns\n",
    "df[num_cols] = df[num_cols].fillna(0)"
   ]
  },
  {
   "cell_type": "code",
   "execution_count": 45,
   "metadata": {},
   "outputs": [],
   "source": [
    "df['chartdate'] = pd.to_datetime(df['chartdate']).dt.date.replace(pd.NaT, None)"
   ]
  },
  {
   "cell_type": "code",
   "execution_count": 48,
   "metadata": {},
   "outputs": [],
   "source": [
    "for index, row in df.iterrows():\n",
    "    insert_query = \"\"\"\n",
    "    INSERT INTO CPTEVENTS2\n",
    "    (ROW_ID,SUBJECT_ID,HADM_ID,COSTCENTER,CHARTDATE,CPT_CD,CPT_NUMBER,CPT_SUFFIX,TICKET_ID_SEQ,SECTIONHEADER,SUBSECTIONHEADER,DESCRIPTION)\n",
    "    VALUES (%s, %s, %s, %s, %s, %s, %s, %s, %s, %s, %s, %s)\n",
    "    \"\"\"\n",
    "    data = tuple(row.values)\n",
    "    cursor.execute(insert_query, data)\n",
    "    cnx.commit()"
   ]
  },
  {
   "attachments": {},
   "cell_type": "markdown",
   "metadata": {},
   "source": [
    "TABLA PROCEDUREEVENTS_MV"
   ]
  },
  {
   "cell_type": "code",
   "execution_count": 30,
   "metadata": {},
   "outputs": [],
   "source": [
    "# Definir la consulta SQL para crear la tabla\n",
    "create_table_query = '''\n",
    "CREATE TABLE PROCEDUREEVENTS_MV2 (\n",
    "  ROW_ID INT NOT NULL,\n",
    "  SUBJECT_ID INT NOT NULL,\n",
    "  HADM_ID INT NOT NULL,\n",
    "  ICUSTAY_ID INT,\n",
    "  STARTTIME DATE,\n",
    "  ENDTIME DATE,\n",
    "  ITEMID INT,\n",
    "  VALUE DOUBLE PRECISION,\n",
    "  VALUEUOM VARCHAR(30),\n",
    "  LOCATION VARCHAR(30),\n",
    "  LOCATIONCATEGORY VARCHAR(30),\n",
    "  STORETIME DATE,\n",
    "  CGID INT,\n",
    "  ORDERID INT,\n",
    "  LINKORDERID INT,\n",
    "  ORDERCATEGORYNAME VARCHAR(100),\n",
    "  SECONDARYORDERCATEGORYNAME VARCHAR(100),\n",
    "  ORDERCATEGORYDESCRIPTION VARCHAR(50),\n",
    "  ISOPENBAG SMALLINT,\n",
    "  CONTINUEINNEXTDEPT SMALLINT,\n",
    "  CANCELREASON SMALLINT,\n",
    "  STATUSDESCRIPTION VARCHAR(30),\n",
    "  COMMENTS_EDITEDBY VARCHAR(30),\n",
    "  COMMENTS_CANCELEDBY VARCHAR(30),\n",
    "  COMMENTS_DATE DATE\n",
    ") \n",
    "'''\n",
    "cursor.execute(create_table_query)"
   ]
  },
  {
   "cell_type": "code",
   "execution_count": 31,
   "metadata": {},
   "outputs": [],
   "source": [
    "# Leer la tabla \"admissions\" en un DataFrame de pandas\n",
    "df = pd.read_csv('./EDA_UCI/dataset/PROCEDUREEVENTS_MV.csv')"
   ]
  },
  {
   "cell_type": "code",
   "execution_count": 33,
   "metadata": {},
   "outputs": [],
   "source": [
    "# Convertir los valores nan a None\n",
    "df = df.where(pd.notnull(df), None)\n",
    "\n",
    "texto_cols = df.select_dtypes(include=['string']).columns\n",
    "df[texto_cols] = df[texto_cols].fillna('SD')\n",
    "\n",
    "num_cols = df.select_dtypes(include=['int', 'float']).columns\n",
    "df[num_cols] = df[num_cols].fillna(0)"
   ]
  },
  {
   "cell_type": "code",
   "execution_count": 34,
   "metadata": {},
   "outputs": [],
   "source": [
    "df['starttime'] = pd.to_datetime(df['starttime']).dt.date\n",
    "df['endtime'] = pd.to_datetime(df['endtime']).dt.date\n",
    "df['storetime'] = pd.to_datetime(df['storetime']).dt.date\n",
    "df['comments_date'] = pd.to_datetime(df['comments_date']).dt.date"
   ]
  },
  {
   "cell_type": "code",
   "execution_count": 35,
   "metadata": {},
   "outputs": [],
   "source": [
    "for index, row in df.iterrows():\n",
    "    insert_query = \"\"\"\n",
    "    INSERT INTO PROCEDUREEVENTS_MV2\n",
    "    (ROW_ID,SUBJECT_ID,HADM_ID,ICUSTAY_ID,STARTTIME,ENDTIME,ITEMID,VALUE,VALUEUOM,LOCATION,LOCATIONCATEGORY,STORETIME,CGID,ORDERID,LINKORDERID,ORDERCATEGORYNAME,SECONDARYORDERCATEGORYNAME,ORDERCATEGORYDESCRIPTION,ISOPENBAG,CONTINUEINNEXTDEPT,CANCELREASON,STATUSDESCRIPTION,COMMENTS_EDITEDBY,COMMENTS_CANCELEDBY,COMMENTS_DATE)\n",
    "    VALUES (%s, %s, %s, %s, %s, %s, %s, %s, %s, %s, %s, %s, %s, %s, %s, %s, %s, %s, %s, %s, %s, %s, %s, %s, %s)\n",
    "    \"\"\"\n",
    "    data = tuple(row.values)\n",
    "    cursor.execute(insert_query, data)\n",
    "    cnx.commit()"
   ]
  },
  {
   "attachments": {},
   "cell_type": "markdown",
   "metadata": {},
   "source": [
    "TABLA PROCEDURES_ICD"
   ]
  },
  {
   "cell_type": "code",
   "execution_count": 4,
   "metadata": {},
   "outputs": [],
   "source": [
    "# Definir la consulta SQL para crear la tabla\n",
    "create_table_query = '''\n",
    "CREATE TABLE PRESCRIPTIONS2 (\n",
    "  ROW_ID INT,\n",
    "  SUBJECT_ID INT,\n",
    "  HADM_ID INT,\n",
    "  ICUSTAY_ID INT,\n",
    "  STARTDATE DATE,\n",
    "  ENDDATE DATE,\n",
    "  DRUG_TYPE VARCHAR(100),\n",
    "  DRUG VARCHAR(100),\n",
    "  DRUG_NAME_POE VARCHAR(100),\n",
    "  DRUG_NAME_GENERIC VARCHAR(100),\n",
    "  FORMULARY_DRUG_CD VARCHAR(120),\n",
    "  GSN VARCHAR(200),\n",
    "  NDC VARCHAR(120),\n",
    "  PROD_STRENGTH VARCHAR(120),\n",
    "  DOSE_VAL_RX VARCHAR(120),\n",
    "  DOSE_UNIT_RX VARCHAR(120),\n",
    "  FORM_VAL_DISP VARCHAR(120),\n",
    "  FORM_UNIT_DISP VARCHAR(120),\n",
    "  ROUTE VARCHAR(120)\n",
    ") ENGINE=InnoDB;\n",
    "'''\n",
    "cursor.execute(create_table_query)"
   ]
  },
  {
   "cell_type": "code",
   "execution_count": 5,
   "metadata": {},
   "outputs": [],
   "source": [
    "# Leer la tabla \"admissions\" en un DataFrame de pandas\n",
    "df = pd.read_csv('./EDA_UCI/dataset/PRESCRIPTIONS.csv')"
   ]
  },
  {
   "cell_type": "code",
   "execution_count": 6,
   "metadata": {},
   "outputs": [],
   "source": [
    "# Convertir los valores nan a None\n",
    "df = df.where(pd.notnull(df), None)\n",
    "\n",
    "texto_cols = df.select_dtypes(include=['string']).columns\n",
    "df[texto_cols] = df[texto_cols].fillna('SD')\n",
    "\n",
    "num_cols = df.select_dtypes(include=['int', 'float']).columns\n",
    "df[num_cols] = df[num_cols].fillna(0)"
   ]
  },
  {
   "cell_type": "code",
   "execution_count": 7,
   "metadata": {},
   "outputs": [],
   "source": [
    "df['startdate'] = pd.to_datetime(df['startdate']).dt.date.replace(pd.NaT, None)\n",
    "df['enddate'] = pd.to_datetime(df['enddate']).dt.date.replace(pd.NaT, None)\n"
   ]
  },
  {
   "cell_type": "code",
   "execution_count": 8,
   "metadata": {},
   "outputs": [],
   "source": [
    "for index, row in df.iterrows():\n",
    "    insert_query = \"\"\"\n",
    "    INSERT INTO PRESCRIPTIONS2\n",
    "    (ROW_ID,SUBJECT_ID,HADM_ID,ICUSTAY_ID,STARTDATE,ENDDATE,DRUG_TYPE,DRUG,DRUG_NAME_POE,DRUG_NAME_GENERIC,FORMULARY_DRUG_CD,GSN, NDC,PROD_STRENGTH,DOSE_VAL_RX,DOSE_UNIT_RX,FORM_VAL_DISP,FORM_UNIT_DISP,ROUTE)\n",
    "    VALUES (%s, %s, %s, %s, %s, %s, %s, %s, %s, %s, %s, %s, %s, %s, %s, %s, %s, %s, %s)\n",
    "    \"\"\"\n",
    "    data = tuple(row.values)\n",
    "    cursor.execute(insert_query, data)\n",
    "    cnx.commit()"
   ]
  },
  {
   "attachments": {},
   "cell_type": "markdown",
   "metadata": {},
   "source": [
    "TABLA LABEVENTS"
   ]
  },
  {
   "cell_type": "code",
   "execution_count": 38,
   "metadata": {},
   "outputs": [],
   "source": [
    "# Definir la consulta SQL para crear la tabla\n",
    "create_table_query = '''\n",
    "CREATE TABLE LABEVENTS2 (\n",
    "  ROW_ID INT,\n",
    "  SUBJECT_ID INT,\n",
    "  HADM_ID INT,\n",
    "  ITEMID INT,\n",
    "  CHARTTIME DATE,\n",
    "  VALUE VARCHAR(200),\n",
    "  VALUENUM DOUBLE PRECISION,\n",
    "  VALUEUOM VARCHAR(20),\n",
    "  FLAG VARCHAR(20)\n",
    ") \n",
    "'''\n",
    "cursor.execute(create_table_query)"
   ]
  },
  {
   "cell_type": "code",
   "execution_count": 39,
   "metadata": {},
   "outputs": [],
   "source": [
    "# Leer la tabla \"admissions\" en un DataFrame de pandas\n",
    "df = pd.read_csv('./EDA_UCI/dataset/LABEVENTS.csv')"
   ]
  },
  {
   "cell_type": "code",
   "execution_count": 40,
   "metadata": {},
   "outputs": [],
   "source": [
    "# Convertir los valores nan a None\n",
    "df = df.where(pd.notnull(df), None)\n",
    "\n",
    "texto_cols = df.select_dtypes(include=['string']).columns\n",
    "df[texto_cols] = df[texto_cols].fillna('SD')\n",
    "\n",
    "num_cols = df.select_dtypes(include=['int', 'float']).columns\n",
    "df[num_cols] = df[num_cols].fillna(0)"
   ]
  },
  {
   "cell_type": "code",
   "execution_count": 41,
   "metadata": {},
   "outputs": [],
   "source": [
    "df['charttime']  = pd.to_datetime(df['charttime']).dt.date.replace(pd.NaT, None)\n"
   ]
  },
  {
   "cell_type": "code",
   "execution_count": 43,
   "metadata": {},
   "outputs": [],
   "source": [
    "for index, row in df.iterrows():\n",
    "    insert_query = \"\"\"\n",
    "    INSERT INTO LABEVENTS2\n",
    "    (ROW_ID,SUBJECT_ID,HADM_ID,ITEMID,CHARTTIME,VALUE,VALUENUM,VALUEUOM,FLAG)\n",
    "    VALUES (%s, %s, %s, %s, %s, %s, %s, %s, %s)\n",
    "    \"\"\"\n",
    "    data = tuple(row.values)\n",
    "    cursor.execute(insert_query, data)\n",
    "    cnx.commit()"
   ]
  },
  {
   "attachments": {},
   "cell_type": "markdown",
   "metadata": {},
   "source": [
    "TABLA CALLOUTS"
   ]
  },
  {
   "cell_type": "code",
   "execution_count": 11,
   "metadata": {},
   "outputs": [],
   "source": [
    "# Definir la consulta SQL para crear la tabla\n",
    "create_table_query = '''\n",
    "CREATE TABLE CALLOUT2 (\n",
    "  ROW_ID INT,\n",
    "  SUBJECT_ID INT,\n",
    "  HADM_ID INT,\n",
    "  SUBMIT_WARDID INT,\n",
    "  SUBMIT_CAREUNIT VARCHAR(15),\n",
    "  CURR_WARDID INT,\n",
    "  CURR_CAREUNIT VARCHAR(15),\n",
    "  CALLOUT_WARDID INT,\n",
    "  CALLOUT_SERVICE VARCHAR(10),\n",
    "  REQUEST_TELE SMALLINT,\n",
    "  REQUEST_RESP SMALLINT,\n",
    "  REQUEST_CDIFF SMALLINT,\n",
    "  REQUEST_MRSA SMALLINT,\n",
    "  REQUEST_VRE SMALLINT,\n",
    "  CALLOUT_STATUS VARCHAR(20),\n",
    "  CALLOUT_OUTCOME VARCHAR(20),\n",
    "  DISCHARGE_WARDID INT,\n",
    "  ACKNOWLEDGE_STATUS VARCHAR(20),\n",
    "  CREATETIME DATE,\n",
    "  UPDATETIME DATE,\n",
    "  ACKNOWLEDGETIME DATE,\n",
    "  OUTCOMETIME DATE,\n",
    "  FIRSTRESERVATIONTIME DATE,\n",
    "  CURRENTRESERVATIONTIME DATE\n",
    ") ENGINE=InnoDB;\n",
    "'''\n",
    "cursor.execute(create_table_query)"
   ]
  },
  {
   "cell_type": "code",
   "execution_count": 12,
   "metadata": {},
   "outputs": [],
   "source": [
    "# Leer la tabla \"admissions\" en un DataFrame de pandas\n",
    "df = pd.read_csv('./EDA_UCI/dataset/CALLOUT.csv')"
   ]
  },
  {
   "cell_type": "code",
   "execution_count": 13,
   "metadata": {},
   "outputs": [],
   "source": [
    "# Convertir los valores nan a None\n",
    "df = df.where(pd.notnull(df), None)\n",
    "\n",
    "texto_cols = df.select_dtypes(include=['string']).columns\n",
    "df[texto_cols] = df[texto_cols].fillna('SD')\n",
    "\n",
    "num_cols = df.select_dtypes(include=['int', 'float']).columns\n",
    "df[num_cols] = df[num_cols].fillna(0)"
   ]
  },
  {
   "cell_type": "code",
   "execution_count": 14,
   "metadata": {},
   "outputs": [],
   "source": [
    "df['createtime']  = pd.to_datetime(df['createtime']).dt.date.replace(pd.NaT, None)\n",
    "df['updatetime']  = pd.to_datetime(df['updatetime']).dt.date.replace(pd.NaT, None)\n",
    "df['acknowledgetime']  = pd.to_datetime(df['acknowledgetime']).dt.date.replace(pd.NaT, None)\n",
    "df['outcometime']  = pd.to_datetime(df['outcometime']).dt.date.replace(pd.NaT, None)\n",
    "df['firstreservationtime']  = pd.to_datetime(df['firstreservationtime']).dt.date.replace(pd.NaT, None)\n",
    "df['currentreservationtime']  = pd.to_datetime(df['currentreservationtime']).dt.date.replace(pd.NaT, None)"
   ]
  },
  {
   "cell_type": "code",
   "execution_count": 15,
   "metadata": {},
   "outputs": [],
   "source": [
    "for index, row in df.iterrows():\n",
    "    insert_query = \"\"\"\n",
    "    INSERT INTO CALLOUT2\n",
    "    (ROW_ID,SUBJECT_ID,HADM_ID,SUBMIT_WARDID,SUBMIT_CAREUNIT,CURR_WARDID,CURR_CAREUNIT,CALLOUT_WARDID,CALLOUT_SERVICE,REQUEST_TELE,REQUEST_RESP,REQUEST_CDIFF,REQUEST_MRSA,REQUEST_VRE,CALLOUT_STATUS,CALLOUT_OUTCOME,DISCHARGE_WARDID,ACKNOWLEDGE_STATUS,CREATETIME,UPDATETIME,ACKNOWLEDGETIME,OUTCOMETIME,FIRSTRESERVATIONTIME,CURRENTRESERVATIONTIME)\n",
    "    VALUES (%s, %s, %s, %s, %s, %s, %s, %s,%s, %s, %s, %s, %s, %s, %s, %s,%s, %s, %s, %s, %s, %s, %s, %s)\n",
    "    \"\"\"\n",
    "    data = tuple(row.values)\n",
    "    cursor.execute(insert_query, data)\n",
    "    cnx.commit()"
   ]
  },
  {
   "attachments": {},
   "cell_type": "markdown",
   "metadata": {},
   "source": [
    "TABLA TRANSFER"
   ]
  },
  {
   "cell_type": "code",
   "execution_count": 44,
   "metadata": {},
   "outputs": [],
   "source": [
    "# Definir la consulta SQL para crear la tabla\n",
    "create_table_query = '''\n",
    "CREATE TABLE TRANSFERS2 (\n",
    "  ROW_ID INT,\n",
    "  SUBJECT_ID INT,\n",
    "  HADM_ID INT,\n",
    "  ICUSTAY_ID INT,\n",
    "  DBSOURCE VARCHAR(20),\n",
    "  EVENTTYPE VARCHAR(20),\n",
    "  PREV_CAREUNIT VARCHAR(20),\n",
    "  CURR_CAREUNIT VARCHAR(20),\n",
    "  PREV_WARDID SMALLINT,\n",
    "  CURR_WARDID SMALLINT,\n",
    "  INTIME DATE,\n",
    "  OUTTIME DATE,\n",
    "  LOS INT\n",
    ") ENGINE=InnoDB;\n",
    "'''\n",
    "cursor.execute(create_table_query)"
   ]
  },
  {
   "cell_type": "code",
   "execution_count": 45,
   "metadata": {},
   "outputs": [],
   "source": [
    "# Leer la tabla \"admissions\" en un DataFrame de pandas\n",
    "df = pd.read_csv('./EDA_UCI/dataset/TRANSFERS.csv')"
   ]
  },
  {
   "cell_type": "code",
   "execution_count": 46,
   "metadata": {},
   "outputs": [],
   "source": [
    "# Convertir los valores nan a None\n",
    "df = df.where(pd.notnull(df), None)\n",
    "\n",
    "texto_cols = df.select_dtypes(include=['string']).columns\n",
    "df[texto_cols] = df[texto_cols].fillna('SD')\n",
    "\n",
    "num_cols = df.select_dtypes(include=['int', 'float']).columns\n",
    "df[num_cols] = df[num_cols].fillna(0)"
   ]
  },
  {
   "cell_type": "code",
   "execution_count": 47,
   "metadata": {},
   "outputs": [],
   "source": [
    "df['intime']  = pd.to_datetime(df['intime']).dt.date.replace(pd.NaT, None)\n",
    "df['outtime']  = pd.to_datetime(df['outtime']).dt.date.replace(pd.NaT, None)\n"
   ]
  },
  {
   "cell_type": "code",
   "execution_count": 49,
   "metadata": {},
   "outputs": [],
   "source": [
    "for index, row in df.iterrows():\n",
    "    insert_query = \"\"\"\n",
    "    INSERT INTO TRANSFERS2\n",
    "    (ROW_ID,SUBJECT_ID,HADM_ID,ICUSTAY_ID,DBSOURCE,EVENTTYPE,PREV_CAREUNIT,CURR_CAREUNIT,PREV_WARDID,CURR_WARDID,INTIME,OUTTIME,LOS)\n",
    "    VALUES (%s, %s, %s, %s, %s, %s, %s, %s,%s, %s, %s, %s, %s)\n",
    "    \"\"\"\n",
    "    data = tuple(row.values)\n",
    "    cursor.execute(insert_query, data)\n",
    "    cnx.commit()"
   ]
  },
  {
   "attachments": {},
   "cell_type": "markdown",
   "metadata": {},
   "source": [
    "TABLA SERVICES"
   ]
  },
  {
   "cell_type": "code",
   "execution_count": 50,
   "metadata": {},
   "outputs": [],
   "source": [
    "# Definir la consulta SQL para crear la tabla\n",
    "create_table_query = '''\n",
    "CREATE TABLE SERVICES2 (\n",
    "  ROW_ID INT,\n",
    "  SUBJECT_ID INT,\n",
    "  HADM_ID INT,\n",
    "  TRANSFERTIME DATE,\n",
    "  PREV_SERVICE VARCHAR(20),\n",
    "  CURR_SERVICE VARCHAR(20)\n",
    ") ENGINE=InnoDB;\n",
    "'''\n",
    "cursor.execute(create_table_query)"
   ]
  },
  {
   "cell_type": "code",
   "execution_count": 51,
   "metadata": {},
   "outputs": [],
   "source": [
    "# Leer la tabla \"admissions\" en un DataFrame de pandas\n",
    "df = pd.read_csv('./EDA_UCI/dataset/SERVICES.csv')"
   ]
  },
  {
   "cell_type": "code",
   "execution_count": 52,
   "metadata": {},
   "outputs": [],
   "source": [
    "# Convertir los valores nan a None\n",
    "df = df.where(pd.notnull(df), None)\n",
    "\n",
    "texto_cols = df.select_dtypes(include=['string']).columns\n",
    "df[texto_cols] = df[texto_cols].fillna('SD')\n",
    "\n",
    "num_cols = df.select_dtypes(include=['int', 'float']).columns\n",
    "df[num_cols] = df[num_cols].fillna(0)"
   ]
  },
  {
   "cell_type": "code",
   "execution_count": 53,
   "metadata": {},
   "outputs": [],
   "source": [
    "df['transfertime']  = pd.to_datetime(df['transfertime']).dt.date.replace(pd.NaT, None)\n"
   ]
  },
  {
   "cell_type": "code",
   "execution_count": 54,
   "metadata": {},
   "outputs": [],
   "source": [
    "for index, row in df.iterrows():\n",
    "    insert_query = \"\"\"\n",
    "    INSERT INTO SERVICES2\n",
    "    (ROW_ID,SUBJECT_ID,HADM_ID,TRANSFERTIME,PREV_SERVICE,CURR_SERVICE)\n",
    "    VALUES (%s, %s, %s, %s, %s, %s)\n",
    "    \"\"\"\n",
    "    data = tuple(row.values)\n",
    "    cursor.execute(insert_query, data)\n",
    "    cnx.commit()"
   ]
  },
  {
   "attachments": {},
   "cell_type": "markdown",
   "metadata": {},
   "source": [
    "TABLA CAREGIVERS"
   ]
  },
  {
   "cell_type": "code",
   "execution_count": 55,
   "metadata": {},
   "outputs": [],
   "source": [
    "# Definir la consulta SQL para crear la tabla\n",
    "create_table_query = '''\n",
    "CREATE TABLE CAREGIVERS2 (\n",
    "  ROW_ID INTEGER,\n",
    "  CGID INTEGER,\n",
    "  LABEL VARCHAR(15),\n",
    "  DESCRIPTION VARCHAR(30)\n",
    ") \n",
    "'''\n",
    "cursor.execute(create_table_query)"
   ]
  },
  {
   "cell_type": "code",
   "execution_count": 56,
   "metadata": {},
   "outputs": [],
   "source": [
    "# Leer la tabla \"admissions\" en un DataFrame de pandas\n",
    "df = pd.read_csv('./EDA_UCI/dataset/CAREGIVERS.csv')"
   ]
  },
  {
   "cell_type": "code",
   "execution_count": 57,
   "metadata": {},
   "outputs": [],
   "source": [
    "# Convertir los valores nan a None\n",
    "df = df.where(pd.notnull(df), None)\n",
    "\n",
    "texto_cols = df.select_dtypes(include=['string']).columns\n",
    "df[texto_cols] = df[texto_cols].fillna('SD')\n",
    "\n",
    "num_cols = df.select_dtypes(include=['int', 'float']).columns\n",
    "df[num_cols] = df[num_cols].fillna(0)"
   ]
  },
  {
   "cell_type": "code",
   "execution_count": 58,
   "metadata": {},
   "outputs": [],
   "source": [
    "for index, row in df.iterrows():\n",
    "    insert_query = \"\"\"\n",
    "    INSERT INTO CAREGIVERS2\n",
    "    (ROW_ID,CGID,LABEL,DESCRIPTION)\n",
    "    VALUES (%s, %s, %s, %s)\n",
    "    \"\"\"\n",
    "    data = tuple(row.values)\n",
    "    cursor.execute(insert_query, data)\n",
    "    cnx.commit()"
   ]
  },
  {
   "attachments": {},
   "cell_type": "markdown",
   "metadata": {},
   "source": [
    "TABLA D_CPT"
   ]
  },
  {
   "cell_type": "code",
   "execution_count": 59,
   "metadata": {},
   "outputs": [],
   "source": [
    "# Definir la consulta SQL para crear la tabla\n",
    "create_table_query = '''\n",
    "CREATE TABLE D_CPT2 (\n",
    "  ROW_ID INT,\n",
    "  CATEGORY SMALLINT,\n",
    "  SECTIONRANGE VARCHAR(100),\n",
    "  SECTIONHEADER VARCHAR(50),\n",
    "  SUBSECTIONRANGE VARCHAR(100),\n",
    "  SUBSECTIONHEADER VARCHAR(300),\n",
    "  CODESUFFIX VARCHAR(5),\n",
    "  MINCODEINSUBSECTION INT,\n",
    "  MAXCODEINSUBSECTION INT\n",
    ") \n",
    "'''\n",
    "cursor.execute(create_table_query)"
   ]
  },
  {
   "cell_type": "code",
   "execution_count": 60,
   "metadata": {},
   "outputs": [],
   "source": [
    "# Leer la tabla \"admissions\" en un DataFrame de pandas\n",
    "df = pd.read_csv('./EDA_UCI/dataset/D_CPT.csv')"
   ]
  },
  {
   "cell_type": "code",
   "execution_count": 61,
   "metadata": {},
   "outputs": [],
   "source": [
    "# Convertir los valores nan a None\n",
    "df = df.where(pd.notnull(df), None)\n",
    "\n",
    "texto_cols = df.select_dtypes(include=['string']).columns\n",
    "df[texto_cols] = df[texto_cols].fillna('SD')\n",
    "\n",
    "num_cols = df.select_dtypes(include=['int', 'float']).columns\n",
    "df[num_cols] = df[num_cols].fillna(0)"
   ]
  },
  {
   "cell_type": "code",
   "execution_count": 62,
   "metadata": {},
   "outputs": [],
   "source": [
    "for index, row in df.iterrows():\n",
    "    insert_query = \"\"\"\n",
    "    INSERT INTO D_CPT2\n",
    "    (ROW_ID,CATEGORY,SECTIONRANGE,SECTIONHEADER,SUBSECTIONRANGE,SUBSECTIONHEADER,CODESUFFIX,MINCODEINSUBSECTION,MAXCODEINSUBSECTION)\n",
    "    VALUES (%s, %s, %s, %s, %s, %s, %s, %s,%s)\n",
    "    \"\"\"\n",
    "    data = tuple(row.values)\n",
    "    cursor.execute(insert_query, data)\n",
    "    cnx.commit()"
   ]
  },
  {
   "attachments": {},
   "cell_type": "markdown",
   "metadata": {},
   "source": [
    "TABLA D_ICD_DIAGNOSES"
   ]
  },
  {
   "cell_type": "code",
   "execution_count": 63,
   "metadata": {},
   "outputs": [],
   "source": [
    "# Definir la consulta SQL para crear la tabla\n",
    "create_table_query = '''\n",
    "CREATE TABLE D_ICD_DIAGNOSESF (\n",
    "  ROW_ID INT,\n",
    "  ICD9_CODE VARCHAR(10),\n",
    "  SHORT_TITLE VARCHAR(50),\n",
    "  LONG_TITLE VARCHAR(300)\n",
    ") \n",
    "'''\n",
    "cursor.execute(create_table_query)"
   ]
  },
  {
   "cell_type": "code",
   "execution_count": 64,
   "metadata": {},
   "outputs": [],
   "source": [
    "# Leer la tabla \"admissions\" en un DataFrame de pandas\n",
    "df = pd.read_csv('./EDA_UCI/dataset/D_ICD_DIAGNOSES.csv')"
   ]
  },
  {
   "cell_type": "code",
   "execution_count": 65,
   "metadata": {},
   "outputs": [],
   "source": [
    "# Convertir los valores nan a None\n",
    "df = df.where(pd.notnull(df), None)\n",
    "\n",
    "texto_cols = df.select_dtypes(include=['string']).columns\n",
    "df[texto_cols] = df[texto_cols].fillna('SD')\n",
    "\n",
    "num_cols = df.select_dtypes(include=['int', 'float']).columns\n",
    "df[num_cols] = df[num_cols].fillna(0)"
   ]
  },
  {
   "cell_type": "code",
   "execution_count": 68,
   "metadata": {},
   "outputs": [],
   "source": [
    "for index, row in df.iterrows():\n",
    "    insert_query = \"\"\"\n",
    "    INSERT INTO D_ICD_DIAGNOSESF\n",
    "    (ROW_ID,ICD9_CODE,SHORT_TITLE,LONG_TITLE)\n",
    "    VALUES (%s, %s, %s, %s)\n",
    "\n",
    "    \"\"\"\n",
    "    data = tuple(row.values)\n",
    "    cursor.execute(insert_query, data)\n",
    "    cnx.commit()"
   ]
  },
  {
   "attachments": {},
   "cell_type": "markdown",
   "metadata": {},
   "source": [
    "TABLA D_ICD_PROCEDURES"
   ]
  },
  {
   "cell_type": "code",
   "execution_count": 36,
   "metadata": {},
   "outputs": [],
   "source": [
    "# Definir la consulta SQL para crear la tabla\n",
    "create_table_query = '''\n",
    "CREATE TABLE D_ICD_PROCEDURESFINAL (\n",
    "  ROW_ID INT,\n",
    "  ICD9_CODE VARCHAR(10),\n",
    "  SHORT_TITLE VARCHAR(50),\n",
    "  LONG_TITLE VARCHAR(300),\n",
    "  PRIMARY KEY (ICD9_CODE)\n",
    "  ) \n",
    "'''\n",
    "cursor.execute(create_table_query)"
   ]
  },
  {
   "cell_type": "code",
   "execution_count": 28,
   "metadata": {},
   "outputs": [],
   "source": [
    "# Leer la tabla \"admissions\" en un DataFrame de pandas\n",
    "df = pd.read_csv('./EDA_UCI/dataset/D_ICD_PROCEDURES.csv')"
   ]
  },
  {
   "cell_type": "code",
   "execution_count": 29,
   "metadata": {},
   "outputs": [],
   "source": [
    "# Convertir los valores nan a None\n",
    "df = df.where(pd.notnull(df), None)\n",
    "\n",
    "texto_cols = df.select_dtypes(include=['string']).columns\n",
    "df[texto_cols] = df[texto_cols].fillna('SD')\n",
    "\n",
    "num_cols = df.select_dtypes(include=['int', 'float']).columns\n",
    "df[num_cols] = df[num_cols].fillna(0)"
   ]
  },
  {
   "cell_type": "code",
   "execution_count": 35,
   "metadata": {},
   "outputs": [],
   "source": [
    "for index, row in df.iterrows():\n",
    "    insert_query = \"\"\"\n",
    "    INSERT INTO D_ICD_PROCEDURESF\n",
    "    (ROW_ID,ICD9_CODE,SHORT_TITLE,LONG_TITLE)\n",
    "    VALUES (%s, %s, %s, %s)\n",
    "    \"\"\"\n",
    "    data = tuple(row.values)\n",
    "    cursor.execute(insert_query, data)\n",
    "    cnx.commit()"
   ]
  },
  {
   "attachments": {},
   "cell_type": "markdown",
   "metadata": {},
   "source": [
    "TABLA D_ITEMS"
   ]
  },
  {
   "cell_type": "code",
   "execution_count": 74,
   "metadata": {},
   "outputs": [],
   "source": [
    "# Definir la consulta SQL para crear la tabla\n",
    "create_table_query = '''\n",
    "CREATE TABLE D_ITEMS2 (\n",
    "  ROW_ID INT,\n",
    "  ITEMID INT,\n",
    "  LABEL VARCHAR(200),\n",
    "  ABBREVIATION VARCHAR(100),\n",
    "  DBSOURCE VARCHAR(20),\n",
    "  LINKSTO VARCHAR(50),\n",
    "  CATEGORY VARCHAR(100),\n",
    "  UNITNAME VARCHAR(100),\n",
    "  PARAM_TYPE VARCHAR(30),\n",
    "  CONCEPTID INT\n",
    ") \n",
    "'''\n",
    "cursor.execute(create_table_query)"
   ]
  },
  {
   "cell_type": "code",
   "execution_count": 75,
   "metadata": {},
   "outputs": [],
   "source": [
    "# Leer la tabla \"admissions\" en un DataFrame de pandas\n",
    "df = pd.read_csv('./EDA_UCI/dataset/D_ITEMS.csv')"
   ]
  },
  {
   "cell_type": "code",
   "execution_count": 76,
   "metadata": {},
   "outputs": [],
   "source": [
    "# Convertir los valores nan a None\n",
    "df = df.where(pd.notnull(df), None)\n",
    "\n",
    "texto_cols = df.select_dtypes(include=['string']).columns\n",
    "df[texto_cols] = df[texto_cols].fillna('SD')\n",
    "\n",
    "num_cols = df.select_dtypes(include=['int', 'float']).columns\n",
    "df[num_cols] = df[num_cols].fillna(0)"
   ]
  },
  {
   "cell_type": "code",
   "execution_count": 77,
   "metadata": {},
   "outputs": [],
   "source": [
    "for index, row in df.iterrows():\n",
    "    insert_query = \"\"\"\n",
    "    INSERT INTO D_ITEMS2\n",
    "    (ROW_ID,ITEMID,LABEL,ABBREVIATION,DBSOURCE,LINKSTO,CATEGORY,UNITNAME,PARAM_TYPE,CONCEPTID)\n",
    "    VALUES (%s, %s, %s, %s, %s, %s, %s, %s,%s, %s)\n",
    "    \"\"\"\n",
    "    data = tuple(row.values)\n",
    "    cursor.execute(insert_query, data)\n",
    "    cnx.commit()"
   ]
  },
  {
   "attachments": {},
   "cell_type": "markdown",
   "metadata": {},
   "source": [
    "TABLA DE D_LABITEMS.csv"
   ]
  },
  {
   "cell_type": "code",
   "execution_count": 78,
   "metadata": {},
   "outputs": [],
   "source": [
    "# Definir la consulta SQL para crear la tabla\n",
    "create_table_query = '''\n",
    "CREATE TABLE D_LABITEMS2 (\n",
    "  ROW_ID INT,\n",
    "  ITEMID INT,\n",
    "  LABEL VARCHAR(100),\n",
    "  FLUID VARCHAR(100),\n",
    "  CATEGORY VARCHAR(100),\n",
    "  LOINC_CODE VARCHAR(100)\n",
    ") \n",
    "'''\n",
    "cursor.execute(create_table_query)"
   ]
  },
  {
   "cell_type": "code",
   "execution_count": 79,
   "metadata": {},
   "outputs": [],
   "source": [
    "# Leer la tabla \"admissions\" en un DataFrame de pandas\n",
    "df = pd.read_csv('./EDA_UCI/dataset/D_LABITEMS.csv')"
   ]
  },
  {
   "cell_type": "code",
   "execution_count": 80,
   "metadata": {},
   "outputs": [],
   "source": [
    "# Convertir los valores nan a None\n",
    "df = df.where(pd.notnull(df), None)\n",
    "\n",
    "texto_cols = df.select_dtypes(include=['string']).columns\n",
    "df[texto_cols] = df[texto_cols].fillna('SD')\n",
    "\n",
    "num_cols = df.select_dtypes(include=['int', 'float']).columns\n",
    "df[num_cols] = df[num_cols].fillna(0)"
   ]
  },
  {
   "cell_type": "code",
   "execution_count": 82,
   "metadata": {},
   "outputs": [],
   "source": [
    "for index, row in df.iterrows():\n",
    "    insert_query = \"\"\"\n",
    "    INSERT INTO D_LABITEMS2\n",
    "    (ROW_ID,ITEMID,LABEL,FLUID,CATEGORY,LOINC_CODE)\n",
    "    VALUES (%s, %s, %s, %s, %s, %s)\n",
    "    \"\"\"\n",
    "    data = tuple(row.values)\n",
    "    cursor.execute(insert_query, data)\n",
    "    cnx.commit()"
   ]
  },
  {
   "attachments": {},
   "cell_type": "markdown",
   "metadata": {},
   "source": [
    "TABLA DIAGNOSES_ICD"
   ]
  },
  {
   "cell_type": "code",
   "execution_count": 83,
   "metadata": {},
   "outputs": [],
   "source": [
    "# Definir la consulta SQL para crear la tabla\n",
    "create_table_query = '''\n",
    "CREATE TABLE DIAGNOSES_ICD2 (\n",
    "  ROW_ID INT NOT NULL,\n",
    "  SUBJECT_ID INT NOT NULL,\n",
    "  HADM_ID INT NOT NULL,\n",
    "  SEQ_NUM INT,\n",
    "  ICD9_CODE VARCHAR(10)\n",
    ") \n",
    "'''\n",
    "cursor.execute(create_table_query)"
   ]
  },
  {
   "cell_type": "code",
   "execution_count": 84,
   "metadata": {},
   "outputs": [],
   "source": [
    "# Leer la tabla \"admissions\" en un DataFrame de pandas\n",
    "df = pd.read_csv('./EDA_UCI/dataset/DIAGNOSES_ICD.csv')"
   ]
  },
  {
   "cell_type": "code",
   "execution_count": 85,
   "metadata": {},
   "outputs": [],
   "source": [
    "# Convertir los valores nan a None\n",
    "df = df.where(pd.notnull(df), None)\n",
    "\n",
    "texto_cols = df.select_dtypes(include=['string']).columns\n",
    "df[texto_cols] = df[texto_cols].fillna('SD')\n",
    "\n",
    "num_cols = df.select_dtypes(include=['int', 'float']).columns\n",
    "df[num_cols] = df[num_cols].fillna(0)"
   ]
  },
  {
   "cell_type": "code",
   "execution_count": 87,
   "metadata": {},
   "outputs": [],
   "source": [
    "for index, row in df.iterrows():\n",
    "    insert_query = \"\"\"\n",
    "    INSERT INTO DIAGNOSES_ICD2\n",
    "    (ROW_ID,SUBJECT_ID,HADM_ID,SEQ_NUM,ICD9_CODE)\n",
    "    VALUES (%s, %s, %s, %s, %s)\n",
    "    \"\"\"\n",
    "    data = tuple(row.values)\n",
    "    cursor.execute(insert_query, data)\n",
    "    cnx.commit()"
   ]
  },
  {
   "attachments": {},
   "cell_type": "markdown",
   "metadata": {},
   "source": [
    "TABLA DRGCODES"
   ]
  },
  {
   "cell_type": "code",
   "execution_count": 88,
   "metadata": {},
   "outputs": [],
   "source": [
    "# Definir la consulta SQL para crear la tabla\n",
    "create_table_query = '''\n",
    "CREATE TABLE DDRGCODES2 (\n",
    "  ROW_ID INT, \n",
    "  SUBJECT_ID INT, \n",
    "  HADM_ID INT, \n",
    "  DRG_TYPE VARCHAR(20),\n",
    "  DRG_CODE VARCHAR(20), \n",
    "  DESCRIPTION VARCHAR(300),\n",
    "  DRG_SEVERITY SMALLINT,\n",
    "  DRG_MORTALITY SMALLINT\n",
    ") \n",
    "'''\n",
    "cursor.execute(create_table_query)"
   ]
  },
  {
   "cell_type": "code",
   "execution_count": 89,
   "metadata": {},
   "outputs": [],
   "source": [
    "# Leer la tabla \"admissions\" en un DataFrame de pandas\n",
    "df = pd.read_csv('./EDA_UCI/dataset/DRGCODES.csv')"
   ]
  },
  {
   "cell_type": "code",
   "execution_count": 90,
   "metadata": {},
   "outputs": [],
   "source": [
    "# Convertir los valores nan a None\n",
    "df = df.where(pd.notnull(df), None)\n",
    "\n",
    "texto_cols = df.select_dtypes(include=['string']).columns\n",
    "df[texto_cols] = df[texto_cols].fillna('SD')\n",
    "\n",
    "num_cols = df.select_dtypes(include=['int', 'float']).columns\n",
    "df[num_cols] = df[num_cols].fillna(0)"
   ]
  },
  {
   "cell_type": "code",
   "execution_count": 92,
   "metadata": {},
   "outputs": [],
   "source": [
    "for index, row in df.iterrows():\n",
    "    insert_query = \"\"\"\n",
    "    INSERT INTO DDRGCODES2\n",
    "    (ROW_ID,SUBJECT_ID,HADM_ID,DRG_TYPE,DRG_CODE,DESCRIPTION,DRG_SEVERITY,DRG_MORTALITY)\n",
    "    VALUES (%s, %s, %s, %s, %s, %s, %s, %s)\n",
    "    \"\"\"\n",
    "    data = tuple(row.values)\n",
    "    cursor.execute(insert_query, data)\n",
    "    cnx.commit()"
   ]
  },
  {
   "attachments": {},
   "cell_type": "markdown",
   "metadata": {},
   "source": [
    "TABLA INPUTEVENTS_CV"
   ]
  },
  {
   "cell_type": "code",
   "execution_count": 93,
   "metadata": {},
   "outputs": [],
   "source": [
    "# Definir la consulta SQL para crear la tabla\n",
    "create_table_query = '''\n",
    "CREATE TABLE INPUTEVENTS_CV2 (\n",
    "  ROW_ID INT,\n",
    "  SUBJECT_ID INT,\n",
    "  HADM_ID INT,\n",
    "  ICUSTAY_ID INT,\n",
    "  CHARTTIME DATE,\n",
    "  ITEMID INT,\n",
    "  AMOUNT DOUBLE PRECISION,\n",
    "  AMOUNTUOM VARCHAR(30),\n",
    "  RATE DOUBLE PRECISION,\n",
    "  RATEUOM VARCHAR(30),\n",
    "  STORETIME DATE,\n",
    "  CGID BIGINT,\n",
    "  ORDERID BIGINT,\n",
    "  LINKORDERID BIGINT,\n",
    "  STOPPED VARCHAR(30),\n",
    "  NEWBOTTLE INT,\n",
    "  ORIGINALAMOUNT DOUBLE PRECISION,\n",
    "  ORIGINALAMOUNTUOM VARCHAR(30),\n",
    "  ORIGINALROUTE VARCHAR(30),\n",
    "  ORIGINALRATE DOUBLE PRECISION,\n",
    "  ORIGINALRATEUOM VARCHAR(30),\n",
    "  ORIGINALSITE VARCHAR(30)\n",
    ") \n",
    "'''\n",
    "cursor.execute(create_table_query)"
   ]
  },
  {
   "cell_type": "code",
   "execution_count": 94,
   "metadata": {},
   "outputs": [
    {
     "name": "stderr",
     "output_type": "stream",
     "text": [
      "C:\\Users\\W10-PC\\AppData\\Local\\Temp\\ipykernel_18332\\1345179041.py:2: DtypeWarning: Columns (17,20,21) have mixed types. Specify dtype option on import or set low_memory=False.\n",
      "  df = pd.read_csv('INPUTEVENTS_CV.csv')\n"
     ]
    }
   ],
   "source": [
    "# Leer la tabla \"admissions\" en un DataFrame de pandas\n",
    "df = pd.read_csv('./EDA_UCI/dataset/INPUTEVENTS_CV.csv')"
   ]
  },
  {
   "cell_type": "code",
   "execution_count": 95,
   "metadata": {},
   "outputs": [],
   "source": [
    "# Convertir los valores nan a None\n",
    "df = df.where(pd.notnull(df), None)\n",
    "\n",
    "texto_cols = df.select_dtypes(include=['string']).columns\n",
    "df[texto_cols] = df[texto_cols].fillna('SD')\n",
    "\n",
    "num_cols = df.select_dtypes(include=['int', 'float']).columns\n",
    "df[num_cols] = df[num_cols].fillna(0)"
   ]
  },
  {
   "cell_type": "code",
   "execution_count": 96,
   "metadata": {},
   "outputs": [],
   "source": [
    "df['charttime']  = pd.to_datetime(df['charttime']).dt.date.replace(pd.NaT, None)\n",
    "df['storetime']  = pd.to_datetime(df['storetime']).dt.date.replace(pd.NaT, None)"
   ]
  },
  {
   "cell_type": "code",
   "execution_count": 99,
   "metadata": {},
   "outputs": [
    {
     "ename": "KeyboardInterrupt",
     "evalue": "",
     "output_type": "error",
     "traceback": [
      "\u001b[1;31m---------------------------------------------------------------------------\u001b[0m",
      "\u001b[1;31mKeyboardInterrupt\u001b[0m                         Traceback (most recent call last)",
      "Cell \u001b[1;32mIn[99], line 9\u001b[0m\n\u001b[0;32m      7\u001b[0m data \u001b[39m=\u001b[39m \u001b[39mtuple\u001b[39m(row\u001b[39m.\u001b[39mvalues)\n\u001b[0;32m      8\u001b[0m cursor\u001b[39m.\u001b[39mexecute(insert_query, data)\n\u001b[1;32m----> 9\u001b[0m cnx\u001b[39m.\u001b[39mcommit()\n",
      "\u001b[1;31mKeyboardInterrupt\u001b[0m: "
     ]
    }
   ],
   "source": [
    "for index, row in df.iterrows():\n",
    "    insert_query = \"\"\"\n",
    "    INSERT INTO INPUTEVENTS_CV2\n",
    "    (ROW_ID,SUBJECT_ID,HADM_ID,ICUSTAY_ID,CHARTTIME,ITEMID,AMOUNT,AMOUNTUOM,RATE,RATEUOM,STORETIME,CGID,ORDERID,LINKORDERID,STOPPED,NEWBOTTLE,ORIGINALAMOUNT,ORIGINALAMOUNTUOM,ORIGINALROUTE,ORIGINALRATE,ORIGINALRATEUOM,ORIGINALSITE)\n",
    "    VALUES (%s, %s, %s, %s, %s, %s, %s, %s,%s, %s, %s, %s, %s, %s, %s, %s,%s, %s, %s, %s, %s, %s)\n",
    "    \"\"\"\n",
    "    data = tuple(row.values)\n",
    "    cursor.execute(insert_query, data)\n",
    "    cnx.commit()"
   ]
  },
  {
   "attachments": {},
   "cell_type": "markdown",
   "metadata": {},
   "source": [
    "TABLA INPUTEVENTS_MV"
   ]
  },
  {
   "cell_type": "code",
   "execution_count": 100,
   "metadata": {},
   "outputs": [],
   "source": [
    "# Definir la consulta SQL para crear la tabla\n",
    "create_table_query = '''\n",
    "CREATE TABLE INPUTEVENTS_MV2 (\n",
    "  ROW_ID INT,\n",
    "  SUBJECT_ID INT,\n",
    "  HADM_ID INT,\n",
    "  ICUSTAY_ID INT,\n",
    "  STARTTIME DATE,\n",
    "  ENDTIME DATE,\n",
    "  ITEMID INT,\n",
    "  AMOUNT DOUBLE PRECISION,\n",
    "  AMOUNTUOM VARCHAR(30),\n",
    "  RATE DOUBLE PRECISION,\n",
    "  RATEUOM VARCHAR(30),\n",
    "  STORETIME DATE,\n",
    "  CGID BIGINT,\n",
    "  ORDERID BIGINT,\n",
    "  LINKORDERID BIGINT,\n",
    "  ORDERCATEGORYNAME VARCHAR(100),\n",
    "  SECONDARYORDERCATEGORYNAME VARCHAR(100),\n",
    "  ORDERCOMPONENTTYPEDESCRIPTION VARCHAR(200),\n",
    "  ORDERCATEGORYDESCRIPTION VARCHAR(50),\n",
    "  PATIENTWEIGHT DOUBLE PRECISION,\n",
    "  TOTALAMOUNT DOUBLE PRECISION,\n",
    "  TOTALAMOUNTUOM VARCHAR(50),\n",
    "  ISOPENBAG SMALLINT,\n",
    "  CONTINUEINNEXTDEPT SMALLINT,\n",
    "  CANCELREASON SMALLINT,\n",
    "  STATUSDESCRIPTION VARCHAR(30),\n",
    "  COMMENTS_STATUS VARCHAR(30),\n",
    "  COMMENTS_TITLE VARCHAR(100),\n",
    "  COMMENTS_DATE DATE,\n",
    "  ORIGINALAMOUNT DOUBLE PRECISION,\n",
    "  ORIGINALRATE DOUBLE PRECISION\n",
    ") \n",
    "'''\n",
    "cursor.execute(create_table_query)"
   ]
  },
  {
   "cell_type": "code",
   "execution_count": 101,
   "metadata": {},
   "outputs": [],
   "source": [
    "# Leer la tabla \"admissions\" en un DataFrame de pandas\n",
    "df = pd.read_csv('./EDA_UCI/dataset/INPUTEVENTS_MV.csv')"
   ]
  },
  {
   "cell_type": "code",
   "execution_count": 102,
   "metadata": {},
   "outputs": [],
   "source": [
    "# Convertir los valores nan a None\n",
    "df = df.where(pd.notnull(df), None)\n",
    "\n",
    "texto_cols = df.select_dtypes(include=['string']).columns\n",
    "df[texto_cols] = df[texto_cols].fillna('SD')\n",
    "\n",
    "num_cols = df.select_dtypes(include=['int', 'float']).columns\n",
    "df[num_cols] = df[num_cols].fillna(0)"
   ]
  },
  {
   "cell_type": "code",
   "execution_count": 104,
   "metadata": {},
   "outputs": [],
   "source": [
    "df['endtime']  = pd.to_datetime(df['endtime']).dt.date.replace(pd.NaT, None)\n",
    "df['storetime']  = pd.to_datetime(df['storetime']).dt.date.replace(pd.NaT, None)\n",
    "df['starttime']  = pd.to_datetime(df['starttime']).dt.date.replace(pd.NaT, None)\n",
    "df['comments_date']  = pd.to_datetime(df['comments_date']).dt.date.replace(pd.NaT, None)"
   ]
  },
  {
   "cell_type": "code",
   "execution_count": 108,
   "metadata": {},
   "outputs": [],
   "source": [
    "for index, row in df.iterrows():\n",
    "    insert_query = \"\"\"\n",
    "    INSERT INTO INPUTEVENTS_MV2\n",
    "    (ROW_ID,SUBJECT_ID,HADM_ID,ICUSTAY_ID,STARTTIME,ENDTIME,ITEMID,AMOUNT,AMOUNTUOM,RATE,RATEUOM,STORETIME,CGID,ORDERID,LINKORDERID,ORDERCATEGORYNAME,SECONDARYORDERCATEGORYNAME,ORDERCOMPONENTTYPEDESCRIPTION,ORDERCATEGORYDESCRIPTION,PATIENTWEIGHT,TOTALAMOUNT,TOTALAMOUNTUOM,ISOPENBAG,CONTINUEINNEXTDEPT,CANCELREASON,STATUSDESCRIPTION,COMMENTS_STATUS,COMMENTS_TITLE,COMMENTS_DATE,ORIGINALAMOUNT,ORIGINALRATE)\n",
    "    VALUES (%s, %s, %s, %s, %s, %s, %s, %s,%s, %s, %s, %s, %s, %s, %s, %s,%s, %s, %s, %s, %s, %s, %s, %s, %s,%s, %s, %s, %s, %s, %s)\n",
    "    \"\"\"\n",
    "    data = tuple(row.values)\n",
    "    cursor.execute(insert_query, data)\n",
    "    cnx.commit()"
   ]
  },
  {
   "attachments": {},
   "cell_type": "markdown",
   "metadata": {},
   "source": [
    "TABLA MICROBIOLOGYEVENTS"
   ]
  },
  {
   "cell_type": "code",
   "execution_count": 109,
   "metadata": {},
   "outputs": [],
   "source": [
    "# Definir la consulta SQL para crear la tabla\n",
    "create_table_query = '''\n",
    "CREATE TABLE MICROBIOLOGYEVENTS2 (\n",
    "  ROW_ID INT,\n",
    "  SUBJECT_ID INT,\n",
    "  HADM_ID INT,\n",
    "  CHARTDATE DATE,\n",
    "  CHARTTIME DATE,\n",
    "  SPEC_ITEMID INT,\n",
    "  SPEC_TYPE_DESC VARCHAR(100),\n",
    "  ORG_ITEMID INT,\n",
    "  ORG_NAME VARCHAR(100),\n",
    "  ISOLATE_NUM SMALLINT,\n",
    "  AB_ITEMID INT,\n",
    "  AB_NAME VARCHAR(30),\n",
    "  DILUTION_TEXT VARCHAR(10),\n",
    "  DILUTION_COMPARISON VARCHAR(20),\n",
    "  DILUTION_VALUE DOUBLE PRECISION,\n",
    "  INTERPRETATION VARCHAR(5)\n",
    ") \n",
    "'''\n",
    "cursor.execute(create_table_query)"
   ]
  },
  {
   "cell_type": "code",
   "execution_count": 110,
   "metadata": {},
   "outputs": [],
   "source": [
    "# Leer la tabla \"admissions\" en un DataFrame de pandas\n",
    "df = pd.read_csv('./EDA_UCI/dataset/MICROBIOLOGYEVENTS.csv')"
   ]
  },
  {
   "cell_type": "code",
   "execution_count": 112,
   "metadata": {},
   "outputs": [],
   "source": [
    "# Convertir los valores nan a None\n",
    "df = df.where(pd.notnull(df), None)\n",
    "\n",
    "texto_cols = df.select_dtypes(include=['string']).columns\n",
    "df[texto_cols] = df[texto_cols].fillna('SD')\n",
    "\n",
    "num_cols = df.select_dtypes(include=['int', 'float']).columns\n",
    "df[num_cols] = df[num_cols].fillna(0)"
   ]
  },
  {
   "cell_type": "code",
   "execution_count": 111,
   "metadata": {},
   "outputs": [],
   "source": [
    "\n",
    "df['chartdate']  = pd.to_datetime(df['chartdate']).dt.date.replace(pd.NaT, None)\n",
    "df['charttime']  = pd.to_datetime(df['charttime']).dt.date.replace(pd.NaT, None)"
   ]
  },
  {
   "cell_type": "code",
   "execution_count": 113,
   "metadata": {},
   "outputs": [],
   "source": [
    "for index, row in df.iterrows():\n",
    "    insert_query = \"\"\"\n",
    "    INSERT INTO MICROBIOLOGYEVENTS2\n",
    "    (ROW_ID,SUBJECT_ID,HADM_ID,CHARTDATE,CHARTTIME,SPEC_ITEMID,SPEC_TYPE_DESC,ORG_ITEMID,ORG_NAME,ISOLATE_NUM,AB_ITEMID,AB_NAME,DILUTION_TEXT,DILUTION_COMPARISON,DILUTION_VALUE,INTERPRETATION)\n",
    "    VALUES (%s, %s, %s, %s, %s, %s, %s, %s,%s, %s, %s, %s, %s, %s, %s, %s)\n",
    "    \"\"\"\n",
    "    data = tuple(row.values)\n",
    "    cursor.execute(insert_query, data)\n",
    "    cnx.commit()"
   ]
  },
  {
   "attachments": {},
   "cell_type": "markdown",
   "metadata": {},
   "source": [
    "TABLA NOTEEVENTS"
   ]
  },
  {
   "cell_type": "code",
   "execution_count": 4,
   "metadata": {},
   "outputs": [],
   "source": [
    "# Definir la consulta SQL para crear la tabla\n",
    "create_table_query = '''\n",
    "CREATE TABLE NOTEEVENTS (\n",
    "    ROW_ID SERIAL PRIMARY KEY,\n",
    "    SUBJECT_ID INTEGER,\n",
    "    HADM_ID INTEGER,\n",
    "    CHARTDATE TIMESTAMP(0),\n",
    "    CHARTTIME TIMESTAMP(0),\n",
    "    STORETIME TIMESTAMP(0),\n",
    "    CATEGORY VARCHAR(50),\n",
    "    DESCRIPTION VARCHAR(300),\n",
    "    CGID INTEGER,\n",
    "    ISERROR CHAR(1),\n",
    "    TEXT TEXT\n",
    ") \n",
    "'''\n",
    "cursor.execute(create_table_query)"
   ]
  },
  {
   "attachments": {},
   "cell_type": "markdown",
   "metadata": {},
   "source": [
    "TABLA DE OUTOUTSEVENTS"
   ]
  },
  {
   "cell_type": "code",
   "execution_count": 5,
   "metadata": {},
   "outputs": [],
   "source": [
    "# Definir la consulta SQL para crear la tabla\n",
    "create_table_query = '''\n",
    "CREATE TABLE OUTPUTEVENTS2 (\n",
    "    ROW_ID INTEGER,\n",
    "    SUBJECT_ID INTEGER,\n",
    "    HADM_ID INTEGER,\n",
    "    ICUSTAY_ID INTEGER,\n",
    "    CHARTTIME DATE,\n",
    "    ITEMID INTEGER,\n",
    "    VALUE DOUBLE PRECISION,\n",
    "    VALUEUOM VARCHAR(30),\n",
    "    STORETIME DATE,\n",
    "    CGID BIGINT,\n",
    "    STOPPED VARCHAR(30),\n",
    "    NEWBOTTLE INTEGER,\n",
    "    ISERROR SMALLINT\n",
    ") \n",
    "'''\n",
    "cursor.execute(create_table_query)"
   ]
  },
  {
   "cell_type": "code",
   "execution_count": 6,
   "metadata": {},
   "outputs": [],
   "source": [
    "# Leer la tabla \"admissions\" en un DataFrame de pandas\n",
    "df = pd.read_csv('./EDA_UCI/dataset/OUTPUTEVENTS.csv')"
   ]
  },
  {
   "cell_type": "code",
   "execution_count": 7,
   "metadata": {},
   "outputs": [],
   "source": [
    "# Convertir los valores nan a None\n",
    "df = df.where(pd.notnull(df), None)\n",
    "\n",
    "texto_cols = df.select_dtypes(include=['string']).columns\n",
    "df[texto_cols] = df[texto_cols].fillna('SD')\n",
    "\n",
    "num_cols = df.select_dtypes(include=['int', 'float']).columns\n",
    "df[num_cols] = df[num_cols].fillna(0)"
   ]
  },
  {
   "cell_type": "code",
   "execution_count": 8,
   "metadata": {},
   "outputs": [],
   "source": [
    "\n",
    "df['storetime']  = pd.to_datetime(df['storetime']).dt.date.replace(pd.NaT, None)\n",
    "df['charttime']  = pd.to_datetime(df['charttime']).dt.date.replace(pd.NaT, None)"
   ]
  },
  {
   "cell_type": "code",
   "execution_count": 11,
   "metadata": {},
   "outputs": [],
   "source": [
    "for index, row in df.iterrows():\n",
    "    insert_query = \"\"\"\n",
    "    INSERT INTO OUTPUTEVENTS2\n",
    "    (ROW_ID,SUBJECT_ID,HADM_ID,ICUSTAY_ID,CHARTTIME,ITEMID,VALUE,VALUEUOM,STORETIME,CGID,STOPPED,NEWBOTTLE,ISERROR)\n",
    "    VALUES (%s, %s, %s, %s, %s, %s, %s, %s,%s, %s, %s, %s, %s)\n",
    "    \"\"\"\n",
    "    data = tuple(row.values)\n",
    "    cursor.execute(insert_query, data)\n",
    "    cnx.commit()"
   ]
  },
  {
   "attachments": {},
   "cell_type": "markdown",
   "metadata": {},
   "source": [
    "TABLA CHARTEVENTS"
   ]
  },
  {
   "cell_type": "code",
   "execution_count": null,
   "metadata": {},
   "outputs": [],
   "source": [
    "# Crear la tabla si no existe\n",
    "tabla = 'chartevents'\n",
    "cursor.execute(f\"CREATE TABLE IF NOT EXISTS {tabla} ( `row_id` int DEFAULT NULL,  `subject_id` int DEFAULT NULL, `hadm_id` int DEFAULT NULL, `icustay_id` int DEFAULT NULL, `itemid` int DEFAULT NULL, `charttime` text, `storetime` text, `cgid` int DEFAULT NULL, `value` double DEFAULT NULL, `valuenum` double DEFAULT NULL, `valueuom` text, `warning` int DEFAULT NULL, `error` int DEFAULT NULL, `resultstatus` text, `stopped` text)\")"
   ]
  },
  {
   "cell_type": "code",
   "execution_count": null,
   "metadata": {},
   "outputs": [],
   "source": [
    "\n",
    "archivo_csv = './EDA_UCI/dataset/CHARTEVENTS.csv'\n",
    "data = pd.read_csv(archivo_csv)"
   ]
  },
  {
   "cell_type": "code",
   "execution_count": null,
   "metadata": {},
   "outputs": [],
   "source": [
    "# Convertir los valores nan a None\n",
    "df = df.where(pd.notnull(df), None)\n",
    "\n",
    "texto_cols = df.select_dtypes(include=['string']).columns\n",
    "df[texto_cols] = df[texto_cols].fillna('SD')\n",
    "\n",
    "num_cols = df.select_dtypes(include=['int', 'float']).columns\n",
    "df[num_cols] = df[num_cols].fillna(0)"
   ]
  },
  {
   "cell_type": "code",
   "execution_count": null,
   "metadata": {},
   "outputs": [],
   "source": [
    "for row in data.itertuples():\n",
    "    query = \"INSERT INTO {} (row_id, subject_id, hadm_id, icustay_id, itemid, charttime, storetime, cgid, value, valuenum, valueuom, warning, error, resultstatus, stopped) VALUES (%s, %s, %s, %s, %s, %s, %s, %s, %s, %s, %s, %s, %s, %s, %s)\".format(tabla)\n",
    "    values = (row.row_id, row.subject_id, row.hadm_id, row.icustay_id, row.itemid, row.charttime, row.storetime, row.cgid, row.value, row.valuenum, row.valueuom, row.warning, row.error, row.resultstatus, row.stopped)\n",
    "    cursor.execute(query, values)"
   ]
  },
  {
   "attachments": {},
   "cell_type": "markdown",
   "metadata": {},
   "source": [
    "TABLA DATEEVENTS\n"
   ]
  },
  {
   "cell_type": "code",
   "execution_count": 40,
   "metadata": {},
   "outputs": [],
   "source": [
    "# Definir la consulta SQL para crear la tabla\n",
    "create_table_query = '''\n",
    "CREATE TABLE DATETIMEEVENTS2 (\n",
    "    ROW_ID INT,\n",
    "    SUBJECT_ID INT,\n",
    "    HADM_ID INT,\n",
    "    ICUSTAY_ID INT,\n",
    "    ITEMID INT,\n",
    "    CHARTTIME DATE,\n",
    "    STORETIME DATE,\n",
    "    CGID INT,\n",
    "    VALUE DATE,\n",
    "    VALUEUOM VARCHAR(50),\n",
    "    WARNING SMALLINT,\n",
    "    ERROR SMALLINT,\n",
    "    RESULTSTATUS VARCHAR(50),\n",
    "    STOPPED VARCHAR(50)\n",
    ") \n",
    "'''\n",
    "cursor.execute(create_table_query)"
   ]
  },
  {
   "cell_type": "code",
   "execution_count": 41,
   "metadata": {},
   "outputs": [],
   "source": [
    "# Leer la tabla \"admissions\" en un DataFrame de pandas\n",
    "df = pd.read_csv('./EDA_UCI/dataset/DATETIMEEVENTS.csv')"
   ]
  },
  {
   "cell_type": "code",
   "execution_count": 42,
   "metadata": {},
   "outputs": [],
   "source": [
    "# Convertir los valores nan a None\n",
    "df = df.where(pd.notnull(df), None)\n",
    "\n",
    "texto_cols = df.select_dtypes(include=['string']).columns\n",
    "df[texto_cols] = df[texto_cols].fillna('SD')\n",
    "\n",
    "num_cols = df.select_dtypes(include=['int', 'float']).columns\n",
    "df[num_cols] = df[num_cols].fillna(0)"
   ]
  },
  {
   "cell_type": "code",
   "execution_count": 43,
   "metadata": {},
   "outputs": [],
   "source": [
    "\n",
    "df['storetime']  = pd.to_datetime(df['storetime']).dt.date.replace(pd.NaT, None)\n",
    "df['charttime']  = pd.to_datetime(df['charttime']).dt.date.replace(pd.NaT, None)\n",
    "df['value']  = pd.to_datetime(df['value']).dt.date.replace(pd.NaT, None)\n"
   ]
  },
  {
   "cell_type": "code",
   "execution_count": 47,
   "metadata": {},
   "outputs": [],
   "source": [
    "for index, row in df.iterrows():\n",
    "    insert_query = \"\"\"\n",
    "    INSERT INTO DATETIMEEVENTS2\n",
    "    (ROW_ID,SUBJECT_ID,HADM_ID,ICUSTAY_ID,ITEMID,CHARTTIME,STORETIME,CGID,VALUE,VALUEUOM,WARNING,ERROR,RESULTSTATUS,STOPPED)\n",
    "    VALUES (%s, %s, %s, %s, %s, %s, %s, %s,%s, %s, %s, %s, %s, %s)\n",
    "    \"\"\"\n",
    "    data = tuple(row.values)\n",
    "    cursor.execute(insert_query, data)\n",
    "    cnx.commit()"
   ]
  },
  {
   "cell_type": "code",
   "execution_count": null,
   "metadata": {},
   "outputs": [],
   "source": []
  },
  {
   "cell_type": "code",
   "execution_count": null,
   "metadata": {},
   "outputs": [],
   "source": [
    "#AGREGAR LLAVES PRIMARIAS\n"
   ]
  },
  {
   "cell_type": "code",
   "execution_count": null,
   "metadata": {},
   "outputs": [],
   "source": [
    "cursor.execute('''\n",
    "ALTER TABLE d_icd_diagnoses\n",
    "ADD PRIMARY KEY(ICD9_CODE);\n",
    "''')"
   ]
  },
  {
   "cell_type": "code",
   "execution_count": 24,
   "metadata": {},
   "outputs": [],
   "source": [
    "cursor.execute('''\n",
    "ALTER TABLE d_items\n",
    "ADD PRIMARY KEY(ITEMID);\n",
    "''')"
   ]
  },
  {
   "cell_type": "code",
   "execution_count": null,
   "metadata": {},
   "outputs": [],
   "source": [
    "cursor.execute('''\n",
    "ALTER TABLE d_icd_procedures\n",
    "ADD PRIMARY KEY(ICD9_CODE);\n",
    "''')"
   ]
  },
  {
   "cell_type": "code",
   "execution_count": 25,
   "metadata": {},
   "outputs": [],
   "source": [
    "cursor.execute('''\n",
    "ALTER TABLE d_labitems\n",
    "ADD PRIMARY KEY(ITEMID);\n",
    "''')"
   ]
  },
  {
   "cell_type": "code",
   "execution_count": 14,
   "metadata": {},
   "outputs": [],
   "source": [
    "# Agregar la clave foránea\n",
    "cursor.execute('''\n",
    "ALTER TABLE admissions\n",
    "ADD FOREIGN KEY (SUBJECT_ID) REFERENCES patient(SUBJECT_ID);\n",
    "''')"
   ]
  },
  {
   "cell_type": "code",
   "execution_count": 16,
   "metadata": {},
   "outputs": [],
   "source": [
    "cursor.execute('''\n",
    "ALTER TABLE chartevents\n",
    "ADD FOREIGN KEY (HADM_ID) REFERENCES admissions(HADM_ID);\n",
    "''')"
   ]
  },
  {
   "cell_type": "code",
   "execution_count": 17,
   "metadata": {},
   "outputs": [],
   "source": [
    "cursor.execute('''\n",
    "ALTER TABLE callout\n",
    "ADD FOREIGN KEY (SUBJECT_ID) REFERENCES patient(SUBJECT_ID);\n",
    "''')"
   ]
  },
  {
   "cell_type": "code",
   "execution_count": 18,
   "metadata": {},
   "outputs": [],
   "source": [
    "cursor.execute('''\n",
    "ALTER TABLE callout\n",
    "ADD FOREIGN KEY (HADM_ID) REFERENCES admissions(HADM_ID);\n",
    "''')"
   ]
  },
  {
   "cell_type": "code",
   "execution_count": 19,
   "metadata": {},
   "outputs": [],
   "source": [
    "cursor.execute('''\n",
    "ALTER TABLE cptevents\n",
    "ADD FOREIGN KEY (SUBJECT_ID) REFERENCES patient(SUBJECT_ID);\n",
    "''')"
   ]
  },
  {
   "cell_type": "code",
   "execution_count": 20,
   "metadata": {},
   "outputs": [],
   "source": [
    "cursor.execute('''\n",
    "ALTER TABLE cptevents\n",
    "ADD FOREIGN KEY (HADM_ID) REFERENCES admissions(HADM_ID);\n",
    "''')"
   ]
  },
  {
   "cell_type": "code",
   "execution_count": 21,
   "metadata": {},
   "outputs": [],
   "source": [
    "cursor.execute('''\n",
    "ALTER TABLE chartevents\n",
    "ADD FOREIGN KEY (SUBJECT_ID) REFERENCES patient(SUBJECT_ID);\n",
    "''')"
   ]
  },
  {
   "cell_type": "code",
   "execution_count": null,
   "metadata": {},
   "outputs": [],
   "source": []
  },
  {
   "cell_type": "code",
   "execution_count": 37,
   "metadata": {},
   "outputs": [],
   "source": [
    "# Guardar los cambios y cerrar la conexión\n",
    "cnx.commit()\n",
    "cursor.close()\n",
    "cnx.close()"
   ]
  }
 ],
 "metadata": {
  "kernelspec": {
   "display_name": "Python 3",
   "language": "python",
   "name": "python3"
  },
  "language_info": {
   "codemirror_mode": {
    "name": "ipython",
    "version": 3
   },
   "file_extension": ".py",
   "mimetype": "text/x-python",
   "name": "python",
   "nbconvert_exporter": "python",
   "pygments_lexer": "ipython3",
   "version": "3.11.2"
  },
  "orig_nbformat": 4
 },
 "nbformat": 4,
 "nbformat_minor": 2
}
